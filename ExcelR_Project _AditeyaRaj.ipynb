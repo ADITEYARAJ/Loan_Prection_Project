{
 "cells": [
  {
   "cell_type": "code",
   "execution_count": 171,
   "metadata": {
    "colab": {},
    "colab_type": "code",
    "id": "7kU-_wBfI1Jy"
   },
   "outputs": [],
   "source": [
    "import pandas as pd\n",
    "import numpy as np\n",
    "import matplotlib.pyplot as plt\n",
    "import os\n",
    "import streamlit as st"
   ]
  },
  {
   "cell_type": "code",
   "execution_count": 172,
   "metadata": {},
   "outputs": [
    {
     "data": {
      "text/plain": [
       "'C:\\\\Users\\\\ADITEYA RAJ\\\\Desktop\\\\Excelr project'"
      ]
     },
     "execution_count": 172,
     "metadata": {},
     "output_type": "execute_result"
    }
   ],
   "source": [
    "os.getcwd()"
   ]
  },
  {
   "cell_type": "code",
   "execution_count": 173,
   "metadata": {},
   "outputs": [],
   "source": [
    "#os.chdir()"
   ]
  },
  {
   "cell_type": "code",
   "execution_count": 174,
   "metadata": {
    "colab": {
     "base_uri": "https://localhost:8080/",
     "height": 284
    },
    "colab_type": "code",
    "id": "XKfMD2Ijt3i0",
    "outputId": "f4da5716-fb25-463f-94fe-e876d881b70e"
   },
   "outputs": [],
   "source": [
    "#%pip install plotnine \n",
    "\n",
    "st.title(\"\"\"#Data Science project to check a person is defaulter or not defaulter\"\"\")\n",
    "st.write(\"\"\"DataFrame\"\"\")"
   ]
  },
  {
   "cell_type": "code",
   "execution_count": 175,
   "metadata": {
    "colab": {},
    "colab_type": "code",
    "id": "AK72GQ1yAceY"
   },
   "outputs": [],
   "source": [
    "from plotnine import *"
   ]
  },
  {
   "cell_type": "code",
   "execution_count": 176,
   "metadata": {},
   "outputs": [],
   "source": [
    "import missingno as msno"
   ]
  },
  {
   "cell_type": "code",
   "execution_count": 177,
   "metadata": {
    "colab": {
     "base_uri": "https://localhost:8080/",
     "height": 792
    },
    "colab_type": "code",
    "id": "wdvnq0wmB_oS",
    "outputId": "0e1dc99d-52f0-4612-83d7-38f647a59c58"
   },
   "outputs": [
    {
     "data": {
      "text/html": [
       "<div>\n",
       "<style scoped>\n",
       "    .dataframe tbody tr th:only-of-type {\n",
       "        vertical-align: middle;\n",
       "    }\n",
       "\n",
       "    .dataframe tbody tr th {\n",
       "        vertical-align: top;\n",
       "    }\n",
       "\n",
       "    .dataframe thead th {\n",
       "        text-align: right;\n",
       "    }\n",
       "</style>\n",
       "<table border=\"1\" class=\"dataframe\">\n",
       "  <thead>\n",
       "    <tr style=\"text-align: right;\">\n",
       "      <th></th>\n",
       "      <th>Name</th>\n",
       "      <th>City</th>\n",
       "      <th>State</th>\n",
       "      <th>Zip</th>\n",
       "      <th>Bank</th>\n",
       "      <th>BankState</th>\n",
       "      <th>CCSC</th>\n",
       "      <th>ApprovalDate</th>\n",
       "      <th>ApprovalFY</th>\n",
       "      <th>Term</th>\n",
       "      <th>...</th>\n",
       "      <th>RevLineCr</th>\n",
       "      <th>LowDoc</th>\n",
       "      <th>ChgOffDate</th>\n",
       "      <th>DisbursementDate</th>\n",
       "      <th>DisbursementGross</th>\n",
       "      <th>BalanceGross</th>\n",
       "      <th>MIS_Status</th>\n",
       "      <th>ChgOffPrinGr</th>\n",
       "      <th>GrAppv</th>\n",
       "      <th>SBA_Appv</th>\n",
       "    </tr>\n",
       "  </thead>\n",
       "  <tbody>\n",
       "    <tr>\n",
       "      <th>0</th>\n",
       "      <td>ABC HOBBYCRAFT</td>\n",
       "      <td>EVANSVILLE</td>\n",
       "      <td>IN</td>\n",
       "      <td>47711</td>\n",
       "      <td>FIFTH THIRD BANK</td>\n",
       "      <td>OH</td>\n",
       "      <td>451120</td>\n",
       "      <td>28-Feb-97</td>\n",
       "      <td>1997</td>\n",
       "      <td>84</td>\n",
       "      <td>...</td>\n",
       "      <td>N</td>\n",
       "      <td>Y</td>\n",
       "      <td>NaN</td>\n",
       "      <td>28-Feb-99</td>\n",
       "      <td>$60,000.00</td>\n",
       "      <td>$0.00</td>\n",
       "      <td>P I F</td>\n",
       "      <td>$0.00</td>\n",
       "      <td>$60,000.00</td>\n",
       "      <td>$48,000.00</td>\n",
       "    </tr>\n",
       "    <tr>\n",
       "      <th>1</th>\n",
       "      <td>LANDMARK BAR &amp; GRILLE (THE)</td>\n",
       "      <td>NEW PARIS</td>\n",
       "      <td>IN</td>\n",
       "      <td>46526</td>\n",
       "      <td>1ST SOURCE BANK</td>\n",
       "      <td>IN</td>\n",
       "      <td>722410</td>\n",
       "      <td>28-Feb-97</td>\n",
       "      <td>1997</td>\n",
       "      <td>60</td>\n",
       "      <td>...</td>\n",
       "      <td>N</td>\n",
       "      <td>Y</td>\n",
       "      <td>NaN</td>\n",
       "      <td>31-May-97</td>\n",
       "      <td>$40,000.00</td>\n",
       "      <td>$0.00</td>\n",
       "      <td>P I F</td>\n",
       "      <td>$0.00</td>\n",
       "      <td>$40,000.00</td>\n",
       "      <td>$32,000.00</td>\n",
       "    </tr>\n",
       "    <tr>\n",
       "      <th>2</th>\n",
       "      <td>WHITLOCK DDS, TODD M.</td>\n",
       "      <td>BLOOMINGTON</td>\n",
       "      <td>IN</td>\n",
       "      <td>47401</td>\n",
       "      <td>GRANT COUNTY STATE BANK</td>\n",
       "      <td>IN</td>\n",
       "      <td>621210</td>\n",
       "      <td>28-Feb-97</td>\n",
       "      <td>1997</td>\n",
       "      <td>180</td>\n",
       "      <td>...</td>\n",
       "      <td>N</td>\n",
       "      <td>N</td>\n",
       "      <td>NaN</td>\n",
       "      <td>31-Dec-97</td>\n",
       "      <td>$287,000.00</td>\n",
       "      <td>$0.00</td>\n",
       "      <td>P I F</td>\n",
       "      <td>$0.00</td>\n",
       "      <td>$287,000.00</td>\n",
       "      <td>$215,250.00</td>\n",
       "    </tr>\n",
       "    <tr>\n",
       "      <th>3</th>\n",
       "      <td>BIG BUCKS PAWN &amp; JEWELRY, LLC</td>\n",
       "      <td>BROKEN ARROW</td>\n",
       "      <td>OK</td>\n",
       "      <td>74012</td>\n",
       "      <td>1ST NATL BK &amp; TR CO OF BROKEN</td>\n",
       "      <td>OK</td>\n",
       "      <td>0</td>\n",
       "      <td>28-Feb-97</td>\n",
       "      <td>1997</td>\n",
       "      <td>60</td>\n",
       "      <td>...</td>\n",
       "      <td>N</td>\n",
       "      <td>Y</td>\n",
       "      <td>NaN</td>\n",
       "      <td>30-Jun-97</td>\n",
       "      <td>$35,000.00</td>\n",
       "      <td>$0.00</td>\n",
       "      <td>P I F</td>\n",
       "      <td>$0.00</td>\n",
       "      <td>$35,000.00</td>\n",
       "      <td>$28,000.00</td>\n",
       "    </tr>\n",
       "    <tr>\n",
       "      <th>4</th>\n",
       "      <td>ANASTASIA CONFECTIONS, INC.</td>\n",
       "      <td>ORLANDO</td>\n",
       "      <td>FL</td>\n",
       "      <td>32801</td>\n",
       "      <td>FLORIDA BUS. DEVEL CORP</td>\n",
       "      <td>FL</td>\n",
       "      <td>0</td>\n",
       "      <td>28-Feb-97</td>\n",
       "      <td>1997</td>\n",
       "      <td>240</td>\n",
       "      <td>...</td>\n",
       "      <td>N</td>\n",
       "      <td>N</td>\n",
       "      <td>NaN</td>\n",
       "      <td>14-May-97</td>\n",
       "      <td>$229,000.00</td>\n",
       "      <td>$0.00</td>\n",
       "      <td>P I F</td>\n",
       "      <td>$0.00</td>\n",
       "      <td>$229,000.00</td>\n",
       "      <td>$229,000.00</td>\n",
       "    </tr>\n",
       "    <tr>\n",
       "      <th>...</th>\n",
       "      <td>...</td>\n",
       "      <td>...</td>\n",
       "      <td>...</td>\n",
       "      <td>...</td>\n",
       "      <td>...</td>\n",
       "      <td>...</td>\n",
       "      <td>...</td>\n",
       "      <td>...</td>\n",
       "      <td>...</td>\n",
       "      <td>...</td>\n",
       "      <td>...</td>\n",
       "      <td>...</td>\n",
       "      <td>...</td>\n",
       "      <td>...</td>\n",
       "      <td>...</td>\n",
       "      <td>...</td>\n",
       "      <td>...</td>\n",
       "      <td>...</td>\n",
       "      <td>...</td>\n",
       "      <td>...</td>\n",
       "      <td>...</td>\n",
       "    </tr>\n",
       "    <tr>\n",
       "      <th>149994</th>\n",
       "      <td>BERKS EMERGENCY PHYSICIANS, LL</td>\n",
       "      <td>READING</td>\n",
       "      <td>PA</td>\n",
       "      <td>19604</td>\n",
       "      <td>CITIZENS BANK NATL ASSOC</td>\n",
       "      <td>RI</td>\n",
       "      <td>621493</td>\n",
       "      <td>30-Oct-06</td>\n",
       "      <td>2007</td>\n",
       "      <td>32</td>\n",
       "      <td>...</td>\n",
       "      <td>Y</td>\n",
       "      <td>N</td>\n",
       "      <td>20-Apr-11</td>\n",
       "      <td>30-Nov-06</td>\n",
       "      <td>$142,207.00</td>\n",
       "      <td>$0.00</td>\n",
       "      <td>CHGOFF</td>\n",
       "      <td>$43,074.00</td>\n",
       "      <td>$100,000.00</td>\n",
       "      <td>$50,000.00</td>\n",
       "    </tr>\n",
       "    <tr>\n",
       "      <th>149995</th>\n",
       "      <td>Siding Wizard, Inc.</td>\n",
       "      <td>Belleville</td>\n",
       "      <td>MI</td>\n",
       "      <td>48111</td>\n",
       "      <td>PNC BANK, NATIONAL ASSOCIATION</td>\n",
       "      <td>DE</td>\n",
       "      <td>236118</td>\n",
       "      <td>30-Oct-06</td>\n",
       "      <td>2007</td>\n",
       "      <td>24</td>\n",
       "      <td>...</td>\n",
       "      <td>Y</td>\n",
       "      <td>N</td>\n",
       "      <td>17-Dec-09</td>\n",
       "      <td>30-Nov-06</td>\n",
       "      <td>$39,694.00</td>\n",
       "      <td>$0.00</td>\n",
       "      <td>CHGOFF</td>\n",
       "      <td>$18,812.00</td>\n",
       "      <td>$20,000.00</td>\n",
       "      <td>$10,000.00</td>\n",
       "    </tr>\n",
       "    <tr>\n",
       "      <th>149996</th>\n",
       "      <td>MARSH APPRAISAL SERVICES, INC.</td>\n",
       "      <td>FAIRFAX</td>\n",
       "      <td>VA</td>\n",
       "      <td>22032</td>\n",
       "      <td>CAPITAL ONE NATL ASSOC</td>\n",
       "      <td>VA</td>\n",
       "      <td>541611</td>\n",
       "      <td>30-Oct-06</td>\n",
       "      <td>2007</td>\n",
       "      <td>84</td>\n",
       "      <td>...</td>\n",
       "      <td>N</td>\n",
       "      <td>N</td>\n",
       "      <td>NaN</td>\n",
       "      <td>30-Nov-06</td>\n",
       "      <td>$100,000.00</td>\n",
       "      <td>$0.00</td>\n",
       "      <td>P I F</td>\n",
       "      <td>$0.00</td>\n",
       "      <td>$100,000.00</td>\n",
       "      <td>$50,000.00</td>\n",
       "    </tr>\n",
       "    <tr>\n",
       "      <th>149997</th>\n",
       "      <td>Ohio Cheer Force &amp; Kids Gymnas</td>\n",
       "      <td>Columbus</td>\n",
       "      <td>OH</td>\n",
       "      <td>43228</td>\n",
       "      <td>THE HUNTINGTON NATIONAL BANK</td>\n",
       "      <td>OH</td>\n",
       "      <td>812990</td>\n",
       "      <td>30-Oct-06</td>\n",
       "      <td>2007</td>\n",
       "      <td>60</td>\n",
       "      <td>...</td>\n",
       "      <td>Y</td>\n",
       "      <td>N</td>\n",
       "      <td>NaN</td>\n",
       "      <td>28-Feb-07</td>\n",
       "      <td>$25,000.00</td>\n",
       "      <td>$0.00</td>\n",
       "      <td>P I F</td>\n",
       "      <td>$0.00</td>\n",
       "      <td>$25,000.00</td>\n",
       "      <td>$12,500.00</td>\n",
       "    </tr>\n",
       "    <tr>\n",
       "      <th>149998</th>\n",
       "      <td>GUADALAJARA MEXICAN RESTAURANT</td>\n",
       "      <td>WAITE PARK</td>\n",
       "      <td>MN</td>\n",
       "      <td>56387</td>\n",
       "      <td>CENTRAL MINNESOTA DEVEL CO</td>\n",
       "      <td>MN</td>\n",
       "      <td>722110</td>\n",
       "      <td>30-May-06</td>\n",
       "      <td>2006</td>\n",
       "      <td>240</td>\n",
       "      <td>...</td>\n",
       "      <td>0</td>\n",
       "      <td>N</td>\n",
       "      <td>NaN</td>\n",
       "      <td>12-Dec-07</td>\n",
       "      <td>$708,000.00</td>\n",
       "      <td>$0.00</td>\n",
       "      <td>P I F</td>\n",
       "      <td>$0.00</td>\n",
       "      <td>$708,000.00</td>\n",
       "      <td>$708,000.00</td>\n",
       "    </tr>\n",
       "  </tbody>\n",
       "</table>\n",
       "<p>149999 rows × 26 columns</p>\n",
       "</div>"
      ],
      "text/plain": [
       "                                  Name          City State    Zip  \\\n",
       "0                       ABC HOBBYCRAFT    EVANSVILLE    IN  47711   \n",
       "1          LANDMARK BAR & GRILLE (THE)     NEW PARIS    IN  46526   \n",
       "2                WHITLOCK DDS, TODD M.   BLOOMINGTON    IN  47401   \n",
       "3        BIG BUCKS PAWN & JEWELRY, LLC  BROKEN ARROW    OK  74012   \n",
       "4          ANASTASIA CONFECTIONS, INC.       ORLANDO    FL  32801   \n",
       "...                                ...           ...   ...    ...   \n",
       "149994  BERKS EMERGENCY PHYSICIANS, LL       READING    PA  19604   \n",
       "149995             Siding Wizard, Inc.    Belleville    MI  48111   \n",
       "149996  MARSH APPRAISAL SERVICES, INC.       FAIRFAX    VA  22032   \n",
       "149997  Ohio Cheer Force & Kids Gymnas      Columbus    OH  43228   \n",
       "149998  GUADALAJARA MEXICAN RESTAURANT    WAITE PARK    MN  56387   \n",
       "\n",
       "                                  Bank BankState    CCSC ApprovalDate  \\\n",
       "0                     FIFTH THIRD BANK        OH  451120    28-Feb-97   \n",
       "1                      1ST SOURCE BANK        IN  722410    28-Feb-97   \n",
       "2              GRANT COUNTY STATE BANK        IN  621210    28-Feb-97   \n",
       "3        1ST NATL BK & TR CO OF BROKEN        OK       0    28-Feb-97   \n",
       "4              FLORIDA BUS. DEVEL CORP        FL       0    28-Feb-97   \n",
       "...                                ...       ...     ...          ...   \n",
       "149994        CITIZENS BANK NATL ASSOC        RI  621493    30-Oct-06   \n",
       "149995  PNC BANK, NATIONAL ASSOCIATION        DE  236118    30-Oct-06   \n",
       "149996          CAPITAL ONE NATL ASSOC        VA  541611    30-Oct-06   \n",
       "149997    THE HUNTINGTON NATIONAL BANK        OH  812990    30-Oct-06   \n",
       "149998      CENTRAL MINNESOTA DEVEL CO        MN  722110    30-May-06   \n",
       "\n",
       "        ApprovalFY  Term  ...  RevLineCr  LowDoc  ChgOffDate  \\\n",
       "0             1997    84  ...          N       Y         NaN   \n",
       "1             1997    60  ...          N       Y         NaN   \n",
       "2             1997   180  ...          N       N         NaN   \n",
       "3             1997    60  ...          N       Y         NaN   \n",
       "4             1997   240  ...          N       N         NaN   \n",
       "...            ...   ...  ...        ...     ...         ...   \n",
       "149994        2007    32  ...          Y       N   20-Apr-11   \n",
       "149995        2007    24  ...          Y       N   17-Dec-09   \n",
       "149996        2007    84  ...          N       N         NaN   \n",
       "149997        2007    60  ...          Y       N         NaN   \n",
       "149998        2006   240  ...          0       N         NaN   \n",
       "\n",
       "        DisbursementDate  DisbursementGross  BalanceGross MIS_Status  \\\n",
       "0              28-Feb-99        $60,000.00         $0.00       P I F   \n",
       "1              31-May-97        $40,000.00         $0.00       P I F   \n",
       "2              31-Dec-97       $287,000.00         $0.00       P I F   \n",
       "3              30-Jun-97        $35,000.00         $0.00       P I F   \n",
       "4              14-May-97       $229,000.00         $0.00       P I F   \n",
       "...                  ...                ...           ...        ...   \n",
       "149994         30-Nov-06       $142,207.00         $0.00      CHGOFF   \n",
       "149995         30-Nov-06        $39,694.00         $0.00      CHGOFF   \n",
       "149996         30-Nov-06       $100,000.00         $0.00       P I F   \n",
       "149997         28-Feb-07        $25,000.00         $0.00       P I F   \n",
       "149998         12-Dec-07       $708,000.00         $0.00       P I F   \n",
       "\n",
       "       ChgOffPrinGr        GrAppv      SBA_Appv  \n",
       "0            $0.00    $60,000.00    $48,000.00   \n",
       "1            $0.00    $40,000.00    $32,000.00   \n",
       "2            $0.00   $287,000.00   $215,250.00   \n",
       "3            $0.00    $35,000.00    $28,000.00   \n",
       "4            $0.00   $229,000.00   $229,000.00   \n",
       "...             ...           ...           ...  \n",
       "149994  $43,074.00   $100,000.00    $50,000.00   \n",
       "149995  $18,812.00    $20,000.00    $10,000.00   \n",
       "149996       $0.00   $100,000.00    $50,000.00   \n",
       "149997       $0.00    $25,000.00    $12,500.00   \n",
       "149998       $0.00   $708,000.00   $708,000.00   \n",
       "\n",
       "[149999 rows x 26 columns]"
      ]
     },
     "execution_count": 177,
     "metadata": {},
     "output_type": "execute_result"
    }
   ],
   "source": [
    "r='C:/Users/ADITEYA RAJ/Desktop/Excelr project/bank_final.csv'\n",
    "df=pd.read_csv(r)\n",
    "df"
   ]
  },
  {
   "cell_type": "code",
   "execution_count": 178,
   "metadata": {},
   "outputs": [
    {
     "data": {
      "text/plain": [
       "<streamlit.DeltaGenerator.DeltaGenerator at 0x27bc2f8b088>"
      ]
     },
     "execution_count": 178,
     "metadata": {},
     "output_type": "execute_result"
    }
   ],
   "source": [
    "st.subheader('Data Information')\n",
    "st.dataframe(df)"
   ]
  },
  {
   "cell_type": "code",
   "execution_count": 179,
   "metadata": {},
   "outputs": [
    {
     "data": {
      "text/html": [
       "<div>\n",
       "<style scoped>\n",
       "    .dataframe tbody tr th:only-of-type {\n",
       "        vertical-align: middle;\n",
       "    }\n",
       "\n",
       "    .dataframe tbody tr th {\n",
       "        vertical-align: top;\n",
       "    }\n",
       "\n",
       "    .dataframe thead th {\n",
       "        text-align: right;\n",
       "    }\n",
       "</style>\n",
       "<table border=\"1\" class=\"dataframe\">\n",
       "  <thead>\n",
       "    <tr style=\"text-align: right;\">\n",
       "      <th></th>\n",
       "      <th>Zip</th>\n",
       "      <th>CCSC</th>\n",
       "      <th>ApprovalFY</th>\n",
       "      <th>Term</th>\n",
       "      <th>NoEmp</th>\n",
       "      <th>NewExist</th>\n",
       "      <th>CreateJob</th>\n",
       "      <th>RetainedJob</th>\n",
       "      <th>FranchiseCode</th>\n",
       "      <th>UrbanRural</th>\n",
       "    </tr>\n",
       "  </thead>\n",
       "  <tbody>\n",
       "    <tr>\n",
       "      <th>count</th>\n",
       "      <td>149999.000000</td>\n",
       "      <td>149999.000000</td>\n",
       "      <td>149999.000000</td>\n",
       "      <td>149999.000000</td>\n",
       "      <td>149999.000000</td>\n",
       "      <td>149999.000000</td>\n",
       "      <td>149999.000000</td>\n",
       "      <td>149999.000000</td>\n",
       "      <td>149999.000000</td>\n",
       "      <td>149999.000000</td>\n",
       "    </tr>\n",
       "    <tr>\n",
       "      <th>mean</th>\n",
       "      <td>49849.046527</td>\n",
       "      <td>401567.535270</td>\n",
       "      <td>2002.302889</td>\n",
       "      <td>93.010887</td>\n",
       "      <td>9.313749</td>\n",
       "      <td>1.319535</td>\n",
       "      <td>1.278455</td>\n",
       "      <td>3.685918</td>\n",
       "      <td>1655.999787</td>\n",
       "      <td>0.767905</td>\n",
       "    </tr>\n",
       "    <tr>\n",
       "      <th>std</th>\n",
       "      <td>31159.635854</td>\n",
       "      <td>256946.069805</td>\n",
       "      <td>5.212507</td>\n",
       "      <td>69.306154</td>\n",
       "      <td>78.956632</td>\n",
       "      <td>0.468125</td>\n",
       "      <td>10.958749</td>\n",
       "      <td>27.679464</td>\n",
       "      <td>9956.791183</td>\n",
       "      <td>0.633091</td>\n",
       "    </tr>\n",
       "    <tr>\n",
       "      <th>min</th>\n",
       "      <td>0.000000</td>\n",
       "      <td>0.000000</td>\n",
       "      <td>1962.000000</td>\n",
       "      <td>0.000000</td>\n",
       "      <td>0.000000</td>\n",
       "      <td>0.000000</td>\n",
       "      <td>0.000000</td>\n",
       "      <td>0.000000</td>\n",
       "      <td>0.000000</td>\n",
       "      <td>0.000000</td>\n",
       "    </tr>\n",
       "    <tr>\n",
       "      <th>25%</th>\n",
       "      <td>20854.000000</td>\n",
       "      <td>236118.000000</td>\n",
       "      <td>1998.000000</td>\n",
       "      <td>57.000000</td>\n",
       "      <td>2.000000</td>\n",
       "      <td>1.000000</td>\n",
       "      <td>0.000000</td>\n",
       "      <td>0.000000</td>\n",
       "      <td>0.000000</td>\n",
       "      <td>0.000000</td>\n",
       "    </tr>\n",
       "    <tr>\n",
       "      <th>50%</th>\n",
       "      <td>48053.000000</td>\n",
       "      <td>447110.000000</td>\n",
       "      <td>2005.000000</td>\n",
       "      <td>84.000000</td>\n",
       "      <td>4.000000</td>\n",
       "      <td>1.000000</td>\n",
       "      <td>0.000000</td>\n",
       "      <td>1.000000</td>\n",
       "      <td>1.000000</td>\n",
       "      <td>1.000000</td>\n",
       "    </tr>\n",
       "    <tr>\n",
       "      <th>75%</th>\n",
       "      <td>80003.000000</td>\n",
       "      <td>561612.000000</td>\n",
       "      <td>2006.000000</td>\n",
       "      <td>84.000000</td>\n",
       "      <td>8.000000</td>\n",
       "      <td>2.000000</td>\n",
       "      <td>0.000000</td>\n",
       "      <td>4.000000</td>\n",
       "      <td>1.000000</td>\n",
       "      <td>1.000000</td>\n",
       "    </tr>\n",
       "    <tr>\n",
       "      <th>max</th>\n",
       "      <td>99999.000000</td>\n",
       "      <td>928120.000000</td>\n",
       "      <td>2007.000000</td>\n",
       "      <td>480.000000</td>\n",
       "      <td>9999.000000</td>\n",
       "      <td>2.000000</td>\n",
       "      <td>3000.000000</td>\n",
       "      <td>9500.000000</td>\n",
       "      <td>91999.000000</td>\n",
       "      <td>2.000000</td>\n",
       "    </tr>\n",
       "  </tbody>\n",
       "</table>\n",
       "</div>"
      ],
      "text/plain": [
       "                 Zip           CCSC     ApprovalFY           Term  \\\n",
       "count  149999.000000  149999.000000  149999.000000  149999.000000   \n",
       "mean    49849.046527  401567.535270    2002.302889      93.010887   \n",
       "std     31159.635854  256946.069805       5.212507      69.306154   \n",
       "min         0.000000       0.000000    1962.000000       0.000000   \n",
       "25%     20854.000000  236118.000000    1998.000000      57.000000   \n",
       "50%     48053.000000  447110.000000    2005.000000      84.000000   \n",
       "75%     80003.000000  561612.000000    2006.000000      84.000000   \n",
       "max     99999.000000  928120.000000    2007.000000     480.000000   \n",
       "\n",
       "               NoEmp       NewExist      CreateJob    RetainedJob  \\\n",
       "count  149999.000000  149999.000000  149999.000000  149999.000000   \n",
       "mean        9.313749       1.319535       1.278455       3.685918   \n",
       "std        78.956632       0.468125      10.958749      27.679464   \n",
       "min         0.000000       0.000000       0.000000       0.000000   \n",
       "25%         2.000000       1.000000       0.000000       0.000000   \n",
       "50%         4.000000       1.000000       0.000000       1.000000   \n",
       "75%         8.000000       2.000000       0.000000       4.000000   \n",
       "max      9999.000000       2.000000    3000.000000    9500.000000   \n",
       "\n",
       "       FranchiseCode     UrbanRural  \n",
       "count  149999.000000  149999.000000  \n",
       "mean     1655.999787       0.767905  \n",
       "std      9956.791183       0.633091  \n",
       "min         0.000000       0.000000  \n",
       "25%         0.000000       0.000000  \n",
       "50%         1.000000       1.000000  \n",
       "75%         1.000000       1.000000  \n",
       "max     91999.000000       2.000000  "
      ]
     },
     "execution_count": 179,
     "metadata": {},
     "output_type": "execute_result"
    }
   ],
   "source": [
    "df.describe()"
   ]
  },
  {
   "cell_type": "code",
   "execution_count": 180,
   "metadata": {},
   "outputs": [
    {
     "data": {
      "text/plain": [
       "<matplotlib.axes._subplots.AxesSubplot at 0x27bde180f48>"
      ]
     },
     "execution_count": 180,
     "metadata": {},
     "output_type": "execute_result"
    },
    {
     "data": {
      "image/png": "[encoded data removed]",
      "text/plain": [
       "<Figure size 1440x864 with 2 Axes>"
      ]
     },
     "metadata": {
      "needs_background": "light"
     },
     "output_type": "display_data"
    }
   ],
   "source": [
    " msno.heatmap(df)"
   ]
  },
  {
   "cell_type": "code",
   "execution_count": 181,
   "metadata": {},
   "outputs": [
    {
     "data": {
      "text/plain": [
       "<matplotlib.axes._subplots.AxesSubplot at 0x27bc7e07e08>"
      ]
     },
     "execution_count": 181,
     "metadata": {},
     "output_type": "execute_result"
    },
    {
     "data": {
      "image/png": "[encoded data removed]",
      "text/plain": [
       "<Figure size 1728x720 with 3 Axes>"
      ]
     },
     "metadata": {
      "needs_background": "light"
     },
     "output_type": "display_data"
    }
   ],
   "source": [
    "msno.bar(df)"
   ]
  },
  {
   "cell_type": "code",
   "execution_count": 182,
   "metadata": {},
   "outputs": [
    {
     "name": "stdout",
     "output_type": "stream",
     "text": [
      "<class 'pandas.core.frame.DataFrame'>\n",
      "RangeIndex: 149999 entries, 0 to 149998\n",
      "Data columns (total 26 columns):\n",
      " #   Column             Non-Null Count   Dtype \n",
      "---  ------             --------------   ----- \n",
      " 0   Name               149991 non-null  object\n",
      " 1   City               149998 non-null  object\n",
      " 2   State              149997 non-null  object\n",
      " 3   Zip                149999 non-null  int64 \n",
      " 4   Bank               149852 non-null  object\n",
      " 5   BankState          149851 non-null  object\n",
      " 6   CCSC               149999 non-null  int64 \n",
      " 7   ApprovalDate       149999 non-null  object\n",
      " 8   ApprovalFY         149999 non-null  int64 \n",
      " 9   Term               149999 non-null  int64 \n",
      " 10  NoEmp              149999 non-null  int64 \n",
      " 11  NewExist           149999 non-null  int64 \n",
      " 12  CreateJob          149999 non-null  int64 \n",
      " 13  RetainedJob        149999 non-null  int64 \n",
      " 14  FranchiseCode      149999 non-null  int64 \n",
      " 15  UrbanRural         149999 non-null  int64 \n",
      " 16  RevLineCr          149976 non-null  object\n",
      " 17  LowDoc             149999 non-null  object\n",
      " 18  ChgOffDate         40466 non-null   object\n",
      " 19  DisbursementDate   149774 non-null  object\n",
      " 20  DisbursementGross  149999 non-null  object\n",
      " 21  BalanceGross       149999 non-null  object\n",
      " 22  MIS_Status         149131 non-null  object\n",
      " 23  ChgOffPrinGr       149999 non-null  object\n",
      " 24  GrAppv             149999 non-null  object\n",
      " 25  SBA_Appv           149999 non-null  object\n",
      "dtypes: int64(10), object(16)\n",
      "memory usage: 29.8+ MB\n"
     ]
    }
   ],
   "source": [
    "df.info()"
   ]
  },
  {
   "cell_type": "code",
   "execution_count": 183,
   "metadata": {},
   "outputs": [
    {
     "data": {
      "text/plain": [
       "Name                 object\n",
       "City                 object\n",
       "State                object\n",
       "Zip                   int64\n",
       "Bank                 object\n",
       "BankState            object\n",
       "CCSC                  int64\n",
       "ApprovalDate         object\n",
       "ApprovalFY            int64\n",
       "Term                  int64\n",
       "NoEmp                 int64\n",
       "NewExist              int64\n",
       "CreateJob             int64\n",
       "RetainedJob           int64\n",
       "FranchiseCode         int64\n",
       "UrbanRural            int64\n",
       "RevLineCr            object\n",
       "LowDoc               object\n",
       "ChgOffDate           object\n",
       "DisbursementDate     object\n",
       "DisbursementGross    object\n",
       "BalanceGross         object\n",
       "MIS_Status           object\n",
       "ChgOffPrinGr         object\n",
       "GrAppv               object\n",
       "SBA_Appv             object\n",
       "dtype: object"
      ]
     },
     "execution_count": 183,
     "metadata": {},
     "output_type": "execute_result"
    }
   ],
   "source": [
    "df.dtypes"
   ]
  },
  {
   "cell_type": "code",
   "execution_count": 184,
   "metadata": {},
   "outputs": [
    {
     "data": {
      "text/plain": [
       "Name                      8\n",
       "City                      1\n",
       "State                     2\n",
       "Zip                       0\n",
       "Bank                    147\n",
       "BankState               148\n",
       "CCSC                      0\n",
       "ApprovalDate              0\n",
       "ApprovalFY                0\n",
       "Term                      0\n",
       "NoEmp                     0\n",
       "NewExist                  0\n",
       "CreateJob                 0\n",
       "RetainedJob               0\n",
       "FranchiseCode             0\n",
       "UrbanRural                0\n",
       "RevLineCr                23\n",
       "LowDoc                    0\n",
       "ChgOffDate           109533\n",
       "DisbursementDate        225\n",
       "DisbursementGross         0\n",
       "BalanceGross              0\n",
       "MIS_Status              868\n",
       "ChgOffPrinGr              0\n",
       "GrAppv                    0\n",
       "SBA_Appv                  0\n",
       "dtype: int64"
      ]
     },
     "execution_count": 184,
     "metadata": {},
     "output_type": "execute_result"
    }
   ],
   "source": [
    "df.isna().sum()"
   ]
  },
  {
   "cell_type": "code",
   "execution_count": 185,
   "metadata": {},
   "outputs": [
    {
     "data": {
      "text/plain": [
       "Name                 140883\n",
       "City                  15792\n",
       "State                    51\n",
       "Zip                   19372\n",
       "Bank                   2932\n",
       "BankState                52\n",
       "CCSC                   1185\n",
       "ApprovalDate           2548\n",
       "ApprovalFY               23\n",
       "Term                    342\n",
       "NoEmp                   291\n",
       "NewExist                  3\n",
       "CreateJob               105\n",
       "RetainedJob             167\n",
       "FranchiseCode          1034\n",
       "UrbanRural                3\n",
       "RevLineCr                 7\n",
       "LowDoc                    4\n",
       "ChgOffDate             4234\n",
       "DisbursementDate       1962\n",
       "DisbursementGross     38747\n",
       "BalanceGross              3\n",
       "MIS_Status                2\n",
       "ChgOffPrinGr          28116\n",
       "GrAppv                 5986\n",
       "SBA_Appv               8220\n",
       "dtype: int64"
      ]
     },
     "execution_count": 185,
     "metadata": {},
     "output_type": "execute_result"
    }
   ],
   "source": [
    "df.nunique()"
   ]
  },
  {
   "cell_type": "markdown",
   "metadata": {
    "colab_type": "text",
    "id": "pBBKQUOLn7UX"
   },
   "source": [
    "#COLUMNS WIZE ANALYSIS OF DATA"
   ]
  },
  {
   "cell_type": "markdown",
   "metadata": {
    "colab_type": "text",
    "id": "6aWM-ORHoEbk"
   },
   "source": [
    "##1.]NAME-:"
   ]
  },
  {
   "cell_type": "markdown",
   "metadata": {
    "colab_type": "text",
    "id": "yEQmL4WqP94_"
   },
   "source": [
    "Name are the name of the customers/shops/factory who took loan from a particular Bank given in the banks columns"
   ]
  },
  {
   "cell_type": "code",
   "execution_count": 186,
   "metadata": {
    "colab": {
     "base_uri": "https://localhost:8080/",
     "height": 33
    },
    "colab_type": "code",
    "id": "BHpSe2sdMY3S",
    "outputId": "0c24ce26-c4b4-4c1d-e236-4cec1aa226ec"
   },
   "outputs": [
    {
     "data": {
      "text/plain": [
       "140884"
      ]
     },
     "execution_count": 186,
     "metadata": {},
     "output_type": "execute_result"
    }
   ],
   "source": [
    "len(df.Name.unique())"
   ]
  },
  {
   "cell_type": "markdown",
   "metadata": {
    "colab_type": "text",
    "id": "VwG7LfxrQ-EE"
   },
   "source": [
    "out of which 140884 are unique Names"
   ]
  },
  {
   "cell_type": "code",
   "execution_count": 187,
   "metadata": {
    "colab": {
     "base_uri": "https://localhost:8080/",
     "height": 33
    },
    "colab_type": "code",
    "id": "W8dW13YwNTxh",
    "outputId": "955b57f9-e41e-4388-b7c1-b70b6dbce240"
   },
   "outputs": [
    {
     "data": {
      "text/plain": [
       "8"
      ]
     },
     "execution_count": 187,
     "metadata": {},
     "output_type": "execute_result"
    }
   ],
   "source": [
    "df.Name.isna().sum()"
   ]
  },
  {
   "cell_type": "markdown",
   "metadata": {
    "colab_type": "text",
    "id": "k48jtLFiRMXU"
   },
   "source": [
    "8 columns are having no name so we can do any analysis on that or a can do any imputation on those 8 values"
   ]
  },
  {
   "cell_type": "markdown",
   "metadata": {},
   "source": [
    "#droping \"Name\" Column because of  140884 are unique Names"
   ]
  },
  {
   "cell_type": "code",
   "execution_count": 188,
   "metadata": {
    "colab": {},
    "colab_type": "code",
    "id": "NE5oxbFrp7NH"
   },
   "outputs": [],
   "source": [
    "drop=[\"Name\"]\n",
    "df.drop(drop,inplace=True,axis=1)"
   ]
  },
  {
   "cell_type": "markdown",
   "metadata": {
    "colab_type": "text",
    "id": "TCqn5s3eoSc5"
   },
   "source": [
    "#2.]City-:"
   ]
  },
  {
   "cell_type": "code",
   "execution_count": 189,
   "metadata": {
    "colab": {
     "base_uri": "https://localhost:8080/",
     "height": 33
    },
    "colab_type": "code",
    "id": "R8WX2I5RSTkn",
    "outputId": "1db50ad7-e952-4d76-84c7-bcba88d29399"
   },
   "outputs": [
    {
     "data": {
      "text/plain": [
       "1"
      ]
     },
     "execution_count": 189,
     "metadata": {},
     "output_type": "execute_result"
    }
   ],
   "source": [
    "df.City.isna().sum()# only 1 nan value in the city columns"
   ]
  },
  {
   "cell_type": "code",
   "execution_count": 190,
   "metadata": {
    "colab": {},
    "colab_type": "code",
    "id": "-kz_vME9s98N"
   },
   "outputs": [],
   "source": [
    "df.drop(df[df.City.isna()].index,inplace=True)"
   ]
  },
  {
   "cell_type": "code",
   "execution_count": 191,
   "metadata": {
    "colab": {
     "base_uri": "https://localhost:8080/",
     "height": 217
    },
    "colab_type": "code",
    "id": "AGJ8FxhFZ0gq",
    "outputId": "e4489ac7-6698-4a54-e7e2-bace37eb1812"
   },
   "outputs": [
    {
     "data": {
      "text/plain": [
       "LOS ANGELES      1902\n",
       "NEW YORK         1583\n",
       "MIAMI            1515\n",
       "CHICAGO          1401\n",
       "HOUSTON          1351\n",
       "                 ... \n",
       "STUYVESANT          1\n",
       "FREDRICKSBURG       1\n",
       "Portville           1\n",
       "FORT APACHE         1\n",
       "Folcroft            1\n",
       "Name: City, Length: 15792, dtype: int64"
      ]
     },
     "execution_count": 191,
     "metadata": {},
     "output_type": "execute_result"
    }
   ],
   "source": [
    "df.City.value_counts()"
   ]
  },
  {
   "cell_type": "code",
   "execution_count": 192,
   "metadata": {
    "colab": {},
    "colab_type": "code",
    "id": "ahrCuEzXfBHL"
   },
   "outputs": [],
   "source": [
    "m=dict(df.City.value_counts())"
   ]
  },
  {
   "cell_type": "code",
   "execution_count": 193,
   "metadata": {
    "colab": {},
    "colab_type": "code",
    "id": "QNUb6nZGaJjs"
   },
   "outputs": [],
   "source": [
    "name=[name for name, num in m.items() if num >600] \n",
    "\n",
    "num=[num for name, num in m.items() if num >600]   "
   ]
  },
  {
   "cell_type": "code",
   "execution_count": 194,
   "metadata": {
    "colab": {
     "base_uri": "https://localhost:8080/",
     "height": 234
    },
    "colab_type": "code",
    "id": "7RHcYxMtvmcy",
    "outputId": "69a0749f-fb96-4b2a-e620-1932eb966e1c"
   },
   "outputs": [
    {
     "data": {
      "text/plain": [
       "15792"
      ]
     },
     "execution_count": 194,
     "metadata": {},
     "output_type": "execute_result"
    }
   ],
   "source": [
    "len(df.City.unique())"
   ]
  },
  {
   "cell_type": "code",
   "execution_count": 195,
   "metadata": {},
   "outputs": [
    {
     "data": {
      "text/plain": [
       "(['LOS ANGELES',\n",
       "  'NEW YORK',\n",
       "  'MIAMI',\n",
       "  'CHICAGO',\n",
       "  'HOUSTON',\n",
       "  'BROOKLYN',\n",
       "  'DALLAS',\n",
       "  'SAN DIEGO',\n",
       "  'PHOENIX',\n",
       "  'PHILADELPHIA',\n",
       "  'LAS VEGAS',\n",
       "  'ATLANTA',\n",
       "  'ROCHESTER'],\n",
       " [1902, 1583, 1515, 1401, 1351, 1099, 841, 798, 792, 662, 661, 627, 619])"
      ]
     },
     "execution_count": 195,
     "metadata": {},
     "output_type": "execute_result"
    }
   ],
   "source": [
    "name,num"
   ]
  },
  {
   "cell_type": "markdown",
   "metadata": {
    "colab_type": "text",
    "id": "WqBBZ85ynWmK"
   },
   "source": [
    "['LOS ANGELES','NEW YORK','MIAMI','CHICAGO','HOUSTON','BROOKLYN','DALLAS','SAN DIEGO','PHOENIX','PHILADELPHIA','LAS VEGAS','ATLANTA','ROCHESTER'] are the City which have customers more than 600 who took a loan"
   ]
  },
  {
   "cell_type": "markdown",
   "metadata": {
    "colab_type": "text",
    "id": "NJmO-xavOBBC"
   },
   "source": [
    "#3.]State"
   ]
  },
  {
   "cell_type": "code",
   "execution_count": 196,
   "metadata": {
    "colab": {
     "base_uri": "https://localhost:8080/",
     "height": 33
    },
    "colab_type": "code",
    "id": "rW77C3H5pUUb",
    "outputId": "4c47d509-aa17-4d01-b690-0ece52f8d849"
   },
   "outputs": [
    {
     "data": {
      "text/plain": [
       "2"
      ]
     },
     "execution_count": 196,
     "metadata": {},
     "output_type": "execute_result"
    }
   ],
   "source": [
    "df.State.isna().sum()#so we have 2 nan value in State column so droping these nan as imputation is good for these 2 values"
   ]
  },
  {
   "cell_type": "code",
   "execution_count": 197,
   "metadata": {
    "colab": {},
    "colab_type": "code",
    "id": "SyBAfo85uJR9"
   },
   "outputs": [],
   "source": [
    "df.drop(df[df.State.isna()].index,inplace=True)"
   ]
  },
  {
   "cell_type": "code",
   "execution_count": 198,
   "metadata": {
    "colab": {
     "base_uri": "https://localhost:8080/",
     "height": 33
    },
    "colab_type": "code",
    "id": "HNJlJDVvuQ10",
    "outputId": "748deca7-d947-46cb-c66e-4bd27e7f78c3"
   },
   "outputs": [
    {
     "data": {
      "text/plain": [
       "(149996, 25)"
      ]
     },
     "execution_count": 198,
     "metadata": {},
     "output_type": "execute_result"
    }
   ],
   "source": [
    "df.shape"
   ]
  },
  {
   "cell_type": "code",
   "execution_count": 199,
   "metadata": {
    "colab": {
     "base_uri": "https://localhost:8080/",
     "height": 100
    },
    "colab_type": "code",
    "id": "Lq9PdekzpCQz",
    "outputId": "d130a0a9-dd4d-40cb-87c6-c43c56241042"
   },
   "outputs": [
    {
     "data": {
      "text/plain": [
       "array(['IN', 'OK', 'FL', 'CT', 'NJ', 'NC', 'IL', 'RI', 'TX', 'VA', 'TN',\n",
       "       'AR', 'MN', 'MO', 'MA', 'CA', 'SC', 'LA', 'IA', 'OH', 'KY', 'MS',\n",
       "       'NY', 'MD', 'PA', 'OR', 'ME', 'KS', 'MI', 'AK', 'WA', 'CO', 'MT',\n",
       "       'WY', 'UT', 'NH', 'WV', 'ID', 'AZ', 'NV', 'WI', 'NM', 'GA', 'ND',\n",
       "       'VT', 'AL', 'NE', 'SD', 'HI', 'DE', 'DC'], dtype=object)"
      ]
     },
     "execution_count": 199,
     "metadata": {},
     "output_type": "execute_result"
    }
   ],
   "source": [
    "df.State.unique()# are the unique States present in the dataset"
   ]
  },
  {
   "cell_type": "code",
   "execution_count": 200,
   "metadata": {
    "colab": {},
    "colab_type": "code",
    "id": "Pur3j09CYIQu"
   },
   "outputs": [],
   "source": [
    "n=dict(df.State.value_counts())"
   ]
  },
  {
   "cell_type": "code",
   "execution_count": 201,
   "metadata": {
    "colab": {
     "base_uri": "https://localhost:8080/",
     "height": 458
    },
    "colab_type": "code",
    "id": "GuCXCrHxXwEn",
    "outputId": "b19e51e2-e995-4ccf-8203-27da573280ed"
   },
   "outputs": [],
   "source": [
    "#plt.figure(figsize=(30,10))\n",
    "#plt.bar(n.keys(),n.values(),width=0.3)\n"
   ]
  },
  {
   "cell_type": "code",
   "execution_count": 202,
   "metadata": {
    "colab": {
     "base_uri": "https://localhost:8080/",
     "height": 509
    },
    "colab_type": "code",
    "id": "JB6RMzOIAxtu",
    "outputId": "5109aa4a-b086-4b7d-d6a6-18c7911bb4fb"
   },
   "outputs": [],
   "source": [
    "#plt.figure(figsize=(30,10))\n",
    "#ggplot(df)+aes('State',fill='MIS_Status')+geom_histogram()+ theme(axis_text_x = element_text(size = 5))"
   ]
  },
  {
   "cell_type": "markdown",
   "metadata": {
    "colab_type": "text",
    "id": "WCclMfTnNZSu"
   },
   "source": [
    "#so we see from the plot has State can be a good variable for prediction of CHGOFF and PIF"
   ]
  },
  {
   "cell_type": "markdown",
   "metadata": {
    "colab_type": "text",
    "id": "MgDFakXTOLlQ"
   },
   "source": [
    "#4.]ZIP"
   ]
  },
  {
   "cell_type": "code",
   "execution_count": 203,
   "metadata": {
    "colab": {
     "base_uri": "https://localhost:8080/",
     "height": 33
    },
    "colab_type": "code",
    "id": "uHqWvFtYN2g5",
    "outputId": "d7307962-82b4-49b9-a618-fbea96ca4044"
   },
   "outputs": [
    {
     "data": {
      "text/plain": [
       "0"
      ]
     },
     "execution_count": 203,
     "metadata": {},
     "output_type": "execute_result"
    }
   ],
   "source": [
    "df.Zip.isna().sum()"
   ]
  },
  {
   "cell_type": "code",
   "execution_count": 204,
   "metadata": {
    "colab": {
     "base_uri": "https://localhost:8080/",
     "height": 217
    },
    "colab_type": "code",
    "id": "jZIC99iahxQ9",
    "outputId": "77b56b06-f8c0-4ef3-ca56-31dcf631883e"
   },
   "outputs": [
    {
     "data": {
      "text/plain": [
       "10001    201\n",
       "33166    198\n",
       "90015    176\n",
       "90010    172\n",
       "48126    171\n",
       "        ... \n",
       "27709      1\n",
       "21562      1\n",
       "93622      1\n",
       "40456      1\n",
       "2047       1\n",
       "Name: Zip, Length: 19371, dtype: int64"
      ]
     },
     "execution_count": 204,
     "metadata": {},
     "output_type": "execute_result"
    }
   ],
   "source": [
    "df.Zip.value_counts()"
   ]
  },
  {
   "cell_type": "code",
   "execution_count": 205,
   "metadata": {
    "colab": {
     "base_uri": "https://localhost:8080/",
     "height": 497
    },
    "colab_type": "code",
    "id": "k3akv8jIh7Bh",
    "outputId": "9f41d1cb-3de5-4607-e4cb-2dff86f61950"
   },
   "outputs": [],
   "source": [
    "#ggplot(df)+aes(\"Zip\",fill=\"MIS_Status\")+geom_bar(width=4)"
   ]
  },
  {
   "cell_type": "code",
   "execution_count": 206,
   "metadata": {
    "colab": {
     "base_uri": "https://localhost:8080/",
     "height": 33
    },
    "colab_type": "code",
    "id": "IxIvY1pVN2r6",
    "outputId": "b73950e0-6fcd-4f40-941b-1f5ae8c894f7"
   },
   "outputs": [
    {
     "data": {
      "text/plain": [
       "array([47711, 46526, 47401, ..., 38928, 61238, 85620], dtype=int64)"
      ]
     },
     "execution_count": 206,
     "metadata": {},
     "output_type": "execute_result"
    }
   ],
   "source": [
    "df.Zip.unique()\n",
    "  #so all address of customers are from different zip code"
   ]
  },
  {
   "cell_type": "markdown",
   "metadata": {
    "colab_type": "text",
    "id": "IY8HvHHFPMJ1"
   },
   "source": [
    "#5.]Bank"
   ]
  },
  {
   "cell_type": "code",
   "execution_count": 207,
   "metadata": {
    "colab": {
     "base_uri": "https://localhost:8080/",
     "height": 33
    },
    "colab_type": "code",
    "id": "3Oeja_bbN2nd",
    "outputId": "16c9428d-ac9c-4e19-b0a0-cc75f197ab10"
   },
   "outputs": [
    {
     "data": {
      "text/plain": [
       "146"
      ]
     },
     "execution_count": 207,
     "metadata": {},
     "output_type": "execute_result"
    }
   ],
   "source": [
    "df.Bank.isna().sum()# we have 147 nan values in the Bank column so we need to drop these as imputation will not be good for these nominal data"
   ]
  },
  {
   "cell_type": "code",
   "execution_count": 208,
   "metadata": {
    "colab": {},
    "colab_type": "code",
    "id": "ApwjLKW7uqKV"
   },
   "outputs": [],
   "source": [
    "df.drop(df[df.Bank.isna()].index,inplace=True)"
   ]
  },
  {
   "cell_type": "code",
   "execution_count": 209,
   "metadata": {
    "colab": {
     "base_uri": "https://localhost:8080/",
     "height": 67
    },
    "colab_type": "code",
    "id": "tGj4JUHhQVah",
    "outputId": "a4d28085-b468-4cee-cc90-71abf2fbd19d"
   },
   "outputs": [
    {
     "data": {
      "text/plain": [
       "array(['FIFTH THIRD BANK', '1ST SOURCE BANK', 'GRANT COUNTY STATE BANK',\n",
       "       ..., 'SELECT BANK & TRUST COMPANY', 'THE COMMUNITY BANK',\n",
       "       'TD BANK NATL ASSOC D/B/A TD BA'], dtype=object)"
      ]
     },
     "execution_count": 209,
     "metadata": {},
     "output_type": "execute_result"
    }
   ],
   "source": [
    "df.Bank.unique()"
   ]
  },
  {
   "cell_type": "code",
   "execution_count": 210,
   "metadata": {
    "colab": {
     "base_uri": "https://localhost:8080/",
     "height": 33
    },
    "colab_type": "code",
    "id": "EUpQ8hL4N13g",
    "outputId": "c6e3876b-c02f-4809-c37e-fb86427f2c45"
   },
   "outputs": [
    {
     "data": {
      "text/plain": [
       "2932"
      ]
     },
     "execution_count": 210,
     "metadata": {},
     "output_type": "execute_result"
    }
   ],
   "source": [
    "len(df.Bank.unique())"
   ]
  },
  {
   "cell_type": "markdown",
   "metadata": {
    "colab_type": "text",
    "id": "-S2Qv_B1QbJx"
   },
   "source": [
    "so we have 2933 value which are unique in our Bank columns and rest are the repition of these Banks "
   ]
  },
  {
   "cell_type": "code",
   "execution_count": 211,
   "metadata": {
    "colab": {
     "base_uri": "https://localhost:8080/",
     "height": 497
    },
    "colab_type": "code",
    "id": "BaBZ6qK6Q7uL",
    "outputId": "13e3bc1b-c584-4d60-ea02-e758434c772e"
   },
   "outputs": [],
   "source": [
    "#ggplot(df)+aes('Bank',fill='MIS_Status')+geom_histogram()+coord_flip()+ theme(axis_text_x = element_text(size = 5))"
   ]
  },
  {
   "cell_type": "code",
   "execution_count": 212,
   "metadata": {
    "colab": {
     "base_uri": "https://localhost:8080/",
     "height": 33
    },
    "colab_type": "code",
    "id": "QcTX4NiTCCkf",
    "outputId": "1313233d-e60c-4c04-8154-bd57fe440276"
   },
   "outputs": [
    {
     "data": {
      "text/plain": [
       "(149850, 25)"
      ]
     },
     "execution_count": 212,
     "metadata": {},
     "output_type": "execute_result"
    }
   ],
   "source": [
    "df.shape"
   ]
  },
  {
   "cell_type": "markdown",
   "metadata": {
    "colab_type": "text",
    "id": "UfmevgVVTIyW"
   },
   "source": [
    "#6.]BankState"
   ]
  },
  {
   "cell_type": "code",
   "execution_count": 213,
   "metadata": {
    "colab": {
     "base_uri": "https://localhost:8080/",
     "height": 33
    },
    "colab_type": "code",
    "id": "v1C2UWP9Rr3c",
    "outputId": "28576cb8-846c-494a-b4bf-bb276a786db0"
   },
   "outputs": [
    {
     "data": {
      "text/plain": [
       "1"
      ]
     },
     "execution_count": 213,
     "metadata": {},
     "output_type": "execute_result"
    }
   ],
   "source": [
    "df.BankState.isna().sum()"
   ]
  },
  {
   "cell_type": "code",
   "execution_count": 214,
   "metadata": {
    "colab": {},
    "colab_type": "code",
    "id": "AVuWSytwuy-a"
   },
   "outputs": [],
   "source": [
    "df.drop(df[df.BankState.isna()].index,inplace=True)"
   ]
  },
  {
   "cell_type": "code",
   "execution_count": 215,
   "metadata": {
    "colab": {
     "base_uri": "https://localhost:8080/",
     "height": 100
    },
    "colab_type": "code",
    "id": "tzVpvBx6Rrzg",
    "outputId": "2f8ab44d-43db-44f8-b5ff-1c0129eb5f72"
   },
   "outputs": [
    {
     "data": {
      "text/plain": [
       "array(['OH', 'IN', 'OK', 'FL', 'DE', 'SD', 'AL', 'CT', 'GA', 'OR', 'MN',\n",
       "       'RI', 'NC', 'TX', 'MD', 'NY', 'TN', 'SC', 'MS', 'MA', 'LA', 'IA',\n",
       "       'VA', 'CA', 'IL', 'KY', 'PA', 'MO', 'WA', 'MI', 'UT', 'KS', 'WV',\n",
       "       'WI', 'AZ', 'NJ', 'CO', 'ME', 'NH', 'AR', 'ND', 'MT', 'ID', 'WY',\n",
       "       'NM', 'DC', 'NV', 'NE', 'PR', 'HI', 'VT', 'AK'], dtype=object)"
      ]
     },
     "execution_count": 215,
     "metadata": {},
     "output_type": "execute_result"
    }
   ],
   "source": [
    "df.BankState.unique()"
   ]
  },
  {
   "cell_type": "code",
   "execution_count": 216,
   "metadata": {
    "colab": {
     "base_uri": "https://localhost:8080/",
     "height": 492
    },
    "colab_type": "code",
    "id": "Y5OlQLwoToOj",
    "outputId": "c40433f9-56a6-4b78-f43f-d649a1def847"
   },
   "outputs": [],
   "source": [
    "#ggplot(df)+aes('BankState',fill='MIS_Status')+geom_histogram()+coord_flip()+ theme(axis_text_x = element_text(size = 5))"
   ]
  },
  {
   "cell_type": "markdown",
   "metadata": {
    "colab_type": "text",
    "id": "GLzZhHUpU-KE"
   },
   "source": [
    "so we see that NC AND IL have the most no of fraud cases so BankState is a good variable for prediction\n",
    "\n",
    "\n",
    "```\n",
    "\n"
   ]
  },
  {
   "cell_type": "code",
   "execution_count": 217,
   "metadata": {
    "colab": {
     "base_uri": "https://localhost:8080/",
     "height": 33
    },
    "colab_type": "code",
    "id": "JTj9I4XpTvjB",
    "outputId": "d311d3f9-8eb8-4af5-ffba-de4b1827fe3d"
   },
   "outputs": [
    {
     "data": {
      "text/plain": [
       "(55929, 93920)"
      ]
     },
     "execution_count": 217,
     "metadata": {},
     "output_type": "execute_result"
    }
   ],
   "source": [
    "l=list(df.BankState.iloc[:]==df.State.iloc[:])\n",
    "k=list(df.MIS_Status.iloc[:])\n",
    "t,s=0,0\n",
    "m=[]\n",
    "for j in k:\n",
    "  if j=='CHGOFF':\n",
    "    m.append(False)\n",
    "  else:\n",
    "    m.append(True)\n",
    "\n",
    "\n",
    "for i in l:\n",
    "  if i ==True:\n",
    "    t=t+1\n",
    "  else:\n",
    "    s=s+1\n",
    "t,s"
   ]
  },
  {
   "cell_type": "code",
   "execution_count": 218,
   "metadata": {
    "colab": {
     "base_uri": "https://localhost:8080/",
     "height": 33
    },
    "colab_type": "code",
    "id": "s8h0ErFtasKw",
    "outputId": "2858bc2d-9ad1-4fa7-850f-4399e02cf1c8"
   },
   "outputs": [
    {
     "data": {
      "text/plain": [
       "31124"
      ]
     },
     "execution_count": 218,
     "metadata": {},
     "output_type": "execute_result"
    }
   ],
   "source": [
    "no=0\n",
    "for i in range(len(df)):\n",
    "  if l[i]==False and m[i]==False:\n",
    "    no=no+1\n",
    "no"
   ]
  },
  {
   "cell_type": "code",
   "execution_count": 219,
   "metadata": {
    "colab": {
     "base_uri": "https://localhost:8080/",
     "height": 33
    },
    "colab_type": "code",
    "id": "jvkiyCL4cFQY",
    "outputId": "d60d6dc4-3f8e-4036-bbb9-59b572f50578"
   },
   "outputs": [
    {
     "data": {
      "text/plain": [
       "7865"
      ]
     },
     "execution_count": 219,
     "metadata": {},
     "output_type": "execute_result"
    }
   ],
   "source": [
    "nu=0\n",
    "for i in range(len(df)):\n",
    "  if l[i]==True and m[i]==False:\n",
    "    nu=nu+1\n",
    "nu"
   ]
  },
  {
   "cell_type": "code",
   "execution_count": 220,
   "metadata": {
    "colab": {
     "base_uri": "https://localhost:8080/",
     "height": 33
    },
    "colab_type": "code",
    "id": "PHjQnqF3asHp",
    "outputId": "4ef7c559-6013-4135-d51b-82866fa39349"
   },
   "outputs": [
    {
     "data": {
      "text/plain": [
       "(33.13884156729131, 14.0624720627939)"
      ]
     },
     "execution_count": 220,
     "metadata": {},
     "output_type": "execute_result"
    }
   ],
   "source": [
    "no/s*100,nu/t*100"
   ]
  },
  {
   "cell_type": "markdown",
   "metadata": {
    "colab_type": "text",
    "id": "xwEL7BB-a9A4"
   },
   "source": [
    "#so from this analysis we get to know that 34% of people who come under CHGOFF are customer who belong to aparticular state and they take a loan from the bank from different BankState.  "
   ]
  },
  {
   "cell_type": "markdown",
   "metadata": {
    "colab_type": "text",
    "id": "EJIvM5QveGSi"
   },
   "source": [
    "#7.]CCSC"
   ]
  },
  {
   "cell_type": "code",
   "execution_count": 221,
   "metadata": {
    "colab": {
     "base_uri": "https://localhost:8080/",
     "height": 33
    },
    "colab_type": "code",
    "id": "8sPWw91Ta8O-",
    "outputId": "a3c19659-37e0-4a1d-9508-a65e31888c72"
   },
   "outputs": [
    {
     "data": {
      "text/plain": [
       "0"
      ]
     },
     "execution_count": 221,
     "metadata": {},
     "output_type": "execute_result"
    }
   ],
   "source": [
    "df.CCSC.isna().sum()"
   ]
  },
  {
   "cell_type": "code",
   "execution_count": 222,
   "metadata": {
    "colab": {
     "base_uri": "https://localhost:8080/",
     "height": 217
    },
    "colab_type": "code",
    "id": "Pa-yuhCOn8nM",
    "outputId": "d2e2031f-bbb8-4d07-ea8c-5a0d74bc448f"
   },
   "outputs": [
    {
     "data": {
      "text/plain": [
       "0         31702\n",
       "722110     3394\n",
       "722211     2888\n",
       "811111     2622\n",
       "561730     2168\n",
       "          ...  \n",
       "336391        1\n",
       "221111        1\n",
       "114119        1\n",
       "331311        1\n",
       "421220        1\n",
       "Name: CCSC, Length: 1185, dtype: int64"
      ]
     },
     "execution_count": 222,
     "metadata": {},
     "output_type": "execute_result"
    }
   ],
   "source": [
    "df.CCSC.value_counts()"
   ]
  },
  {
   "cell_type": "code",
   "execution_count": 223,
   "metadata": {
    "colab": {
     "base_uri": "https://localhost:8080/",
     "height": 70
    },
    "colab_type": "code",
    "id": "TWnSlYMBooph",
    "outputId": "fb69ea77-6e84-4701-a812-27872c5b2aec",
    "scrolled": false
   },
   "outputs": [],
   "source": [
    "#d=dict(df.CCSC.value_counts())\n",
    "#d.keys(),d.values()"
   ]
  },
  {
   "cell_type": "code",
   "execution_count": 224,
   "metadata": {
    "colab": {
     "base_uri": "https://localhost:8080/",
     "height": 497
    },
    "colab_type": "code",
    "id": "zybH86c9pckL",
    "outputId": "aa9c865c-6721-4845-c60e-8fb950704506"
   },
   "outputs": [],
   "source": [
    "#ggplot(df)+aes('CCSC',fill='MIS_Status')+geom_histogram()"
   ]
  },
  {
   "cell_type": "markdown",
   "metadata": {
    "colab_type": "text",
    "id": "yhfVRmF0p_cq"
   },
   "source": [
    "ccsc will be a good variable for prediction"
   ]
  },
  {
   "cell_type": "markdown",
   "metadata": {
    "colab_type": "text",
    "id": "8ETZI67nqICh"
   },
   "source": [
    "#8.]ApprovalDate"
   ]
  },
  {
   "cell_type": "code",
   "execution_count": 225,
   "metadata": {
    "colab": {
     "base_uri": "https://localhost:8080/",
     "height": 33
    },
    "colab_type": "code",
    "id": "qS1dq6NvqGyz",
    "outputId": "9fed1ef5-290f-4244-e0aa-a8e6939c1adc"
   },
   "outputs": [
    {
     "data": {
      "text/plain": [
       "0"
      ]
     },
     "execution_count": 225,
     "metadata": {},
     "output_type": "execute_result"
    }
   ],
   "source": [
    "df.ApprovalDate.isna().sum()"
   ]
  },
  {
   "cell_type": "code",
   "execution_count": 226,
   "metadata": {
    "colab": {
     "base_uri": "https://localhost:8080/",
     "height": 33
    },
    "colab_type": "code",
    "id": "o2j15hxzqzQs",
    "outputId": "8934fd9b-ef3e-41dd-af1e-cbef77778aee"
   },
   "outputs": [
    {
     "data": {
      "text/plain": [
       "2534"
      ]
     },
     "execution_count": 226,
     "metadata": {},
     "output_type": "execute_result"
    }
   ],
   "source": [
    "len(df.ApprovalDate.value_counts())"
   ]
  },
  {
   "cell_type": "code",
   "execution_count": 227,
   "metadata": {
    "colab": {
     "base_uri": "https://localhost:8080/",
     "height": 497
    },
    "colab_type": "code",
    "id": "ilZwVl3GrDBc",
    "outputId": "1cbd96f6-28b0-46d0-dba6-8d848faa1bfc"
   },
   "outputs": [],
   "source": [
    "#ggplot(df)+aes('ApprovalDate',fill='MIS_Status')+geom_histogram()"
   ]
  },
  {
   "cell_type": "code",
   "execution_count": 228,
   "metadata": {
    "colab": {
     "base_uri": "https://localhost:8080/",
     "height": 217
    },
    "colab_type": "code",
    "id": "QB18VakNsb7q",
    "outputId": "1ff07a65-3da2-4062-b83b-dbd5370082d9"
   },
   "outputs": [
    {
     "data": {
      "text/plain": [
       "30-Sep-97    466\n",
       "17-Mar-06    425\n",
       "24-Mar-06    422\n",
       "01-Apr-97    418\n",
       "31-Mar-06    412\n",
       "            ... \n",
       "30-Jul-82      1\n",
       "06-Nov-81      1\n",
       "12-Jun-78      1\n",
       "13-May-82      1\n",
       "26-Jul-01      1\n",
       "Name: ApprovalDate, Length: 2534, dtype: int64"
      ]
     },
     "execution_count": 228,
     "metadata": {},
     "output_type": "execute_result"
    }
   ],
   "source": [
    " df['ApprovalDate'].value_counts()"
   ]
  },
  {
   "cell_type": "markdown",
   "metadata": {
    "colab_type": "text",
    "id": "oGtAOYANsMw9"
   },
   "source": [
    "#9.]Date columns-['ApprovalDate','DisbursementDate', 'ChgOffDate']"
   ]
  },
  {
   "cell_type": "code",
   "execution_count": 229,
   "metadata": {
    "colab": {},
    "colab_type": "code",
    "id": "hDhG8Zs3sMCF"
   },
   "outputs": [],
   "source": [
    "# converting Date text columns to datetime object\n",
    "date_cols = ['ApprovalDate','DisbursementDate', 'ChgOffDate']\n",
    "for dates in date_cols:\n",
    "    df[dates] = pd.to_datetime(df[dates])"
   ]
  },
  {
   "cell_type": "code",
   "execution_count": 230,
   "metadata": {
    "colab": {
     "base_uri": "https://localhost:8080/",
     "height": 33
    },
    "colab_type": "code",
    "id": "xPuwTc2SnQdE",
    "outputId": "0d42d8ab-f641-4e77-efbf-1e663c9adef7"
   },
   "outputs": [
    {
     "data": {
      "text/plain": [
       "109434"
      ]
     },
     "execution_count": 230,
     "metadata": {},
     "output_type": "execute_result"
    }
   ],
   "source": [
    "df.ChgOffDate.isna().sum()"
   ]
  },
  {
   "cell_type": "code",
   "execution_count": 231,
   "metadata": {
    "colab": {
     "base_uri": "https://localhost:8080/",
     "height": 33
    },
    "colab_type": "code",
    "id": "BX3SoNnRv34g",
    "outputId": "7b65871b-5181-45a9-ee1a-976bfdcc8324"
   },
   "outputs": [
    {
     "data": {
      "text/plain": [
       "(149849, 25)"
      ]
     },
     "execution_count": 231,
     "metadata": {},
     "output_type": "execute_result"
    }
   ],
   "source": [
    "df.shape"
   ]
  },
  {
   "cell_type": "code",
   "execution_count": 232,
   "metadata": {
    "colab": {
     "base_uri": "https://localhost:8080/",
     "height": 33
    },
    "colab_type": "code",
    "id": "atdtkEQInl1T",
    "outputId": "b1658987-20ca-45f3-a408-d674dc043bc1"
   },
   "outputs": [
    {
     "data": {
      "text/plain": [
       "0.7302248681657878"
      ]
     },
     "execution_count": 232,
     "metadata": {},
     "output_type": "execute_result"
    }
   ],
   "source": [
    "109533/149999# 74% of data in ChgoffDate is filled with nan val value so drop this column -ChgOffDate"
   ]
  },
  {
   "cell_type": "code",
   "execution_count": 233,
   "metadata": {
    "colab": {},
    "colab_type": "code",
    "id": "SAJoApv1DF08"
   },
   "outputs": [],
   "source": [
    "# droping the ChgOffDate Column\n",
    "dro=['ChgOffDate']\n",
    "df.drop(dro,inplace=True,axis=1)\n"
   ]
  },
  {
   "cell_type": "code",
   "execution_count": 234,
   "metadata": {
    "colab": {
     "base_uri": "https://localhost:8080/",
     "height": 33
    },
    "colab_type": "code",
    "id": "X_rAi2UoEZ8W",
    "outputId": "f0c674c7-4bae-4e71-91b9-6c11ac18c6df"
   },
   "outputs": [
    {
     "data": {
      "text/plain": [
       "196"
      ]
     },
     "execution_count": 234,
     "metadata": {},
     "output_type": "execute_result"
    }
   ],
   "source": [
    "df.DisbursementDate.isna().sum()"
   ]
  },
  {
   "cell_type": "code",
   "execution_count": 235,
   "metadata": {
    "colab": {},
    "colab_type": "code",
    "id": "kn3eUGriFAFp"
   },
   "outputs": [],
   "source": [
    "df.drop(df[df.DisbursementDate.isna()].index,inplace=True)"
   ]
  },
  {
   "cell_type": "code",
   "execution_count": 236,
   "metadata": {
    "colab": {
     "base_uri": "https://localhost:8080/",
     "height": 33
    },
    "colab_type": "code",
    "id": "u9nOJ5U0F25A",
    "outputId": "73c9f8a6-78ea-4c0b-a880-d38f2a232707"
   },
   "outputs": [
    {
     "data": {
      "text/plain": [
       "(149653, 24)"
      ]
     },
     "execution_count": 236,
     "metadata": {},
     "output_type": "execute_result"
    }
   ],
   "source": [
    "df.shape"
   ]
  },
  {
   "cell_type": "markdown",
   "metadata": {
    "colab_type": "text",
    "id": "klJZqoIYonhz"
   },
   "source": [
    "#10.]ApprovalFY"
   ]
  },
  {
   "cell_type": "code",
   "execution_count": 237,
   "metadata": {
    "colab": {
     "base_uri": "https://localhost:8080/",
     "height": 33
    },
    "colab_type": "code",
    "id": "-rlc3QkPoYGo",
    "outputId": "e0bf1ee5-a6fb-4dc4-8278-faae2c1f1aea"
   },
   "outputs": [
    {
     "data": {
      "text/plain": [
       "0"
      ]
     },
     "execution_count": 237,
     "metadata": {},
     "output_type": "execute_result"
    }
   ],
   "source": [
    "df.ApprovalFY.isna().sum()"
   ]
  },
  {
   "cell_type": "code",
   "execution_count": 238,
   "metadata": {
    "colab": {
     "base_uri": "https://localhost:8080/",
     "height": 368
    },
    "colab_type": "code",
    "id": "1NocBzsPpK0w",
    "outputId": "c49b612e-a1d7-4909-d04a-7098cabdab55"
   },
   "outputs": [
    {
     "data": {
      "text/plain": [
       "2006    55295\n",
       "2005    33516\n",
       "1997    23820\n",
       "1998    22721\n",
       "2004     5547\n",
       "2007     3535\n",
       "1984     1924\n",
       "1983     1541\n",
       "1982      514\n",
       "1981      369\n",
       "2003      259\n",
       "1985      148\n",
       "1980      130\n",
       "2001      100\n",
       "1979       97\n",
       "1999       42\n",
       "1978       37\n",
       "2000       34\n",
       "1972       21\n",
       "1973        3\n",
       "Name: ApprovalFY, dtype: int64"
      ]
     },
     "execution_count": 238,
     "metadata": {},
     "output_type": "execute_result"
    }
   ],
   "source": [
    "df.ApprovalFY.value_counts()"
   ]
  },
  {
   "cell_type": "code",
   "execution_count": 239,
   "metadata": {
    "colab": {
     "base_uri": "https://localhost:8080/",
     "height": 497
    },
    "colab_type": "code",
    "id": "rNJiHNm2pKxR",
    "outputId": "69d40f97-3c55-4752-8bc8-67acdb87e960"
   },
   "outputs": [],
   "source": [
    "#ggplot(df)+aes('ApprovalFY',fill='MIS_Status')+geom_bar(width=2)# this can be a good variable for prediction of the target variable"
   ]
  },
  {
   "cell_type": "code",
   "execution_count": 240,
   "metadata": {
    "colab": {
     "base_uri": "https://localhost:8080/",
     "height": 117
    },
    "colab_type": "code",
    "id": "RjqR0sPPpKus",
    "outputId": "f15bd335-7e05-4254-ceea-d019f3494881"
   },
   "outputs": [
    {
     "data": {
      "text/plain": [
       "Index(['City', 'State', 'Zip', 'Bank', 'BankState', 'CCSC', 'ApprovalDate',\n",
       "       'ApprovalFY', 'Term', 'NoEmp', 'NewExist', 'CreateJob', 'RetainedJob',\n",
       "       'FranchiseCode', 'UrbanRural', 'RevLineCr', 'LowDoc',\n",
       "       'DisbursementDate', 'DisbursementGross', 'BalanceGross', 'MIS_Status',\n",
       "       'ChgOffPrinGr', 'GrAppv', 'SBA_Appv'],\n",
       "      dtype='object')"
      ]
     },
     "execution_count": 240,
     "metadata": {},
     "output_type": "execute_result"
    }
   ],
   "source": [
    "df.columns"
   ]
  },
  {
   "cell_type": "markdown",
   "metadata": {
    "colab_type": "text",
    "id": "vy0UVXPFqnsI"
   },
   "source": [
    "#11.]Term"
   ]
  },
  {
   "cell_type": "code",
   "execution_count": 241,
   "metadata": {
    "colab": {
     "base_uri": "https://localhost:8080/",
     "height": 33
    },
    "colab_type": "code",
    "id": "5fkCHC7OqkJG",
    "outputId": "03421f83-741c-4336-9795-7d278cb5e1c5"
   },
   "outputs": [
    {
     "data": {
      "text/plain": [
       "0"
      ]
     },
     "execution_count": 241,
     "metadata": {},
     "output_type": "execute_result"
    }
   ],
   "source": [
    "df.Term.isna().sum()"
   ]
  },
  {
   "cell_type": "code",
   "execution_count": 242,
   "metadata": {
    "colab": {
     "base_uri": "https://localhost:8080/",
     "height": 217
    },
    "colab_type": "code",
    "id": "sVSPpCSEq5wq",
    "outputId": "cc4b54ba-3420-47c7-e418-191c38c25e2a"
   },
   "outputs": [
    {
     "data": {
      "text/plain": [
       "84     50158\n",
       "60     14380\n",
       "240     8664\n",
       "120     7638\n",
       "300     5172\n",
       "       ...  \n",
       "314        1\n",
       "372        1\n",
       "435        1\n",
       "421        1\n",
       "342        1\n",
       "Name: Term, Length: 342, dtype: int64"
      ]
     },
     "execution_count": 242,
     "metadata": {},
     "output_type": "execute_result"
    }
   ],
   "source": [
    "df.Term.value_counts()"
   ]
  },
  {
   "cell_type": "code",
   "execution_count": 243,
   "metadata": {
    "colab": {
     "base_uri": "https://localhost:8080/",
     "height": 497
    },
    "colab_type": "code",
    "id": "oXc6wGbfrCH7",
    "outputId": "cdbe5e33-96a5-4ddf-f001-6ccb424bc4de"
   },
   "outputs": [],
   "source": [
    "#ggplot(df)+aes(('Term'),fill='MIS_Status')+geom_bar(width=20)"
   ]
  },
  {
   "cell_type": "code",
   "execution_count": 244,
   "metadata": {
    "colab": {
     "base_uri": "https://localhost:8080/",
     "height": 117
    },
    "colab_type": "code",
    "id": "YDb4L9FQrfm5",
    "outputId": "0bcff0a5-9f32-4adb-d813-5611789f96b3"
   },
   "outputs": [
    {
     "data": {
      "text/plain": [
       "Index(['City', 'State', 'Zip', 'Bank', 'BankState', 'CCSC', 'ApprovalDate',\n",
       "       'ApprovalFY', 'Term', 'NoEmp', 'NewExist', 'CreateJob', 'RetainedJob',\n",
       "       'FranchiseCode', 'UrbanRural', 'RevLineCr', 'LowDoc',\n",
       "       'DisbursementDate', 'DisbursementGross', 'BalanceGross', 'MIS_Status',\n",
       "       'ChgOffPrinGr', 'GrAppv', 'SBA_Appv'],\n",
       "      dtype='object')"
      ]
     },
     "execution_count": 244,
     "metadata": {},
     "output_type": "execute_result"
    }
   ],
   "source": [
    "df.columns"
   ]
  },
  {
   "cell_type": "markdown",
   "metadata": {
    "colab_type": "text",
    "id": "62TUeF5_uMV_"
   },
   "source": [
    "#12.] NoEmp"
   ]
  },
  {
   "cell_type": "code",
   "execution_count": 245,
   "metadata": {
    "colab": {
     "base_uri": "https://localhost:8080/",
     "height": 33
    },
    "colab_type": "code",
    "id": "foluhkfCrfjH",
    "outputId": "2e3d3ba6-a196-499c-9f20-4511ff342c72"
   },
   "outputs": [
    {
     "data": {
      "text/plain": [
       "0"
      ]
     },
     "execution_count": 245,
     "metadata": {},
     "output_type": "execute_result"
    }
   ],
   "source": [
    "df.NoEmp.isna().sum()"
   ]
  },
  {
   "cell_type": "code",
   "execution_count": 246,
   "metadata": {
    "colab": {
     "base_uri": "https://localhost:8080/",
     "height": 217
    },
    "colab_type": "code",
    "id": "AvcbHOxpvSat",
    "outputId": "af0d0de2-3b78-49d7-d380-20ad3ba5a782"
   },
   "outputs": [
    {
     "data": {
      "text/plain": [
       "1       30784\n",
       "2       25980\n",
       "3       16566\n",
       "4       13104\n",
       "5       10282\n",
       "        ...  \n",
       "188         1\n",
       "315         1\n",
       "1050        1\n",
       "187         1\n",
       "5812        1\n",
       "Name: NoEmp, Length: 290, dtype: int64"
      ]
     },
     "execution_count": 246,
     "metadata": {},
     "output_type": "execute_result"
    }
   ],
   "source": [
    "df.NoEmp.value_counts()"
   ]
  },
  {
   "cell_type": "markdown",
   "metadata": {
    "colab_type": "text",
    "id": "F9mZE0eNut9C"
   },
   "source": [
    "#13.]NewExist"
   ]
  },
  {
   "cell_type": "code",
   "execution_count": 247,
   "metadata": {
    "colab": {
     "base_uri": "https://localhost:8080/",
     "height": 33
    },
    "colab_type": "code",
    "id": "t_uj7rQ1u0_P",
    "outputId": "f3e3cc02-f039-4426-b1f9-fe31bce7c75e"
   },
   "outputs": [
    {
     "data": {
      "text/plain": [
       "0"
      ]
     },
     "execution_count": 247,
     "metadata": {},
     "output_type": "execute_result"
    }
   ],
   "source": [
    "df.NewExist.isna().sum()"
   ]
  },
  {
   "cell_type": "code",
   "execution_count": 248,
   "metadata": {
    "colab": {
     "base_uri": "https://localhost:8080/",
     "height": 84
    },
    "colab_type": "code",
    "id": "swE05goUu1GF",
    "outputId": "36c99cd8-08b1-41b3-d8c7-d15a7d7d5692"
   },
   "outputs": [
    {
     "data": {
      "text/plain": [
       "1    101560\n",
       "2     47968\n",
       "0       125\n",
       "Name: NewExist, dtype: int64"
      ]
     },
     "execution_count": 248,
     "metadata": {},
     "output_type": "execute_result"
    }
   ],
   "source": [
    "df.NewExist.value_counts()"
   ]
  },
  {
   "cell_type": "markdown",
   "metadata": {
    "colab_type": "text",
    "id": "jkiPV2eIvlPl"
   },
   "source": [
    "#14.]CreateJob"
   ]
  },
  {
   "cell_type": "code",
   "execution_count": 249,
   "metadata": {
    "colab": {
     "base_uri": "https://localhost:8080/",
     "height": 217
    },
    "colab_type": "code",
    "id": "0qTMIOAyvaZ5",
    "outputId": "d0ec95e2-83da-4a5d-cf58-2c236307ae50"
   },
   "outputs": [
    {
     "data": {
      "text/plain": [
       "0      112760\n",
       "1       11698\n",
       "2        8934\n",
       "3        3781\n",
       "4        2530\n",
       "        ...  \n",
       "52          1\n",
       "51          1\n",
       "303         1\n",
       "163         1\n",
       "46          1\n",
       "Name: CreateJob, Length: 105, dtype: int64"
      ]
     },
     "execution_count": 249,
     "metadata": {},
     "output_type": "execute_result"
    }
   ],
   "source": [
    "df.CreateJob.value_counts()"
   ]
  },
  {
   "cell_type": "code",
   "execution_count": null,
   "metadata": {
    "colab": {
     "base_uri": "https://localhost:8080/",
     "height": 117
    },
    "colab_type": "code",
    "id": "vO3PgBI9v3FR",
    "outputId": "82f293e6-0e18-4d35-b394-d3fd4d928a5e"
   },
   "outputs": [],
   "source": []
  },
  {
   "cell_type": "markdown",
   "metadata": {
    "colab_type": "text",
    "id": "s_G2mLDdF01G"
   },
   "source": [
    "#RetainedJob"
   ]
  },
  {
   "cell_type": "code",
   "execution_count": 250,
   "metadata": {
    "colab": {
     "base_uri": "https://localhost:8080/",
     "height": 33
    },
    "colab_type": "code",
    "id": "X8kgnNTLv3sk",
    "outputId": "50a89c34-26ec-4efd-f3f7-bc458a027072"
   },
   "outputs": [
    {
     "data": {
      "text/plain": [
       "0"
      ]
     },
     "execution_count": 250,
     "metadata": {},
     "output_type": "execute_result"
    }
   ],
   "source": [
    "df.RetainedJob.isna().sum()"
   ]
  },
  {
   "cell_type": "markdown",
   "metadata": {
    "colab_type": "text",
    "id": "5YFMXip4GC_m"
   },
   "source": [
    "FranchiseCode"
   ]
  },
  {
   "cell_type": "code",
   "execution_count": 251,
   "metadata": {
    "colab": {
     "base_uri": "https://localhost:8080/",
     "height": 33
    },
    "colab_type": "code",
    "id": "VuqSYnYDF_jE",
    "outputId": "9089afa1-677d-467b-e79e-9e56c502a54d"
   },
   "outputs": [
    {
     "data": {
      "text/plain": [
       "0"
      ]
     },
     "execution_count": 251,
     "metadata": {},
     "output_type": "execute_result"
    }
   ],
   "source": [
    "df.UrbanRural.isna().sum()"
   ]
  },
  {
   "cell_type": "code",
   "execution_count": 252,
   "metadata": {
    "colab": {
     "base_uri": "https://localhost:8080/",
     "height": 84
    },
    "colab_type": "code",
    "id": "1bkUsu4PGbol",
    "outputId": "28255550-3348-4a8f-ab96-15d9a80626e8"
   },
   "outputs": [
    {
     "data": {
      "text/plain": [
       "1    81723\n",
       "0    51264\n",
       "2    16666\n",
       "Name: UrbanRural, dtype: int64"
      ]
     },
     "execution_count": 252,
     "metadata": {},
     "output_type": "execute_result"
    }
   ],
   "source": [
    "df.UrbanRural.value_counts()"
   ]
  },
  {
   "cell_type": "markdown",
   "metadata": {
    "colab_type": "text",
    "id": "HF3vr6jfGI4y"
   },
   "source": [
    "UrbanRural"
   ]
  },
  {
   "cell_type": "code",
   "execution_count": 253,
   "metadata": {
    "colab": {
     "base_uri": "https://localhost:8080/",
     "height": 33
    },
    "colab_type": "code",
    "id": "_RS5yH4zGIUl",
    "outputId": "7bdea419-d7d9-4a53-ad7f-f2fd100f56cd"
   },
   "outputs": [
    {
     "data": {
      "text/plain": [
       "0"
      ]
     },
     "execution_count": 253,
     "metadata": {},
     "output_type": "execute_result"
    }
   ],
   "source": [
    "df.UrbanRural.isna().sum()"
   ]
  },
  {
   "cell_type": "code",
   "execution_count": 254,
   "metadata": {
    "colab": {
     "base_uri": "https://localhost:8080/",
     "height": 84
    },
    "colab_type": "code",
    "id": "iea2bxEMGT6Y",
    "outputId": "ab06b97a-8c67-48a3-cfe1-83619b19df86"
   },
   "outputs": [
    {
     "data": {
      "text/plain": [
       "1    81723\n",
       "0    51264\n",
       "2    16666\n",
       "Name: UrbanRural, dtype: int64"
      ]
     },
     "execution_count": 254,
     "metadata": {},
     "output_type": "execute_result"
    }
   ],
   "source": [
    "df.UrbanRural.value_counts()"
   ]
  },
  {
   "cell_type": "markdown",
   "metadata": {
    "colab_type": "text",
    "id": "9wqflUr7GnvQ"
   },
   "source": [
    "#RevLineCr"
   ]
  },
  {
   "cell_type": "code",
   "execution_count": 255,
   "metadata": {
    "colab": {
     "base_uri": "https://localhost:8080/",
     "height": 33
    },
    "colab_type": "code",
    "id": "NLIPZGY1GhtR",
    "outputId": "736e5c9e-dc3a-43cf-8044-9aa7cf78e082"
   },
   "outputs": [
    {
     "data": {
      "text/plain": [
       "23"
      ]
     },
     "execution_count": 255,
     "metadata": {},
     "output_type": "execute_result"
    }
   ],
   "source": [
    "df.RevLineCr.isna().sum()"
   ]
  },
  {
   "cell_type": "code",
   "execution_count": 256,
   "metadata": {
    "colab": {},
    "colab_type": "code",
    "id": "fT2-Ly3k1cHX"
   },
   "outputs": [],
   "source": [
    "df.drop(df[df.RevLineCr.isna()].index,inplace=True)"
   ]
  },
  {
   "cell_type": "code",
   "execution_count": 257,
   "metadata": {
    "colab": {
     "base_uri": "https://localhost:8080/",
     "height": 150
    },
    "colab_type": "code",
    "id": "kftIvOxgGugq",
    "outputId": "3d392a67-47ff-4b03-8882-5372f332f50b"
   },
   "outputs": [
    {
     "data": {
      "text/plain": [
       "N    71379\n",
       "Y    49776\n",
       "0    23655\n",
       "T     4814\n",
       "1        3\n",
       "`        2\n",
       ",        1\n",
       "Name: RevLineCr, dtype: int64"
      ]
     },
     "execution_count": 257,
     "metadata": {},
     "output_type": "execute_result"
    }
   ],
   "source": [
    "df.RevLineCr.value_counts()"
   ]
  },
  {
   "cell_type": "code",
   "execution_count": 258,
   "metadata": {
    "colab": {},
    "colab_type": "code",
    "id": "du-eP8hUxLID"
   },
   "outputs": [],
   "source": [
    "df.drop(df[df['RevLineCr']=='0'].index,inplace=True)\n",
    "df.drop(df[df['RevLineCr']=='`'].index,inplace=True)\n",
    "df.drop(df[df['RevLineCr']=='1'].index,inplace=True)\n",
    "df.drop(df[df['RevLineCr']==','].index,inplace=True)\n",
    "df.drop(df[df['RevLineCr']=='T'].index,inplace=True)"
   ]
  },
  {
   "cell_type": "code",
   "execution_count": 259,
   "metadata": {
    "colab": {
     "base_uri": "https://localhost:8080/",
     "height": 33
    },
    "colab_type": "code",
    "id": "icK-ASEPrTt1",
    "outputId": "1c7c1b58-da4c-49a4-a363-e2dfb01904e5"
   },
   "outputs": [
    {
     "data": {
      "text/plain": [
       "(121155, 24)"
      ]
     },
     "execution_count": 259,
     "metadata": {},
     "output_type": "execute_result"
    }
   ],
   "source": [
    "df.shape"
   ]
  },
  {
   "cell_type": "markdown",
   "metadata": {
    "colab_type": "text",
    "id": "NfGaxinzG5hf"
   },
   "source": [
    "RevLineCr column have garbage values \n",
    "and 23 nan values"
   ]
  },
  {
   "cell_type": "code",
   "execution_count": 260,
   "metadata": {
    "colab": {
     "base_uri": "https://localhost:8080/",
     "height": 33
    },
    "colab_type": "code",
    "id": "OtB1iiXVIe_D",
    "outputId": "4f33cb0f-cfb0-433d-f53e-108adf658ca1"
   },
   "outputs": [
    {
     "data": {
      "text/plain": [
       "0"
      ]
     },
     "execution_count": 260,
     "metadata": {},
     "output_type": "execute_result"
    }
   ],
   "source": [
    "df.LowDoc.isna().sum()"
   ]
  },
  {
   "cell_type": "code",
   "execution_count": 261,
   "metadata": {
    "colab": {
     "base_uri": "https://localhost:8080/",
     "height": 100
    },
    "colab_type": "code",
    "id": "LssBtcBDIkcG",
    "outputId": "f886fa07-8756-4314-f80c-11c17afbc2bc"
   },
   "outputs": [
    {
     "data": {
      "text/plain": [
       "N    110576\n",
       "Y     10499\n",
       "C        79\n",
       "1         1\n",
       "Name: LowDoc, dtype: int64"
      ]
     },
     "execution_count": 261,
     "metadata": {},
     "output_type": "execute_result"
    }
   ],
   "source": [
    "df.LowDoc.value_counts()"
   ]
  },
  {
   "cell_type": "code",
   "execution_count": 262,
   "metadata": {
    "colab": {},
    "colab_type": "code",
    "id": "OYFyIEfeyjrc"
   },
   "outputs": [],
   "source": [
    "df.drop(df[df['LowDoc']=='C'].index,inplace=True)\n",
    "df.drop(df[df['LowDoc']=='1'].index,inplace=True)"
   ]
  },
  {
   "cell_type": "markdown",
   "metadata": {
    "colab_type": "text",
    "id": "SkCdqn4ZIpgJ"
   },
   "source": [
    "LowDoc column have 84 garbage values"
   ]
  },
  {
   "cell_type": "code",
   "execution_count": 263,
   "metadata": {
    "colab": {
     "base_uri": "https://localhost:8080/",
     "height": 33
    },
    "colab_type": "code",
    "id": "BQX4p5Woyx04",
    "outputId": "b2b3533b-31a3-4322-d805-3622014e7cf5"
   },
   "outputs": [
    {
     "data": {
      "text/plain": [
       "(121075, 24)"
      ]
     },
     "execution_count": 263,
     "metadata": {},
     "output_type": "execute_result"
    }
   ],
   "source": [
    "df.shape"
   ]
  },
  {
   "cell_type": "code",
   "execution_count": 264,
   "metadata": {
    "colab": {},
    "colab_type": "code",
    "id": "ozjZape5zCvL"
   },
   "outputs": [],
   "source": [
    "#term ,DisbursementGross,df.Charge offgross,sbapproval,"
   ]
  },
  {
   "cell_type": "markdown",
   "metadata": {
    "colab_type": "text",
    "id": "3nV0tHajI-Iz"
   },
   "source": [
    "#DisbursementGross"
   ]
  },
  {
   "cell_type": "code",
   "execution_count": 265,
   "metadata": {
    "colab": {
     "base_uri": "https://localhost:8080/",
     "height": 33
    },
    "colab_type": "code",
    "id": "IXriCOLuI2dO",
    "outputId": "e46fb5f8-4fc8-4855-8fb7-af5820323be2"
   },
   "outputs": [
    {
     "data": {
      "text/plain": [
       "0"
      ]
     },
     "execution_count": 265,
     "metadata": {},
     "output_type": "execute_result"
    }
   ],
   "source": [
    "df.DisbursementGross.isna().sum()"
   ]
  },
  {
   "cell_type": "code",
   "execution_count": 266,
   "metadata": {
    "colab": {
     "base_uri": "https://localhost:8080/",
     "height": 217
    },
    "colab_type": "code",
    "id": "zJBsGj_9JDQj",
    "outputId": "2f7879a5-47a4-4ede-dbc0-abd492dede90"
   },
   "outputs": [
    {
     "data": {
      "text/plain": [
       "$50,000.00      9020\n",
       "$25,000.00      6484\n",
       "$100,000.00     5573\n",
       "$10,000.00      4714\n",
       "$35,000.00      2804\n",
       "                ... \n",
       "$27,115.00         1\n",
       "$17,358.00         1\n",
       "$63,637.00         1\n",
       "$908.00            1\n",
       "$38,172.00         1\n",
       "Name: DisbursementGross, Length: 35230, dtype: int64"
      ]
     },
     "execution_count": 266,
     "metadata": {},
     "output_type": "execute_result"
    }
   ],
   "source": [
    "df.DisbursementGross.value_counts()"
   ]
  },
  {
   "cell_type": "markdown",
   "metadata": {
    "colab_type": "text",
    "id": "ehswN4fmJKAe"
   },
   "source": [
    "remving $ from the values in each column"
   ]
  },
  {
   "cell_type": "code",
   "execution_count": 267,
   "metadata": {
    "colab": {},
    "colab_type": "code",
    "id": "K1DzS8f1JI_E"
   },
   "outputs": [],
   "source": [
    " #stripping $ and , sign from currency columns and converting into float64\n",
    "currency_cols = ['DisbursementGross', 'ChgOffPrinGr', 'GrAppv', 'SBA_Appv','BalanceGross']\n",
    "for cols in currency_cols:\n",
    "    df[cols] = df[cols].str.replace('$', '').str.replace(',', '')"
   ]
  },
  {
   "cell_type": "code",
   "execution_count": 268,
   "metadata": {
    "colab": {
     "base_uri": "https://localhost:8080/",
     "height": 742
    },
    "colab_type": "code",
    "id": "RgxTaxv10yQr",
    "outputId": "86559616-969d-43fc-ca37-7dcb34416a55"
   },
   "outputs": [
    {
     "data": {
      "text/html": [
       "<div>\n",
       "<style scoped>\n",
       "    .dataframe tbody tr th:only-of-type {\n",
       "        vertical-align: middle;\n",
       "    }\n",
       "\n",
       "    .dataframe tbody tr th {\n",
       "        vertical-align: top;\n",
       "    }\n",
       "\n",
       "    .dataframe thead th {\n",
       "        text-align: right;\n",
       "    }\n",
       "</style>\n",
       "<table border=\"1\" class=\"dataframe\">\n",
       "  <thead>\n",
       "    <tr style=\"text-align: right;\">\n",
       "      <th></th>\n",
       "      <th>City</th>\n",
       "      <th>State</th>\n",
       "      <th>Zip</th>\n",
       "      <th>Bank</th>\n",
       "      <th>BankState</th>\n",
       "      <th>CCSC</th>\n",
       "      <th>ApprovalDate</th>\n",
       "      <th>ApprovalFY</th>\n",
       "      <th>Term</th>\n",
       "      <th>NoEmp</th>\n",
       "      <th>...</th>\n",
       "      <th>UrbanRural</th>\n",
       "      <th>RevLineCr</th>\n",
       "      <th>LowDoc</th>\n",
       "      <th>DisbursementDate</th>\n",
       "      <th>DisbursementGross</th>\n",
       "      <th>BalanceGross</th>\n",
       "      <th>MIS_Status</th>\n",
       "      <th>ChgOffPrinGr</th>\n",
       "      <th>GrAppv</th>\n",
       "      <th>SBA_Appv</th>\n",
       "    </tr>\n",
       "  </thead>\n",
       "  <tbody>\n",
       "    <tr>\n",
       "      <th>0</th>\n",
       "      <td>EVANSVILLE</td>\n",
       "      <td>IN</td>\n",
       "      <td>47711</td>\n",
       "      <td>FIFTH THIRD BANK</td>\n",
       "      <td>OH</td>\n",
       "      <td>451120</td>\n",
       "      <td>1997-02-28</td>\n",
       "      <td>1997</td>\n",
       "      <td>84</td>\n",
       "      <td>4</td>\n",
       "      <td>...</td>\n",
       "      <td>0</td>\n",
       "      <td>N</td>\n",
       "      <td>Y</td>\n",
       "      <td>1999-02-28</td>\n",
       "      <td>60000.00</td>\n",
       "      <td>0.00</td>\n",
       "      <td>P I F</td>\n",
       "      <td>0.00</td>\n",
       "      <td>60000.00</td>\n",
       "      <td>48000.00</td>\n",
       "    </tr>\n",
       "    <tr>\n",
       "      <th>1</th>\n",
       "      <td>NEW PARIS</td>\n",
       "      <td>IN</td>\n",
       "      <td>46526</td>\n",
       "      <td>1ST SOURCE BANK</td>\n",
       "      <td>IN</td>\n",
       "      <td>722410</td>\n",
       "      <td>1997-02-28</td>\n",
       "      <td>1997</td>\n",
       "      <td>60</td>\n",
       "      <td>2</td>\n",
       "      <td>...</td>\n",
       "      <td>0</td>\n",
       "      <td>N</td>\n",
       "      <td>Y</td>\n",
       "      <td>1997-05-31</td>\n",
       "      <td>40000.00</td>\n",
       "      <td>0.00</td>\n",
       "      <td>P I F</td>\n",
       "      <td>0.00</td>\n",
       "      <td>40000.00</td>\n",
       "      <td>32000.00</td>\n",
       "    </tr>\n",
       "    <tr>\n",
       "      <th>2</th>\n",
       "      <td>BLOOMINGTON</td>\n",
       "      <td>IN</td>\n",
       "      <td>47401</td>\n",
       "      <td>GRANT COUNTY STATE BANK</td>\n",
       "      <td>IN</td>\n",
       "      <td>621210</td>\n",
       "      <td>1997-02-28</td>\n",
       "      <td>1997</td>\n",
       "      <td>180</td>\n",
       "      <td>7</td>\n",
       "      <td>...</td>\n",
       "      <td>0</td>\n",
       "      <td>N</td>\n",
       "      <td>N</td>\n",
       "      <td>1997-12-31</td>\n",
       "      <td>287000.00</td>\n",
       "      <td>0.00</td>\n",
       "      <td>P I F</td>\n",
       "      <td>0.00</td>\n",
       "      <td>287000.00</td>\n",
       "      <td>215250.00</td>\n",
       "    </tr>\n",
       "    <tr>\n",
       "      <th>3</th>\n",
       "      <td>BROKEN ARROW</td>\n",
       "      <td>OK</td>\n",
       "      <td>74012</td>\n",
       "      <td>1ST NATL BK &amp; TR CO OF BROKEN</td>\n",
       "      <td>OK</td>\n",
       "      <td>0</td>\n",
       "      <td>1997-02-28</td>\n",
       "      <td>1997</td>\n",
       "      <td>60</td>\n",
       "      <td>2</td>\n",
       "      <td>...</td>\n",
       "      <td>0</td>\n",
       "      <td>N</td>\n",
       "      <td>Y</td>\n",
       "      <td>1997-06-30</td>\n",
       "      <td>35000.00</td>\n",
       "      <td>0.00</td>\n",
       "      <td>P I F</td>\n",
       "      <td>0.00</td>\n",
       "      <td>35000.00</td>\n",
       "      <td>28000.00</td>\n",
       "    </tr>\n",
       "    <tr>\n",
       "      <th>4</th>\n",
       "      <td>ORLANDO</td>\n",
       "      <td>FL</td>\n",
       "      <td>32801</td>\n",
       "      <td>FLORIDA BUS. DEVEL CORP</td>\n",
       "      <td>FL</td>\n",
       "      <td>0</td>\n",
       "      <td>1997-02-28</td>\n",
       "      <td>1997</td>\n",
       "      <td>240</td>\n",
       "      <td>14</td>\n",
       "      <td>...</td>\n",
       "      <td>0</td>\n",
       "      <td>N</td>\n",
       "      <td>N</td>\n",
       "      <td>1997-05-14</td>\n",
       "      <td>229000.00</td>\n",
       "      <td>0.00</td>\n",
       "      <td>P I F</td>\n",
       "      <td>0.00</td>\n",
       "      <td>229000.00</td>\n",
       "      <td>229000.00</td>\n",
       "    </tr>\n",
       "    <tr>\n",
       "      <th>...</th>\n",
       "      <td>...</td>\n",
       "      <td>...</td>\n",
       "      <td>...</td>\n",
       "      <td>...</td>\n",
       "      <td>...</td>\n",
       "      <td>...</td>\n",
       "      <td>...</td>\n",
       "      <td>...</td>\n",
       "      <td>...</td>\n",
       "      <td>...</td>\n",
       "      <td>...</td>\n",
       "      <td>...</td>\n",
       "      <td>...</td>\n",
       "      <td>...</td>\n",
       "      <td>...</td>\n",
       "      <td>...</td>\n",
       "      <td>...</td>\n",
       "      <td>...</td>\n",
       "      <td>...</td>\n",
       "      <td>...</td>\n",
       "      <td>...</td>\n",
       "    </tr>\n",
       "    <tr>\n",
       "      <th>149992</th>\n",
       "      <td>Westerville</td>\n",
       "      <td>OH</td>\n",
       "      <td>43082</td>\n",
       "      <td>THE HUNTINGTON NATIONAL BANK</td>\n",
       "      <td>OH</td>\n",
       "      <td>624310</td>\n",
       "      <td>2006-10-30</td>\n",
       "      <td>2007</td>\n",
       "      <td>60</td>\n",
       "      <td>0</td>\n",
       "      <td>...</td>\n",
       "      <td>1</td>\n",
       "      <td>N</td>\n",
       "      <td>N</td>\n",
       "      <td>2006-11-30</td>\n",
       "      <td>9900.00</td>\n",
       "      <td>0.00</td>\n",
       "      <td>P I F</td>\n",
       "      <td>0.00</td>\n",
       "      <td>9900.00</td>\n",
       "      <td>4950.00</td>\n",
       "    </tr>\n",
       "    <tr>\n",
       "      <th>149994</th>\n",
       "      <td>READING</td>\n",
       "      <td>PA</td>\n",
       "      <td>19604</td>\n",
       "      <td>CITIZENS BANK NATL ASSOC</td>\n",
       "      <td>RI</td>\n",
       "      <td>621493</td>\n",
       "      <td>2006-10-30</td>\n",
       "      <td>2007</td>\n",
       "      <td>32</td>\n",
       "      <td>13</td>\n",
       "      <td>...</td>\n",
       "      <td>1</td>\n",
       "      <td>Y</td>\n",
       "      <td>N</td>\n",
       "      <td>2006-11-30</td>\n",
       "      <td>142207.00</td>\n",
       "      <td>0.00</td>\n",
       "      <td>CHGOFF</td>\n",
       "      <td>43074.00</td>\n",
       "      <td>100000.00</td>\n",
       "      <td>50000.00</td>\n",
       "    </tr>\n",
       "    <tr>\n",
       "      <th>149995</th>\n",
       "      <td>Belleville</td>\n",
       "      <td>MI</td>\n",
       "      <td>48111</td>\n",
       "      <td>PNC BANK, NATIONAL ASSOCIATION</td>\n",
       "      <td>DE</td>\n",
       "      <td>236118</td>\n",
       "      <td>2006-10-30</td>\n",
       "      <td>2007</td>\n",
       "      <td>24</td>\n",
       "      <td>8</td>\n",
       "      <td>...</td>\n",
       "      <td>2</td>\n",
       "      <td>Y</td>\n",
       "      <td>N</td>\n",
       "      <td>2006-11-30</td>\n",
       "      <td>39694.00</td>\n",
       "      <td>0.00</td>\n",
       "      <td>CHGOFF</td>\n",
       "      <td>18812.00</td>\n",
       "      <td>20000.00</td>\n",
       "      <td>10000.00</td>\n",
       "    </tr>\n",
       "    <tr>\n",
       "      <th>149996</th>\n",
       "      <td>FAIRFAX</td>\n",
       "      <td>VA</td>\n",
       "      <td>22032</td>\n",
       "      <td>CAPITAL ONE NATL ASSOC</td>\n",
       "      <td>VA</td>\n",
       "      <td>541611</td>\n",
       "      <td>2006-10-30</td>\n",
       "      <td>2007</td>\n",
       "      <td>84</td>\n",
       "      <td>4</td>\n",
       "      <td>...</td>\n",
       "      <td>1</td>\n",
       "      <td>N</td>\n",
       "      <td>N</td>\n",
       "      <td>2006-11-30</td>\n",
       "      <td>100000.00</td>\n",
       "      <td>0.00</td>\n",
       "      <td>P I F</td>\n",
       "      <td>0.00</td>\n",
       "      <td>100000.00</td>\n",
       "      <td>50000.00</td>\n",
       "    </tr>\n",
       "    <tr>\n",
       "      <th>149997</th>\n",
       "      <td>Columbus</td>\n",
       "      <td>OH</td>\n",
       "      <td>43228</td>\n",
       "      <td>THE HUNTINGTON NATIONAL BANK</td>\n",
       "      <td>OH</td>\n",
       "      <td>812990</td>\n",
       "      <td>2006-10-30</td>\n",
       "      <td>2007</td>\n",
       "      <td>60</td>\n",
       "      <td>9</td>\n",
       "      <td>...</td>\n",
       "      <td>1</td>\n",
       "      <td>Y</td>\n",
       "      <td>N</td>\n",
       "      <td>2007-02-28</td>\n",
       "      <td>25000.00</td>\n",
       "      <td>0.00</td>\n",
       "      <td>P I F</td>\n",
       "      <td>0.00</td>\n",
       "      <td>25000.00</td>\n",
       "      <td>12500.00</td>\n",
       "    </tr>\n",
       "  </tbody>\n",
       "</table>\n",
       "<p>121075 rows × 24 columns</p>\n",
       "</div>"
      ],
      "text/plain": [
       "                City State    Zip                            Bank BankState  \\\n",
       "0         EVANSVILLE    IN  47711                FIFTH THIRD BANK        OH   \n",
       "1          NEW PARIS    IN  46526                 1ST SOURCE BANK        IN   \n",
       "2        BLOOMINGTON    IN  47401         GRANT COUNTY STATE BANK        IN   \n",
       "3       BROKEN ARROW    OK  74012   1ST NATL BK & TR CO OF BROKEN        OK   \n",
       "4            ORLANDO    FL  32801         FLORIDA BUS. DEVEL CORP        FL   \n",
       "...              ...   ...    ...                             ...       ...   \n",
       "149992   Westerville    OH  43082    THE HUNTINGTON NATIONAL BANK        OH   \n",
       "149994       READING    PA  19604        CITIZENS BANK NATL ASSOC        RI   \n",
       "149995    Belleville    MI  48111  PNC BANK, NATIONAL ASSOCIATION        DE   \n",
       "149996       FAIRFAX    VA  22032          CAPITAL ONE NATL ASSOC        VA   \n",
       "149997      Columbus    OH  43228    THE HUNTINGTON NATIONAL BANK        OH   \n",
       "\n",
       "          CCSC ApprovalDate  ApprovalFY  Term  NoEmp  ...  UrbanRural  \\\n",
       "0       451120   1997-02-28        1997    84      4  ...           0   \n",
       "1       722410   1997-02-28        1997    60      2  ...           0   \n",
       "2       621210   1997-02-28        1997   180      7  ...           0   \n",
       "3            0   1997-02-28        1997    60      2  ...           0   \n",
       "4            0   1997-02-28        1997   240     14  ...           0   \n",
       "...        ...          ...         ...   ...    ...  ...         ...   \n",
       "149992  624310   2006-10-30        2007    60      0  ...           1   \n",
       "149994  621493   2006-10-30        2007    32     13  ...           1   \n",
       "149995  236118   2006-10-30        2007    24      8  ...           2   \n",
       "149996  541611   2006-10-30        2007    84      4  ...           1   \n",
       "149997  812990   2006-10-30        2007    60      9  ...           1   \n",
       "\n",
       "        RevLineCr  LowDoc  DisbursementDate  DisbursementGross BalanceGross  \\\n",
       "0               N       Y        1999-02-28          60000.00         0.00    \n",
       "1               N       Y        1997-05-31          40000.00         0.00    \n",
       "2               N       N        1997-12-31         287000.00         0.00    \n",
       "3               N       Y        1997-06-30          35000.00         0.00    \n",
       "4               N       N        1997-05-14         229000.00         0.00    \n",
       "...           ...     ...               ...                ...          ...   \n",
       "149992          N       N        2006-11-30           9900.00         0.00    \n",
       "149994          Y       N        2006-11-30         142207.00         0.00    \n",
       "149995          Y       N        2006-11-30          39694.00         0.00    \n",
       "149996          N       N        2006-11-30         100000.00         0.00    \n",
       "149997          Y       N        2007-02-28          25000.00         0.00    \n",
       "\n",
       "       MIS_Status ChgOffPrinGr      GrAppv    SBA_Appv  \n",
       "0           P I F        0.00    60000.00    48000.00   \n",
       "1           P I F        0.00    40000.00    32000.00   \n",
       "2           P I F        0.00   287000.00   215250.00   \n",
       "3           P I F        0.00    35000.00    28000.00   \n",
       "4           P I F        0.00   229000.00   229000.00   \n",
       "...           ...          ...         ...         ...  \n",
       "149992      P I F        0.00     9900.00     4950.00   \n",
       "149994     CHGOFF    43074.00   100000.00    50000.00   \n",
       "149995     CHGOFF    18812.00    20000.00    10000.00   \n",
       "149996      P I F        0.00   100000.00    50000.00   \n",
       "149997      P I F        0.00    25000.00    12500.00   \n",
       "\n",
       "[121075 rows x 24 columns]"
      ]
     },
     "execution_count": 268,
     "metadata": {},
     "output_type": "execute_result"
    }
   ],
   "source": [
    "df"
   ]
  },
  {
   "cell_type": "code",
   "execution_count": 269,
   "metadata": {
    "colab": {
     "base_uri": "https://localhost:8080/",
     "height": 33
    },
    "colab_type": "code",
    "id": "PqsurM-Kn-Qp",
    "outputId": "0f707b62-ab5b-4dcb-ffd1-d4da6e5b05c5"
   },
   "outputs": [
    {
     "data": {
      "text/plain": [
       "0"
      ]
     },
     "execution_count": 269,
     "metadata": {},
     "output_type": "execute_result"
    }
   ],
   "source": [
    "df.DisbursementGross.isna().sum()"
   ]
  },
  {
   "cell_type": "code",
   "execution_count": 270,
   "metadata": {
    "colab": {
     "base_uri": "https://localhost:8080/",
     "height": 33
    },
    "colab_type": "code",
    "id": "1KSBXJOAoYUX",
    "outputId": "831c0351-b301-4a51-aff4-a5560dcf5224"
   },
   "outputs": [
    {
     "data": {
      "text/plain": [
       "0"
      ]
     },
     "execution_count": 270,
     "metadata": {},
     "output_type": "execute_result"
    }
   ],
   "source": [
    "df.ChgOffPrinGr.isna().sum()"
   ]
  },
  {
   "cell_type": "code",
   "execution_count": 271,
   "metadata": {
    "colab": {
     "base_uri": "https://localhost:8080/",
     "height": 33
    },
    "colab_type": "code",
    "id": "AuwJU5WFoke2",
    "outputId": "0d5601fc-0370-41b8-9d82-85b98e54ebab"
   },
   "outputs": [
    {
     "data": {
      "text/plain": [
       "0"
      ]
     },
     "execution_count": 271,
     "metadata": {},
     "output_type": "execute_result"
    }
   ],
   "source": [
    "df.GrAppv.isna().sum()"
   ]
  },
  {
   "cell_type": "code",
   "execution_count": 272,
   "metadata": {
    "colab": {
     "base_uri": "https://localhost:8080/",
     "height": 33
    },
    "colab_type": "code",
    "id": "6IjLU8001JAY",
    "outputId": "5802f0e9-dc85-4262-d6b1-e6fcc1bc584d"
   },
   "outputs": [
    {
     "data": {
      "text/plain": [
       "0"
      ]
     },
     "execution_count": 272,
     "metadata": {},
     "output_type": "execute_result"
    }
   ],
   "source": [
    "df.BalanceGross.isna().sum()"
   ]
  },
  {
   "cell_type": "code",
   "execution_count": 273,
   "metadata": {
    "colab": {
     "base_uri": "https://localhost:8080/",
     "height": 435
    },
    "colab_type": "code",
    "id": "O1pKqKRmo0Ud",
    "outputId": "ef1a26e2-295e-47d2-954a-e0e1f2915f2f"
   },
   "outputs": [
    {
     "data": {
      "text/plain": [
       "City                   0\n",
       "State                  0\n",
       "Zip                    0\n",
       "Bank                   0\n",
       "BankState              0\n",
       "CCSC                   0\n",
       "ApprovalDate           0\n",
       "ApprovalFY             0\n",
       "Term                   0\n",
       "NoEmp                  0\n",
       "NewExist               0\n",
       "CreateJob              0\n",
       "RetainedJob            0\n",
       "FranchiseCode          0\n",
       "UrbanRural             0\n",
       "RevLineCr              0\n",
       "LowDoc                 0\n",
       "DisbursementDate       0\n",
       "DisbursementGross      0\n",
       "BalanceGross           0\n",
       "MIS_Status           813\n",
       "ChgOffPrinGr           0\n",
       "GrAppv                 0\n",
       "SBA_Appv               0\n",
       "dtype: int64"
      ]
     },
     "execution_count": 273,
     "metadata": {},
     "output_type": "execute_result"
    }
   ],
   "source": [
    "df.isna().sum()"
   ]
  },
  {
   "cell_type": "markdown",
   "metadata": {
    "colab_type": "text",
    "id": "ZVThp5QB2ASH"
   },
   "source": [
    "#MIS_Status"
   ]
  },
  {
   "cell_type": "code",
   "execution_count": 274,
   "metadata": {
    "colab": {
     "base_uri": "https://localhost:8080/",
     "height": 67
    },
    "colab_type": "code",
    "id": "L12mhXgF1_ll",
    "outputId": "6d6ec7ef-d550-4923-bae0-39350cb80ac5"
   },
   "outputs": [
    {
     "data": {
      "text/plain": [
       "P I F     87401\n",
       "CHGOFF    32861\n",
       "Name: MIS_Status, dtype: int64"
      ]
     },
     "execution_count": 274,
     "metadata": {},
     "output_type": "execute_result"
    }
   ],
   "source": [
    "df.MIS_Status.value_counts()\n",
    "#so thid has 2 categorie so this is the best variable for target variable "
   ]
  },
  {
   "cell_type": "code",
   "execution_count": 275,
   "metadata": {
    "colab": {
     "base_uri": "https://localhost:8080/",
     "height": 33
    },
    "colab_type": "code",
    "id": "HYKN___Z2fNa",
    "outputId": "67388c3a-5d05-4021-ffa4-5465cdc4c4ac"
   },
   "outputs": [
    {
     "data": {
      "text/plain": [
       "813"
      ]
     },
     "execution_count": 275,
     "metadata": {},
     "output_type": "execute_result"
    }
   ],
   "source": [
    "df.MIS_Status.isna().sum()"
   ]
  },
  {
   "cell_type": "code",
   "execution_count": 276,
   "metadata": {
    "colab": {},
    "colab_type": "code",
    "id": "ZP0-Ixkz2l7v"
   },
   "outputs": [],
   "source": [
    "df.drop(df[df.MIS_Status.isna()].index,inplace=True)"
   ]
  },
  {
   "cell_type": "code",
   "execution_count": 277,
   "metadata": {
    "colab": {
     "base_uri": "https://localhost:8080/",
     "height": 435
    },
    "colab_type": "code",
    "id": "7xPxeXRA2tyk",
    "outputId": "b6c48eb5-42fc-48f8-8964-5b4cc0a6ab78"
   },
   "outputs": [
    {
     "data": {
      "text/plain": [
       "City                 0\n",
       "State                0\n",
       "Zip                  0\n",
       "Bank                 0\n",
       "BankState            0\n",
       "CCSC                 0\n",
       "ApprovalDate         0\n",
       "ApprovalFY           0\n",
       "Term                 0\n",
       "NoEmp                0\n",
       "NewExist             0\n",
       "CreateJob            0\n",
       "RetainedJob          0\n",
       "FranchiseCode        0\n",
       "UrbanRural           0\n",
       "RevLineCr            0\n",
       "LowDoc               0\n",
       "DisbursementDate     0\n",
       "DisbursementGross    0\n",
       "BalanceGross         0\n",
       "MIS_Status           0\n",
       "ChgOffPrinGr         0\n",
       "GrAppv               0\n",
       "SBA_Appv             0\n",
       "dtype: int64"
      ]
     },
     "execution_count": 277,
     "metadata": {},
     "output_type": "execute_result"
    }
   ],
   "source": [
    "df.isna().sum()"
   ]
  },
  {
   "cell_type": "code",
   "execution_count": 278,
   "metadata": {
    "colab": {
     "base_uri": "https://localhost:8080/",
     "height": 33
    },
    "colab_type": "code",
    "id": "bpj6PK6Z20Pp",
    "outputId": "6d04a7ee-67a1-4415-bef8-2f882075e68e"
   },
   "outputs": [
    {
     "data": {
      "text/plain": [
       "(120262, 24)"
      ]
     },
     "execution_count": 278,
     "metadata": {},
     "output_type": "execute_result"
    }
   ],
   "source": [
    "df.shape"
   ]
  },
  {
   "cell_type": "code",
   "execution_count": 279,
   "metadata": {
    "colab": {
     "base_uri": "https://localhost:8080/",
     "height": 535
    },
    "colab_type": "code",
    "id": "6T-JmwXAATwD",
    "outputId": "c2bdb951-8729-4799-e272-126d30f721b1"
   },
   "outputs": [
    {
     "name": "stdout",
     "output_type": "stream",
     "text": [
      "<class 'pandas.core.frame.DataFrame'>\n",
      "Int64Index: 120262 entries, 0 to 149997\n",
      "Data columns (total 24 columns):\n",
      " #   Column             Non-Null Count   Dtype         \n",
      "---  ------             --------------   -----         \n",
      " 0   City               120262 non-null  object        \n",
      " 1   State              120262 non-null  object        \n",
      " 2   Zip                120262 non-null  int64         \n",
      " 3   Bank               120262 non-null  object        \n",
      " 4   BankState          120262 non-null  object        \n",
      " 5   CCSC               120262 non-null  int64         \n",
      " 6   ApprovalDate       120262 non-null  datetime64[ns]\n",
      " 7   ApprovalFY         120262 non-null  int64         \n",
      " 8   Term               120262 non-null  int64         \n",
      " 9   NoEmp              120262 non-null  int64         \n",
      " 10  NewExist           120262 non-null  int64         \n",
      " 11  CreateJob          120262 non-null  int64         \n",
      " 12  RetainedJob        120262 non-null  int64         \n",
      " 13  FranchiseCode      120262 non-null  int64         \n",
      " 14  UrbanRural         120262 non-null  int64         \n",
      " 15  RevLineCr          120262 non-null  object        \n",
      " 16  LowDoc             120262 non-null  object        \n",
      " 17  DisbursementDate   120262 non-null  datetime64[ns]\n",
      " 18  DisbursementGross  120262 non-null  object        \n",
      " 19  BalanceGross       120262 non-null  object        \n",
      " 20  MIS_Status         120262 non-null  object        \n",
      " 21  ChgOffPrinGr       120262 non-null  object        \n",
      " 22  GrAppv             120262 non-null  object        \n",
      " 23  SBA_Appv           120262 non-null  object        \n",
      "dtypes: datetime64[ns](2), int64(10), object(12)\n",
      "memory usage: 22.9+ MB\n"
     ]
    }
   ],
   "source": [
    "df.info()"
   ]
  },
  {
   "cell_type": "code",
   "execution_count": 280,
   "metadata": {
    "colab": {
     "base_uri": "https://localhost:8080/",
     "height": 33
    },
    "colab_type": "code",
    "id": "mBrG8l4qQTZ3",
    "outputId": "448b0f79-1dc1-4d28-8404-7c1e0c50a910"
   },
   "outputs": [
    {
     "data": {
      "text/plain": [
       "dtype('O')"
      ]
     },
     "execution_count": 280,
     "metadata": {},
     "output_type": "execute_result"
    }
   ],
   "source": [
    "df['State'].dtype"
   ]
  },
  {
   "cell_type": "code",
   "execution_count": 281,
   "metadata": {
    "colab": {
     "base_uri": "https://localhost:8080/",
     "height": 234
    },
    "colab_type": "code",
    "id": "5rtCb9TQTVOS",
    "outputId": "f5d3f3cf-497a-4281-8ddf-316232523383"
   },
   "outputs": [
    {
     "data": {
      "text/plain": [
       "(12,\n",
       " ['City',\n",
       "  'State',\n",
       "  'Bank',\n",
       "  'BankState',\n",
       "  'RevLineCr',\n",
       "  'LowDoc',\n",
       "  'DisbursementGross',\n",
       "  'BalanceGross',\n",
       "  'MIS_Status',\n",
       "  'ChgOffPrinGr',\n",
       "  'GrAppv',\n",
       "  'SBA_Appv'])"
      ]
     },
     "execution_count": 281,
     "metadata": {},
     "output_type": "execute_result"
    }
   ],
   "source": [
    "cat_features=[i for i in df.columns if df.dtypes[i]=='object']\n",
    "len(cat_features),cat_features"
   ]
  },
  {
   "cell_type": "code",
   "execution_count": 282,
   "metadata": {
    "colab": {
     "base_uri": "https://localhost:8080/",
     "height": 742
    },
    "colab_type": "code",
    "id": "vrPibTQ8Tu6b",
    "outputId": "f8d8b274-0b4c-40b6-d977-5c4a59e88f67"
   },
   "outputs": [
    {
     "data": {
      "text/html": [
       "<div>\n",
       "<style scoped>\n",
       "    .dataframe tbody tr th:only-of-type {\n",
       "        vertical-align: middle;\n",
       "    }\n",
       "\n",
       "    .dataframe tbody tr th {\n",
       "        vertical-align: top;\n",
       "    }\n",
       "\n",
       "    .dataframe thead th {\n",
       "        text-align: right;\n",
       "    }\n",
       "</style>\n",
       "<table border=\"1\" class=\"dataframe\">\n",
       "  <thead>\n",
       "    <tr style=\"text-align: right;\">\n",
       "      <th></th>\n",
       "      <th>City</th>\n",
       "      <th>State</th>\n",
       "      <th>Zip</th>\n",
       "      <th>Bank</th>\n",
       "      <th>BankState</th>\n",
       "      <th>CCSC</th>\n",
       "      <th>ApprovalDate</th>\n",
       "      <th>ApprovalFY</th>\n",
       "      <th>Term</th>\n",
       "      <th>NoEmp</th>\n",
       "      <th>...</th>\n",
       "      <th>UrbanRural</th>\n",
       "      <th>RevLineCr</th>\n",
       "      <th>LowDoc</th>\n",
       "      <th>DisbursementDate</th>\n",
       "      <th>DisbursementGross</th>\n",
       "      <th>BalanceGross</th>\n",
       "      <th>MIS_Status</th>\n",
       "      <th>ChgOffPrinGr</th>\n",
       "      <th>GrAppv</th>\n",
       "      <th>SBA_Appv</th>\n",
       "    </tr>\n",
       "  </thead>\n",
       "  <tbody>\n",
       "    <tr>\n",
       "      <th>0</th>\n",
       "      <td>EVANSVILLE</td>\n",
       "      <td>IN</td>\n",
       "      <td>47711</td>\n",
       "      <td>FIFTH THIRD BANK</td>\n",
       "      <td>OH</td>\n",
       "      <td>451120</td>\n",
       "      <td>1997-02-28</td>\n",
       "      <td>1997</td>\n",
       "      <td>84</td>\n",
       "      <td>4</td>\n",
       "      <td>...</td>\n",
       "      <td>0</td>\n",
       "      <td>N</td>\n",
       "      <td>Y</td>\n",
       "      <td>1999-02-28</td>\n",
       "      <td>60000.00</td>\n",
       "      <td>0.00</td>\n",
       "      <td>P I F</td>\n",
       "      <td>0.00</td>\n",
       "      <td>60000.00</td>\n",
       "      <td>48000.00</td>\n",
       "    </tr>\n",
       "    <tr>\n",
       "      <th>1</th>\n",
       "      <td>NEW PARIS</td>\n",
       "      <td>IN</td>\n",
       "      <td>46526</td>\n",
       "      <td>1ST SOURCE BANK</td>\n",
       "      <td>IN</td>\n",
       "      <td>722410</td>\n",
       "      <td>1997-02-28</td>\n",
       "      <td>1997</td>\n",
       "      <td>60</td>\n",
       "      <td>2</td>\n",
       "      <td>...</td>\n",
       "      <td>0</td>\n",
       "      <td>N</td>\n",
       "      <td>Y</td>\n",
       "      <td>1997-05-31</td>\n",
       "      <td>40000.00</td>\n",
       "      <td>0.00</td>\n",
       "      <td>P I F</td>\n",
       "      <td>0.00</td>\n",
       "      <td>40000.00</td>\n",
       "      <td>32000.00</td>\n",
       "    </tr>\n",
       "    <tr>\n",
       "      <th>2</th>\n",
       "      <td>BLOOMINGTON</td>\n",
       "      <td>IN</td>\n",
       "      <td>47401</td>\n",
       "      <td>GRANT COUNTY STATE BANK</td>\n",
       "      <td>IN</td>\n",
       "      <td>621210</td>\n",
       "      <td>1997-02-28</td>\n",
       "      <td>1997</td>\n",
       "      <td>180</td>\n",
       "      <td>7</td>\n",
       "      <td>...</td>\n",
       "      <td>0</td>\n",
       "      <td>N</td>\n",
       "      <td>N</td>\n",
       "      <td>1997-12-31</td>\n",
       "      <td>287000.00</td>\n",
       "      <td>0.00</td>\n",
       "      <td>P I F</td>\n",
       "      <td>0.00</td>\n",
       "      <td>287000.00</td>\n",
       "      <td>215250.00</td>\n",
       "    </tr>\n",
       "    <tr>\n",
       "      <th>3</th>\n",
       "      <td>BROKEN ARROW</td>\n",
       "      <td>OK</td>\n",
       "      <td>74012</td>\n",
       "      <td>1ST NATL BK &amp; TR CO OF BROKEN</td>\n",
       "      <td>OK</td>\n",
       "      <td>0</td>\n",
       "      <td>1997-02-28</td>\n",
       "      <td>1997</td>\n",
       "      <td>60</td>\n",
       "      <td>2</td>\n",
       "      <td>...</td>\n",
       "      <td>0</td>\n",
       "      <td>N</td>\n",
       "      <td>Y</td>\n",
       "      <td>1997-06-30</td>\n",
       "      <td>35000.00</td>\n",
       "      <td>0.00</td>\n",
       "      <td>P I F</td>\n",
       "      <td>0.00</td>\n",
       "      <td>35000.00</td>\n",
       "      <td>28000.00</td>\n",
       "    </tr>\n",
       "    <tr>\n",
       "      <th>4</th>\n",
       "      <td>ORLANDO</td>\n",
       "      <td>FL</td>\n",
       "      <td>32801</td>\n",
       "      <td>FLORIDA BUS. DEVEL CORP</td>\n",
       "      <td>FL</td>\n",
       "      <td>0</td>\n",
       "      <td>1997-02-28</td>\n",
       "      <td>1997</td>\n",
       "      <td>240</td>\n",
       "      <td>14</td>\n",
       "      <td>...</td>\n",
       "      <td>0</td>\n",
       "      <td>N</td>\n",
       "      <td>N</td>\n",
       "      <td>1997-05-14</td>\n",
       "      <td>229000.00</td>\n",
       "      <td>0.00</td>\n",
       "      <td>P I F</td>\n",
       "      <td>0.00</td>\n",
       "      <td>229000.00</td>\n",
       "      <td>229000.00</td>\n",
       "    </tr>\n",
       "    <tr>\n",
       "      <th>...</th>\n",
       "      <td>...</td>\n",
       "      <td>...</td>\n",
       "      <td>...</td>\n",
       "      <td>...</td>\n",
       "      <td>...</td>\n",
       "      <td>...</td>\n",
       "      <td>...</td>\n",
       "      <td>...</td>\n",
       "      <td>...</td>\n",
       "      <td>...</td>\n",
       "      <td>...</td>\n",
       "      <td>...</td>\n",
       "      <td>...</td>\n",
       "      <td>...</td>\n",
       "      <td>...</td>\n",
       "      <td>...</td>\n",
       "      <td>...</td>\n",
       "      <td>...</td>\n",
       "      <td>...</td>\n",
       "      <td>...</td>\n",
       "      <td>...</td>\n",
       "    </tr>\n",
       "    <tr>\n",
       "      <th>149992</th>\n",
       "      <td>Westerville</td>\n",
       "      <td>OH</td>\n",
       "      <td>43082</td>\n",
       "      <td>THE HUNTINGTON NATIONAL BANK</td>\n",
       "      <td>OH</td>\n",
       "      <td>624310</td>\n",
       "      <td>2006-10-30</td>\n",
       "      <td>2007</td>\n",
       "      <td>60</td>\n",
       "      <td>0</td>\n",
       "      <td>...</td>\n",
       "      <td>1</td>\n",
       "      <td>N</td>\n",
       "      <td>N</td>\n",
       "      <td>2006-11-30</td>\n",
       "      <td>9900.00</td>\n",
       "      <td>0.00</td>\n",
       "      <td>P I F</td>\n",
       "      <td>0.00</td>\n",
       "      <td>9900.00</td>\n",
       "      <td>4950.00</td>\n",
       "    </tr>\n",
       "    <tr>\n",
       "      <th>149994</th>\n",
       "      <td>READING</td>\n",
       "      <td>PA</td>\n",
       "      <td>19604</td>\n",
       "      <td>CITIZENS BANK NATL ASSOC</td>\n",
       "      <td>RI</td>\n",
       "      <td>621493</td>\n",
       "      <td>2006-10-30</td>\n",
       "      <td>2007</td>\n",
       "      <td>32</td>\n",
       "      <td>13</td>\n",
       "      <td>...</td>\n",
       "      <td>1</td>\n",
       "      <td>Y</td>\n",
       "      <td>N</td>\n",
       "      <td>2006-11-30</td>\n",
       "      <td>142207.00</td>\n",
       "      <td>0.00</td>\n",
       "      <td>CHGOFF</td>\n",
       "      <td>43074.00</td>\n",
       "      <td>100000.00</td>\n",
       "      <td>50000.00</td>\n",
       "    </tr>\n",
       "    <tr>\n",
       "      <th>149995</th>\n",
       "      <td>Belleville</td>\n",
       "      <td>MI</td>\n",
       "      <td>48111</td>\n",
       "      <td>PNC BANK, NATIONAL ASSOCIATION</td>\n",
       "      <td>DE</td>\n",
       "      <td>236118</td>\n",
       "      <td>2006-10-30</td>\n",
       "      <td>2007</td>\n",
       "      <td>24</td>\n",
       "      <td>8</td>\n",
       "      <td>...</td>\n",
       "      <td>2</td>\n",
       "      <td>Y</td>\n",
       "      <td>N</td>\n",
       "      <td>2006-11-30</td>\n",
       "      <td>39694.00</td>\n",
       "      <td>0.00</td>\n",
       "      <td>CHGOFF</td>\n",
       "      <td>18812.00</td>\n",
       "      <td>20000.00</td>\n",
       "      <td>10000.00</td>\n",
       "    </tr>\n",
       "    <tr>\n",
       "      <th>149996</th>\n",
       "      <td>FAIRFAX</td>\n",
       "      <td>VA</td>\n",
       "      <td>22032</td>\n",
       "      <td>CAPITAL ONE NATL ASSOC</td>\n",
       "      <td>VA</td>\n",
       "      <td>541611</td>\n",
       "      <td>2006-10-30</td>\n",
       "      <td>2007</td>\n",
       "      <td>84</td>\n",
       "      <td>4</td>\n",
       "      <td>...</td>\n",
       "      <td>1</td>\n",
       "      <td>N</td>\n",
       "      <td>N</td>\n",
       "      <td>2006-11-30</td>\n",
       "      <td>100000.00</td>\n",
       "      <td>0.00</td>\n",
       "      <td>P I F</td>\n",
       "      <td>0.00</td>\n",
       "      <td>100000.00</td>\n",
       "      <td>50000.00</td>\n",
       "    </tr>\n",
       "    <tr>\n",
       "      <th>149997</th>\n",
       "      <td>Columbus</td>\n",
       "      <td>OH</td>\n",
       "      <td>43228</td>\n",
       "      <td>THE HUNTINGTON NATIONAL BANK</td>\n",
       "      <td>OH</td>\n",
       "      <td>812990</td>\n",
       "      <td>2006-10-30</td>\n",
       "      <td>2007</td>\n",
       "      <td>60</td>\n",
       "      <td>9</td>\n",
       "      <td>...</td>\n",
       "      <td>1</td>\n",
       "      <td>Y</td>\n",
       "      <td>N</td>\n",
       "      <td>2007-02-28</td>\n",
       "      <td>25000.00</td>\n",
       "      <td>0.00</td>\n",
       "      <td>P I F</td>\n",
       "      <td>0.00</td>\n",
       "      <td>25000.00</td>\n",
       "      <td>12500.00</td>\n",
       "    </tr>\n",
       "  </tbody>\n",
       "</table>\n",
       "<p>120262 rows × 24 columns</p>\n",
       "</div>"
      ],
      "text/plain": [
       "                City State    Zip                            Bank BankState  \\\n",
       "0         EVANSVILLE    IN  47711                FIFTH THIRD BANK        OH   \n",
       "1          NEW PARIS    IN  46526                 1ST SOURCE BANK        IN   \n",
       "2        BLOOMINGTON    IN  47401         GRANT COUNTY STATE BANK        IN   \n",
       "3       BROKEN ARROW    OK  74012   1ST NATL BK & TR CO OF BROKEN        OK   \n",
       "4            ORLANDO    FL  32801         FLORIDA BUS. DEVEL CORP        FL   \n",
       "...              ...   ...    ...                             ...       ...   \n",
       "149992   Westerville    OH  43082    THE HUNTINGTON NATIONAL BANK        OH   \n",
       "149994       READING    PA  19604        CITIZENS BANK NATL ASSOC        RI   \n",
       "149995    Belleville    MI  48111  PNC BANK, NATIONAL ASSOCIATION        DE   \n",
       "149996       FAIRFAX    VA  22032          CAPITAL ONE NATL ASSOC        VA   \n",
       "149997      Columbus    OH  43228    THE HUNTINGTON NATIONAL BANK        OH   \n",
       "\n",
       "          CCSC ApprovalDate  ApprovalFY  Term  NoEmp  ...  UrbanRural  \\\n",
       "0       451120   1997-02-28        1997    84      4  ...           0   \n",
       "1       722410   1997-02-28        1997    60      2  ...           0   \n",
       "2       621210   1997-02-28        1997   180      7  ...           0   \n",
       "3            0   1997-02-28        1997    60      2  ...           0   \n",
       "4            0   1997-02-28        1997   240     14  ...           0   \n",
       "...        ...          ...         ...   ...    ...  ...         ...   \n",
       "149992  624310   2006-10-30        2007    60      0  ...           1   \n",
       "149994  621493   2006-10-30        2007    32     13  ...           1   \n",
       "149995  236118   2006-10-30        2007    24      8  ...           2   \n",
       "149996  541611   2006-10-30        2007    84      4  ...           1   \n",
       "149997  812990   2006-10-30        2007    60      9  ...           1   \n",
       "\n",
       "        RevLineCr  LowDoc  DisbursementDate  DisbursementGross BalanceGross  \\\n",
       "0               N       Y        1999-02-28          60000.00         0.00    \n",
       "1               N       Y        1997-05-31          40000.00         0.00    \n",
       "2               N       N        1997-12-31         287000.00         0.00    \n",
       "3               N       Y        1997-06-30          35000.00         0.00    \n",
       "4               N       N        1997-05-14         229000.00         0.00    \n",
       "...           ...     ...               ...                ...          ...   \n",
       "149992          N       N        2006-11-30           9900.00         0.00    \n",
       "149994          Y       N        2006-11-30         142207.00         0.00    \n",
       "149995          Y       N        2006-11-30          39694.00         0.00    \n",
       "149996          N       N        2006-11-30         100000.00         0.00    \n",
       "149997          Y       N        2007-02-28          25000.00         0.00    \n",
       "\n",
       "       MIS_Status ChgOffPrinGr      GrAppv    SBA_Appv  \n",
       "0           P I F        0.00    60000.00    48000.00   \n",
       "1           P I F        0.00    40000.00    32000.00   \n",
       "2           P I F        0.00   287000.00   215250.00   \n",
       "3           P I F        0.00    35000.00    28000.00   \n",
       "4           P I F        0.00   229000.00   229000.00   \n",
       "...           ...          ...         ...         ...  \n",
       "149992      P I F        0.00     9900.00     4950.00   \n",
       "149994     CHGOFF    43074.00   100000.00    50000.00   \n",
       "149995     CHGOFF    18812.00    20000.00    10000.00   \n",
       "149996      P I F        0.00   100000.00    50000.00   \n",
       "149997      P I F        0.00    25000.00    12500.00   \n",
       "\n",
       "[120262 rows x 24 columns]"
      ]
     },
     "execution_count": 282,
     "metadata": {},
     "output_type": "execute_result"
    }
   ],
   "source": [
    "df"
   ]
  },
  {
   "cell_type": "code",
   "execution_count": 283,
   "metadata": {
    "colab": {},
    "colab_type": "code",
    "id": "-QpHRX6SUUJp"
   },
   "outputs": [],
   "source": [
    "d=['DisbursementGross','BalanceGross','ChgOffPrinGr','GrAppv','SBA_Appv']\n",
    "df.DisbursementGross=df.DisbursementGross.astype('float')\n",
    "df.BalanceGross=df.BalanceGross.astype('float')\n",
    "df.ChgOffPrinGr=df.ChgOffPrinGr.astype('float')\n",
    "df.GrAppv=df.GrAppv.astype('float')\n",
    "df.SBA_Appv=df.SBA_Appv.astype('float')"
   ]
  },
  {
   "cell_type": "code",
   "execution_count": 284,
   "metadata": {
    "colab": {
     "base_uri": "https://localhost:8080/",
     "height": 535
    },
    "colab_type": "code",
    "id": "fxAXuK36G8sx",
    "outputId": "497f5205-fba2-4c04-f7c1-4b8f6d58ccc6"
   },
   "outputs": [
    {
     "name": "stdout",
     "output_type": "stream",
     "text": [
      "<class 'pandas.core.frame.DataFrame'>\n",
      "Int64Index: 120262 entries, 0 to 149997\n",
      "Data columns (total 24 columns):\n",
      " #   Column             Non-Null Count   Dtype         \n",
      "---  ------             --------------   -----         \n",
      " 0   City               120262 non-null  object        \n",
      " 1   State              120262 non-null  object        \n",
      " 2   Zip                120262 non-null  int64         \n",
      " 3   Bank               120262 non-null  object        \n",
      " 4   BankState          120262 non-null  object        \n",
      " 5   CCSC               120262 non-null  int64         \n",
      " 6   ApprovalDate       120262 non-null  datetime64[ns]\n",
      " 7   ApprovalFY         120262 non-null  int64         \n",
      " 8   Term               120262 non-null  int64         \n",
      " 9   NoEmp              120262 non-null  int64         \n",
      " 10  NewExist           120262 non-null  int64         \n",
      " 11  CreateJob          120262 non-null  int64         \n",
      " 12  RetainedJob        120262 non-null  int64         \n",
      " 13  FranchiseCode      120262 non-null  int64         \n",
      " 14  UrbanRural         120262 non-null  int64         \n",
      " 15  RevLineCr          120262 non-null  object        \n",
      " 16  LowDoc             120262 non-null  object        \n",
      " 17  DisbursementDate   120262 non-null  datetime64[ns]\n",
      " 18  DisbursementGross  120262 non-null  float64       \n",
      " 19  BalanceGross       120262 non-null  float64       \n",
      " 20  MIS_Status         120262 non-null  object        \n",
      " 21  ChgOffPrinGr       120262 non-null  float64       \n",
      " 22  GrAppv             120262 non-null  float64       \n",
      " 23  SBA_Appv           120262 non-null  float64       \n",
      "dtypes: datetime64[ns](2), float64(5), int64(10), object(7)\n",
      "memory usage: 22.9+ MB\n"
     ]
    }
   ],
   "source": [
    "df.info()"
   ]
  },
  {
   "cell_type": "code",
   "execution_count": 285,
   "metadata": {
    "colab": {
     "base_uri": "https://localhost:8080/",
     "height": 318
    },
    "colab_type": "code",
    "id": "lFgIbzGtUUxS",
    "outputId": "533f190e-6e3b-4604-84e2-cd2856dd7a0d"
   },
   "outputs": [
    {
     "data": {
      "text/plain": [
       "(17,\n",
       " ['Zip',\n",
       "  'CCSC',\n",
       "  'ApprovalDate',\n",
       "  'ApprovalFY',\n",
       "  'Term',\n",
       "  'NoEmp',\n",
       "  'NewExist',\n",
       "  'CreateJob',\n",
       "  'RetainedJob',\n",
       "  'FranchiseCode',\n",
       "  'UrbanRural',\n",
       "  'DisbursementDate',\n",
       "  'DisbursementGross',\n",
       "  'BalanceGross',\n",
       "  'ChgOffPrinGr',\n",
       "  'GrAppv',\n",
       "  'SBA_Appv'])"
      ]
     },
     "execution_count": 285,
     "metadata": {},
     "output_type": "execute_result"
    }
   ],
   "source": [
    "numeric_features=[i for i in df.columns if df.dtypes[i]!='object']\n",
    "len(numeric_features),numeric_features"
   ]
  },
  {
   "cell_type": "markdown",
   "metadata": {
    "colab_type": "text",
    "id": "SUtZlbnPIzwJ"
   },
   "source": [
    "#CORRILATION"
   ]
  },
  {
   "cell_type": "code",
   "execution_count": 286,
   "metadata": {
    "colab": {},
    "colab_type": "code",
    "id": "hzrD1V4_UUhr"
   },
   "outputs": [],
   "source": [
    "from scipy.stats import pearsonr"
   ]
  },
  {
   "cell_type": "code",
   "execution_count": 287,
   "metadata": {
    "colab": {
     "base_uri": "https://localhost:8080/",
     "height": 178
    },
    "colab_type": "code",
    "id": "JQOoABO4Mi5E",
    "outputId": "5680764a-1b5c-4ebf-cd64-3e88d10e5c04"
   },
   "outputs": [
    {
     "data": {
      "text/html": [
       "<div>\n",
       "<style scoped>\n",
       "    .dataframe tbody tr th:only-of-type {\n",
       "        vertical-align: middle;\n",
       "    }\n",
       "\n",
       "    .dataframe tbody tr th {\n",
       "        vertical-align: top;\n",
       "    }\n",
       "\n",
       "    .dataframe thead th {\n",
       "        text-align: right;\n",
       "    }\n",
       "</style>\n",
       "<table border=\"1\" class=\"dataframe\">\n",
       "  <thead>\n",
       "    <tr style=\"text-align: right;\">\n",
       "      <th></th>\n",
       "      <th>Zip</th>\n",
       "      <th>CCSC</th>\n",
       "      <th>ApprovalFY</th>\n",
       "      <th>Term</th>\n",
       "      <th>NoEmp</th>\n",
       "      <th>NewExist</th>\n",
       "      <th>CreateJob</th>\n",
       "      <th>RetainedJob</th>\n",
       "      <th>FranchiseCode</th>\n",
       "      <th>UrbanRural</th>\n",
       "      <th>DisbursementGross</th>\n",
       "      <th>BalanceGross</th>\n",
       "      <th>ChgOffPrinGr</th>\n",
       "      <th>GrAppv</th>\n",
       "      <th>SBA_Appv</th>\n",
       "    </tr>\n",
       "  </thead>\n",
       "  <tbody>\n",
       "    <tr>\n",
       "      <th>Zip</th>\n",
       "      <td>1.000000</td>\n",
       "      <td>-0.065802</td>\n",
       "      <td>-0.081206</td>\n",
       "      <td>0.099590</td>\n",
       "      <td>0.013444</td>\n",
       "      <td>-0.070729</td>\n",
       "      <td>0.016641</td>\n",
       "      <td>-0.001323</td>\n",
       "      <td>0.008356</td>\n",
       "      <td>-0.087664</td>\n",
       "      <td>0.065280</td>\n",
       "      <td>0.002073</td>\n",
       "      <td>0.032482</td>\n",
       "      <td>0.062236</td>\n",
       "      <td>0.076899</td>\n",
       "    </tr>\n",
       "    <tr>\n",
       "      <th>CCSC</th>\n",
       "      <td>-0.065802</td>\n",
       "      <td>1.000000</td>\n",
       "      <td>0.593052</td>\n",
       "      <td>-0.288074</td>\n",
       "      <td>-0.049436</td>\n",
       "      <td>0.040904</td>\n",
       "      <td>0.005305</td>\n",
       "      <td>0.102774</td>\n",
       "      <td>-0.041233</td>\n",
       "      <td>0.494827</td>\n",
       "      <td>-0.182605</td>\n",
       "      <td>-0.002403</td>\n",
       "      <td>-0.007003</td>\n",
       "      <td>-0.214473</td>\n",
       "      <td>-0.255518</td>\n",
       "    </tr>\n",
       "    <tr>\n",
       "      <th>ApprovalFY</th>\n",
       "      <td>-0.081206</td>\n",
       "      <td>0.593052</td>\n",
       "      <td>1.000000</td>\n",
       "      <td>-0.485916</td>\n",
       "      <td>-0.081973</td>\n",
       "      <td>0.015070</td>\n",
       "      <td>0.010249</td>\n",
       "      <td>0.153481</td>\n",
       "      <td>-0.072975</td>\n",
       "      <td>0.718780</td>\n",
       "      <td>-0.214354</td>\n",
       "      <td>0.001762</td>\n",
       "      <td>-0.045864</td>\n",
       "      <td>-0.284309</td>\n",
       "      <td>-0.354325</td>\n",
       "    </tr>\n",
       "    <tr>\n",
       "      <th>Term</th>\n",
       "      <td>0.099590</td>\n",
       "      <td>-0.288074</td>\n",
       "      <td>-0.485916</td>\n",
       "      <td>1.000000</td>\n",
       "      <td>0.061856</td>\n",
       "      <td>-0.022508</td>\n",
       "      <td>0.070718</td>\n",
       "      <td>0.002533</td>\n",
       "      <td>0.063344</td>\n",
       "      <td>-0.383577</td>\n",
       "      <td>0.414660</td>\n",
       "      <td>0.002137</td>\n",
       "      <td>-0.070394</td>\n",
       "      <td>0.482748</td>\n",
       "      <td>0.540452</td>\n",
       "    </tr>\n",
       "    <tr>\n",
       "      <th>NoEmp</th>\n",
       "      <td>0.013444</td>\n",
       "      <td>-0.049436</td>\n",
       "      <td>-0.081973</td>\n",
       "      <td>0.061856</td>\n",
       "      <td>1.000000</td>\n",
       "      <td>-0.026372</td>\n",
       "      <td>0.026143</td>\n",
       "      <td>0.111446</td>\n",
       "      <td>0.007982</td>\n",
       "      <td>-0.061123</td>\n",
       "      <td>0.076437</td>\n",
       "      <td>-0.000235</td>\n",
       "      <td>0.007552</td>\n",
       "      <td>0.081030</td>\n",
       "      <td>0.088894</td>\n",
       "    </tr>\n",
       "    <tr>\n",
       "      <th>NewExist</th>\n",
       "      <td>-0.070729</td>\n",
       "      <td>0.040904</td>\n",
       "      <td>0.015070</td>\n",
       "      <td>-0.022508</td>\n",
       "      <td>-0.026372</td>\n",
       "      <td>1.000000</td>\n",
       "      <td>0.011439</td>\n",
       "      <td>-0.092639</td>\n",
       "      <td>0.068451</td>\n",
       "      <td>0.008634</td>\n",
       "      <td>-0.048559</td>\n",
       "      <td>0.004134</td>\n",
       "      <td>-0.002768</td>\n",
       "      <td>-0.031456</td>\n",
       "      <td>-0.027229</td>\n",
       "    </tr>\n",
       "    <tr>\n",
       "      <th>CreateJob</th>\n",
       "      <td>0.016641</td>\n",
       "      <td>0.005305</td>\n",
       "      <td>0.010249</td>\n",
       "      <td>0.070718</td>\n",
       "      <td>0.026143</td>\n",
       "      <td>0.011439</td>\n",
       "      <td>1.000000</td>\n",
       "      <td>0.133256</td>\n",
       "      <td>0.010017</td>\n",
       "      <td>-0.004764</td>\n",
       "      <td>0.108789</td>\n",
       "      <td>-0.000322</td>\n",
       "      <td>0.038618</td>\n",
       "      <td>0.114337</td>\n",
       "      <td>0.135107</td>\n",
       "    </tr>\n",
       "    <tr>\n",
       "      <th>RetainedJob</th>\n",
       "      <td>-0.001323</td>\n",
       "      <td>0.102774</td>\n",
       "      <td>0.153481</td>\n",
       "      <td>0.002533</td>\n",
       "      <td>0.111446</td>\n",
       "      <td>-0.092639</td>\n",
       "      <td>0.133256</td>\n",
       "      <td>1.000000</td>\n",
       "      <td>-0.000129</td>\n",
       "      <td>0.120176</td>\n",
       "      <td>0.129135</td>\n",
       "      <td>-0.001124</td>\n",
       "      <td>0.031368</td>\n",
       "      <td>0.098076</td>\n",
       "      <td>0.097152</td>\n",
       "    </tr>\n",
       "    <tr>\n",
       "      <th>FranchiseCode</th>\n",
       "      <td>0.008356</td>\n",
       "      <td>-0.041233</td>\n",
       "      <td>-0.072975</td>\n",
       "      <td>0.063344</td>\n",
       "      <td>0.007982</td>\n",
       "      <td>0.068451</td>\n",
       "      <td>0.010017</td>\n",
       "      <td>-0.000129</td>\n",
       "      <td>1.000000</td>\n",
       "      <td>-0.072996</td>\n",
       "      <td>0.067463</td>\n",
       "      <td>-0.000410</td>\n",
       "      <td>0.003976</td>\n",
       "      <td>0.082263</td>\n",
       "      <td>0.086621</td>\n",
       "    </tr>\n",
       "    <tr>\n",
       "      <th>UrbanRural</th>\n",
       "      <td>-0.087664</td>\n",
       "      <td>0.494827</td>\n",
       "      <td>0.718780</td>\n",
       "      <td>-0.383577</td>\n",
       "      <td>-0.061123</td>\n",
       "      <td>0.008634</td>\n",
       "      <td>-0.004764</td>\n",
       "      <td>0.120176</td>\n",
       "      <td>-0.072996</td>\n",
       "      <td>1.000000</td>\n",
       "      <td>-0.204348</td>\n",
       "      <td>0.005450</td>\n",
       "      <td>0.014440</td>\n",
       "      <td>-0.268371</td>\n",
       "      <td>-0.322362</td>\n",
       "    </tr>\n",
       "    <tr>\n",
       "      <th>DisbursementGross</th>\n",
       "      <td>0.065280</td>\n",
       "      <td>-0.182605</td>\n",
       "      <td>-0.214354</td>\n",
       "      <td>0.414660</td>\n",
       "      <td>0.076437</td>\n",
       "      <td>-0.048559</td>\n",
       "      <td>0.108789</td>\n",
       "      <td>0.129135</td>\n",
       "      <td>0.067463</td>\n",
       "      <td>-0.204348</td>\n",
       "      <td>1.000000</td>\n",
       "      <td>0.015218</td>\n",
       "      <td>0.256370</td>\n",
       "      <td>0.933116</td>\n",
       "      <td>0.892981</td>\n",
       "    </tr>\n",
       "    <tr>\n",
       "      <th>BalanceGross</th>\n",
       "      <td>0.002073</td>\n",
       "      <td>-0.002403</td>\n",
       "      <td>0.001762</td>\n",
       "      <td>0.002137</td>\n",
       "      <td>-0.000235</td>\n",
       "      <td>0.004134</td>\n",
       "      <td>-0.000322</td>\n",
       "      <td>-0.001124</td>\n",
       "      <td>-0.000410</td>\n",
       "      <td>0.005450</td>\n",
       "      <td>0.015218</td>\n",
       "      <td>1.000000</td>\n",
       "      <td>-0.000810</td>\n",
       "      <td>0.016400</td>\n",
       "      <td>0.015472</td>\n",
       "    </tr>\n",
       "    <tr>\n",
       "      <th>ChgOffPrinGr</th>\n",
       "      <td>0.032482</td>\n",
       "      <td>-0.007003</td>\n",
       "      <td>-0.045864</td>\n",
       "      <td>-0.070394</td>\n",
       "      <td>0.007552</td>\n",
       "      <td>-0.002768</td>\n",
       "      <td>0.038618</td>\n",
       "      <td>0.031368</td>\n",
       "      <td>0.003976</td>\n",
       "      <td>0.014440</td>\n",
       "      <td>0.256370</td>\n",
       "      <td>-0.000810</td>\n",
       "      <td>1.000000</td>\n",
       "      <td>0.264952</td>\n",
       "      <td>0.240069</td>\n",
       "    </tr>\n",
       "    <tr>\n",
       "      <th>GrAppv</th>\n",
       "      <td>0.062236</td>\n",
       "      <td>-0.214473</td>\n",
       "      <td>-0.284309</td>\n",
       "      <td>0.482748</td>\n",
       "      <td>0.081030</td>\n",
       "      <td>-0.031456</td>\n",
       "      <td>0.114337</td>\n",
       "      <td>0.098076</td>\n",
       "      <td>0.082263</td>\n",
       "      <td>-0.268371</td>\n",
       "      <td>0.933116</td>\n",
       "      <td>0.016400</td>\n",
       "      <td>0.264952</td>\n",
       "      <td>1.000000</td>\n",
       "      <td>0.973141</td>\n",
       "    </tr>\n",
       "    <tr>\n",
       "      <th>SBA_Appv</th>\n",
       "      <td>0.076899</td>\n",
       "      <td>-0.255518</td>\n",
       "      <td>-0.354325</td>\n",
       "      <td>0.540452</td>\n",
       "      <td>0.088894</td>\n",
       "      <td>-0.027229</td>\n",
       "      <td>0.135107</td>\n",
       "      <td>0.097152</td>\n",
       "      <td>0.086621</td>\n",
       "      <td>-0.322362</td>\n",
       "      <td>0.892981</td>\n",
       "      <td>0.015472</td>\n",
       "      <td>0.240069</td>\n",
       "      <td>0.973141</td>\n",
       "      <td>1.000000</td>\n",
       "    </tr>\n",
       "  </tbody>\n",
       "</table>\n",
       "</div>"
      ],
      "text/plain": [
       "                        Zip      CCSC  ApprovalFY      Term     NoEmp  \\\n",
       "Zip                1.000000 -0.065802   -0.081206  0.099590  0.013444   \n",
       "CCSC              -0.065802  1.000000    0.593052 -0.288074 -0.049436   \n",
       "ApprovalFY        -0.081206  0.593052    1.000000 -0.485916 -0.081973   \n",
       "Term               0.099590 -0.288074   -0.485916  1.000000  0.061856   \n",
       "NoEmp              0.013444 -0.049436   -0.081973  0.061856  1.000000   \n",
       "NewExist          -0.070729  0.040904    0.015070 -0.022508 -0.026372   \n",
       "CreateJob          0.016641  0.005305    0.010249  0.070718  0.026143   \n",
       "RetainedJob       -0.001323  0.102774    0.153481  0.002533  0.111446   \n",
       "FranchiseCode      0.008356 -0.041233   -0.072975  0.063344  0.007982   \n",
       "UrbanRural        -0.087664  0.494827    0.718780 -0.383577 -0.061123   \n",
       "DisbursementGross  0.065280 -0.182605   -0.214354  0.414660  0.076437   \n",
       "BalanceGross       0.002073 -0.002403    0.001762  0.002137 -0.000235   \n",
       "ChgOffPrinGr       0.032482 -0.007003   -0.045864 -0.070394  0.007552   \n",
       "GrAppv             0.062236 -0.214473   -0.284309  0.482748  0.081030   \n",
       "SBA_Appv           0.076899 -0.255518   -0.354325  0.540452  0.088894   \n",
       "\n",
       "                   NewExist  CreateJob  RetainedJob  FranchiseCode  \\\n",
       "Zip               -0.070729   0.016641    -0.001323       0.008356   \n",
       "CCSC               0.040904   0.005305     0.102774      -0.041233   \n",
       "ApprovalFY         0.015070   0.010249     0.153481      -0.072975   \n",
       "Term              -0.022508   0.070718     0.002533       0.063344   \n",
       "NoEmp             -0.026372   0.026143     0.111446       0.007982   \n",
       "NewExist           1.000000   0.011439    -0.092639       0.068451   \n",
       "CreateJob          0.011439   1.000000     0.133256       0.010017   \n",
       "RetainedJob       -0.092639   0.133256     1.000000      -0.000129   \n",
       "FranchiseCode      0.068451   0.010017    -0.000129       1.000000   \n",
       "UrbanRural         0.008634  -0.004764     0.120176      -0.072996   \n",
       "DisbursementGross -0.048559   0.108789     0.129135       0.067463   \n",
       "BalanceGross       0.004134  -0.000322    -0.001124      -0.000410   \n",
       "ChgOffPrinGr      -0.002768   0.038618     0.031368       0.003976   \n",
       "GrAppv            -0.031456   0.114337     0.098076       0.082263   \n",
       "SBA_Appv          -0.027229   0.135107     0.097152       0.086621   \n",
       "\n",
       "                   UrbanRural  DisbursementGross  BalanceGross  ChgOffPrinGr  \\\n",
       "Zip                 -0.087664           0.065280      0.002073      0.032482   \n",
       "CCSC                 0.494827          -0.182605     -0.002403     -0.007003   \n",
       "ApprovalFY           0.718780          -0.214354      0.001762     -0.045864   \n",
       "Term                -0.383577           0.414660      0.002137     -0.070394   \n",
       "NoEmp               -0.061123           0.076437     -0.000235      0.007552   \n",
       "NewExist             0.008634          -0.048559      0.004134     -0.002768   \n",
       "CreateJob           -0.004764           0.108789     -0.000322      0.038618   \n",
       "RetainedJob          0.120176           0.129135     -0.001124      0.031368   \n",
       "FranchiseCode       -0.072996           0.067463     -0.000410      0.003976   \n",
       "UrbanRural           1.000000          -0.204348      0.005450      0.014440   \n",
       "DisbursementGross   -0.204348           1.000000      0.015218      0.256370   \n",
       "BalanceGross         0.005450           0.015218      1.000000     -0.000810   \n",
       "ChgOffPrinGr         0.014440           0.256370     -0.000810      1.000000   \n",
       "GrAppv              -0.268371           0.933116      0.016400      0.264952   \n",
       "SBA_Appv            -0.322362           0.892981      0.015472      0.240069   \n",
       "\n",
       "                     GrAppv  SBA_Appv  \n",
       "Zip                0.062236  0.076899  \n",
       "CCSC              -0.214473 -0.255518  \n",
       "ApprovalFY        -0.284309 -0.354325  \n",
       "Term               0.482748  0.540452  \n",
       "NoEmp              0.081030  0.088894  \n",
       "NewExist          -0.031456 -0.027229  \n",
       "CreateJob          0.114337  0.135107  \n",
       "RetainedJob        0.098076  0.097152  \n",
       "FranchiseCode      0.082263  0.086621  \n",
       "UrbanRural        -0.268371 -0.322362  \n",
       "DisbursementGross  0.933116  0.892981  \n",
       "BalanceGross       0.016400  0.015472  \n",
       "ChgOffPrinGr       0.264952  0.240069  \n",
       "GrAppv             1.000000  0.973141  \n",
       "SBA_Appv           0.973141  1.000000  "
      ]
     },
     "execution_count": 287,
     "metadata": {},
     "output_type": "execute_result"
    }
   ],
   "source": [
    "corr=df.corr(method='pearson')\n",
    "corr"
   ]
  },
  {
   "cell_type": "code",
   "execution_count": 288,
   "metadata": {
    "colab": {
     "base_uri": "https://localhost:8080/",
     "height": 332
    },
    "colab_type": "code",
    "id": "P571Fa-yMqxi",
    "outputId": "d13ca634-b63e-4fad-b869-d036495a7eef"
   },
   "outputs": [
    {
     "data": {
      "text/html": [
       "<style  type=\"text/css\" >\n",
       "    #T_55af4270_d87a_11ea_a141_00f48d2c948crow0_col0 {\n",
       "            background-color:  #b40426;\n",
       "            color:  #f1f1f1;\n",
       "        }    #T_55af4270_d87a_11ea_a141_00f48d2c948crow0_col1 {\n",
       "            background-color:  #7295f4;\n",
       "            color:  #000000;\n",
       "        }    #T_55af4270_d87a_11ea_a141_00f48d2c948crow0_col2 {\n",
       "            background-color:  #94b6ff;\n",
       "            color:  #000000;\n",
       "        }    #T_55af4270_d87a_11ea_a141_00f48d2c948crow0_col3 {\n",
       "            background-color:  #bed2f6;\n",
       "            color:  #000000;\n",
       "        }    #T_55af4270_d87a_11ea_a141_00f48d2c948crow0_col4 {\n",
       "            background-color:  #5572df;\n",
       "            color:  #000000;\n",
       "        }    #T_55af4270_d87a_11ea_a141_00f48d2c948crow0_col5 {\n",
       "            background-color:  #4055c8;\n",
       "            color:  #f1f1f1;\n",
       "        }    #T_55af4270_d87a_11ea_a141_00f48d2c948crow0_col6 {\n",
       "            background-color:  #4055c8;\n",
       "            color:  #f1f1f1;\n",
       "        }    #T_55af4270_d87a_11ea_a141_00f48d2c948crow0_col7 {\n",
       "            background-color:  #5470de;\n",
       "            color:  #000000;\n",
       "        }    #T_55af4270_d87a_11ea_a141_00f48d2c948crow0_col8 {\n",
       "            background-color:  #516ddb;\n",
       "            color:  #000000;\n",
       "        }    #T_55af4270_d87a_11ea_a141_00f48d2c948crow0_col9 {\n",
       "            background-color:  #80a3fa;\n",
       "            color:  #000000;\n",
       "        }    #T_55af4270_d87a_11ea_a141_00f48d2c948crow0_col10 {\n",
       "            background-color:  #85a8fc;\n",
       "            color:  #000000;\n",
       "        }    #T_55af4270_d87a_11ea_a141_00f48d2c948crow0_col11 {\n",
       "            background-color:  #3c4ec2;\n",
       "            color:  #f1f1f1;\n",
       "        }    #T_55af4270_d87a_11ea_a141_00f48d2c948crow0_col12 {\n",
       "            background-color:  #5875e1;\n",
       "            color:  #000000;\n",
       "        }    #T_55af4270_d87a_11ea_a141_00f48d2c948crow0_col13 {\n",
       "            background-color:  #94b6ff;\n",
       "            color:  #000000;\n",
       "        }    #T_55af4270_d87a_11ea_a141_00f48d2c948crow0_col14 {\n",
       "            background-color:  #a5c3fe;\n",
       "            color:  #000000;\n",
       "        }    #T_55af4270_d87a_11ea_a141_00f48d2c948crow1_col0 {\n",
       "            background-color:  #4055c8;\n",
       "            color:  #f1f1f1;\n",
       "        }    #T_55af4270_d87a_11ea_a141_00f48d2c948crow1_col1 {\n",
       "            background-color:  #b40426;\n",
       "            color:  #f1f1f1;\n",
       "        }    #T_55af4270_d87a_11ea_a141_00f48d2c948crow1_col2 {\n",
       "            background-color:  #f6a385;\n",
       "            color:  #000000;\n",
       "        }    #T_55af4270_d87a_11ea_a141_00f48d2c948crow1_col3 {\n",
       "            background-color:  #6485ec;\n",
       "            color:  #000000;\n",
       "        }    #T_55af4270_d87a_11ea_a141_00f48d2c948crow1_col4 {\n",
       "            background-color:  #4358cb;\n",
       "            color:  #f1f1f1;\n",
       "        }    #T_55af4270_d87a_11ea_a141_00f48d2c948crow1_col5 {\n",
       "            background-color:  #6180e9;\n",
       "            color:  #000000;\n",
       "        }    #T_55af4270_d87a_11ea_a141_00f48d2c948crow1_col6 {\n",
       "            background-color:  #3d50c3;\n",
       "            color:  #f1f1f1;\n",
       "        }    #T_55af4270_d87a_11ea_a141_00f48d2c948crow1_col7 {\n",
       "            background-color:  #7396f5;\n",
       "            color:  #000000;\n",
       "        }    #T_55af4270_d87a_11ea_a141_00f48d2c948crow1_col8 {\n",
       "            background-color:  #4358cb;\n",
       "            color:  #f1f1f1;\n",
       "        }    #T_55af4270_d87a_11ea_a141_00f48d2c948crow1_col9 {\n",
       "            background-color:  #f5c1a9;\n",
       "            color:  #000000;\n",
       "        }    #T_55af4270_d87a_11ea_a141_00f48d2c948crow1_col10 {\n",
       "            background-color:  #4257c9;\n",
       "            color:  #f1f1f1;\n",
       "        }    #T_55af4270_d87a_11ea_a141_00f48d2c948crow1_col11 {\n",
       "            background-color:  #3b4cc0;\n",
       "            color:  #f1f1f1;\n",
       "        }    #T_55af4270_d87a_11ea_a141_00f48d2c948crow1_col12 {\n",
       "            background-color:  #4c66d6;\n",
       "            color:  #000000;\n",
       "        }    #T_55af4270_d87a_11ea_a141_00f48d2c948crow1_col13 {\n",
       "            background-color:  #4a63d3;\n",
       "            color:  #f1f1f1;\n",
       "        }    #T_55af4270_d87a_11ea_a141_00f48d2c948crow1_col14 {\n",
       "            background-color:  #506bda;\n",
       "            color:  #000000;\n",
       "        }    #T_55af4270_d87a_11ea_a141_00f48d2c948crow2_col0 {\n",
       "            background-color:  #3c4ec2;\n",
       "            color:  #f1f1f1;\n",
       "        }    #T_55af4270_d87a_11ea_a141_00f48d2c948crow2_col1 {\n",
       "            background-color:  #f7b194;\n",
       "            color:  #000000;\n",
       "        }    #T_55af4270_d87a_11ea_a141_00f48d2c948crow2_col2 {\n",
       "            background-color:  #b40426;\n",
       "            color:  #f1f1f1;\n",
       "        }    #T_55af4270_d87a_11ea_a141_00f48d2c948crow2_col3 {\n",
       "            background-color:  #3b4cc0;\n",
       "            color:  #f1f1f1;\n",
       "        }    #T_55af4270_d87a_11ea_a141_00f48d2c948crow2_col4 {\n",
       "            background-color:  #3b4cc0;\n",
       "            color:  #f1f1f1;\n",
       "        }    #T_55af4270_d87a_11ea_a141_00f48d2c948crow2_col5 {\n",
       "            background-color:  #5977e3;\n",
       "            color:  #000000;\n",
       "        }    #T_55af4270_d87a_11ea_a141_00f48d2c948crow2_col6 {\n",
       "            background-color:  #3e51c5;\n",
       "            color:  #f1f1f1;\n",
       "        }    #T_55af4270_d87a_11ea_a141_00f48d2c948crow2_col7 {\n",
       "            background-color:  #84a7fc;\n",
       "            color:  #000000;\n",
       "        }    #T_55af4270_d87a_11ea_a141_00f48d2c948crow2_col8 {\n",
       "            background-color:  #3b4cc0;\n",
       "            color:  #f1f1f1;\n",
       "        }    #T_55af4270_d87a_11ea_a141_00f48d2c948crow2_col9 {\n",
       "            background-color:  #ee8669;\n",
       "            color:  #000000;\n",
       "        }    #T_55af4270_d87a_11ea_a141_00f48d2c948crow2_col10 {\n",
       "            background-color:  #3b4cc0;\n",
       "            color:  #f1f1f1;\n",
       "        }    #T_55af4270_d87a_11ea_a141_00f48d2c948crow2_col11 {\n",
       "            background-color:  #3c4ec2;\n",
       "            color:  #f1f1f1;\n",
       "        }    #T_55af4270_d87a_11ea_a141_00f48d2c948crow2_col12 {\n",
       "            background-color:  #4055c8;\n",
       "            color:  #f1f1f1;\n",
       "        }    #T_55af4270_d87a_11ea_a141_00f48d2c948crow2_col13 {\n",
       "            background-color:  #3b4cc0;\n",
       "            color:  #f1f1f1;\n",
       "        }    #T_55af4270_d87a_11ea_a141_00f48d2c948crow2_col14 {\n",
       "            background-color:  #3b4cc0;\n",
       "            color:  #f1f1f1;\n",
       "        }    #T_55af4270_d87a_11ea_a141_00f48d2c948crow3_col0 {\n",
       "            background-color:  #7295f4;\n",
       "            color:  #000000;\n",
       "        }    #T_55af4270_d87a_11ea_a141_00f48d2c948crow3_col1 {\n",
       "            background-color:  #3b4cc0;\n",
       "            color:  #f1f1f1;\n",
       "        }    #T_55af4270_d87a_11ea_a141_00f48d2c948crow3_col2 {\n",
       "            background-color:  #3b4cc0;\n",
       "            color:  #f1f1f1;\n",
       "        }    #T_55af4270_d87a_11ea_a141_00f48d2c948crow3_col3 {\n",
       "            background-color:  #b40426;\n",
       "            color:  #f1f1f1;\n",
       "        }    #T_55af4270_d87a_11ea_a141_00f48d2c948crow3_col4 {\n",
       "            background-color:  #6485ec;\n",
       "            color:  #000000;\n",
       "        }    #T_55af4270_d87a_11ea_a141_00f48d2c948crow3_col5 {\n",
       "            background-color:  #4e68d8;\n",
       "            color:  #000000;\n",
       "        }    #T_55af4270_d87a_11ea_a141_00f48d2c948crow3_col6 {\n",
       "            background-color:  #516ddb;\n",
       "            color:  #000000;\n",
       "        }    #T_55af4270_d87a_11ea_a141_00f48d2c948crow3_col7 {\n",
       "            background-color:  #5572df;\n",
       "            color:  #000000;\n",
       "        }    #T_55af4270_d87a_11ea_a141_00f48d2c948crow3_col8 {\n",
       "            background-color:  #6282ea;\n",
       "            color:  #000000;\n",
       "        }    #T_55af4270_d87a_11ea_a141_00f48d2c948crow3_col9 {\n",
       "            background-color:  #3b4cc0;\n",
       "            color:  #f1f1f1;\n",
       "        }    #T_55af4270_d87a_11ea_a141_00f48d2c948crow3_col10 {\n",
       "            background-color:  #e1dad6;\n",
       "            color:  #000000;\n",
       "        }    #T_55af4270_d87a_11ea_a141_00f48d2c948crow3_col11 {\n",
       "            background-color:  #3c4ec2;\n",
       "            color:  #f1f1f1;\n",
       "        }    #T_55af4270_d87a_11ea_a141_00f48d2c948crow3_col12 {\n",
       "            background-color:  #3b4cc0;\n",
       "            color:  #f1f1f1;\n",
       "        }    #T_55af4270_d87a_11ea_a141_00f48d2c948crow3_col13 {\n",
       "            background-color:  #f1ccb8;\n",
       "            color:  #000000;\n",
       "        }    #T_55af4270_d87a_11ea_a141_00f48d2c948crow3_col14 {\n",
       "            background-color:  #f7b99e;\n",
       "            color:  #000000;\n",
       "        }    #T_55af4270_d87a_11ea_a141_00f48d2c948crow4_col0 {\n",
       "            background-color:  #5673e0;\n",
       "            color:  #000000;\n",
       "        }    #T_55af4270_d87a_11ea_a141_00f48d2c948crow4_col1 {\n",
       "            background-color:  #7699f6;\n",
       "            color:  #000000;\n",
       "        }    #T_55af4270_d87a_11ea_a141_00f48d2c948crow4_col2 {\n",
       "            background-color:  #94b6ff;\n",
       "            color:  #000000;\n",
       "        }    #T_55af4270_d87a_11ea_a141_00f48d2c948crow4_col3 {\n",
       "            background-color:  #b6cefa;\n",
       "            color:  #000000;\n",
       "        }    #T_55af4270_d87a_11ea_a141_00f48d2c948crow4_col4 {\n",
       "            background-color:  #b40426;\n",
       "            color:  #f1f1f1;\n",
       "        }    #T_55af4270_d87a_11ea_a141_00f48d2c948crow4_col5 {\n",
       "            background-color:  #4c66d6;\n",
       "            color:  #000000;\n",
       "        }    #T_55af4270_d87a_11ea_a141_00f48d2c948crow4_col6 {\n",
       "            background-color:  #4358cb;\n",
       "            color:  #f1f1f1;\n",
       "        }    #T_55af4270_d87a_11ea_a141_00f48d2c948crow4_col7 {\n",
       "            background-color:  #7699f6;\n",
       "            color:  #000000;\n",
       "        }    #T_55af4270_d87a_11ea_a141_00f48d2c948crow4_col8 {\n",
       "            background-color:  #516ddb;\n",
       "            color:  #000000;\n",
       "        }    #T_55af4270_d87a_11ea_a141_00f48d2c948crow4_col9 {\n",
       "            background-color:  #86a9fc;\n",
       "            color:  #000000;\n",
       "        }    #T_55af4270_d87a_11ea_a141_00f48d2c948crow4_col10 {\n",
       "            background-color:  #89acfd;\n",
       "            color:  #000000;\n",
       "        }    #T_55af4270_d87a_11ea_a141_00f48d2c948crow4_col11 {\n",
       "            background-color:  #3b4cc0;\n",
       "            color:  #f1f1f1;\n",
       "        }    #T_55af4270_d87a_11ea_a141_00f48d2c948crow4_col12 {\n",
       "            background-color:  #506bda;\n",
       "            color:  #000000;\n",
       "        }    #T_55af4270_d87a_11ea_a141_00f48d2c948crow4_col13 {\n",
       "            background-color:  #98b9ff;\n",
       "            color:  #000000;\n",
       "        }    #T_55af4270_d87a_11ea_a141_00f48d2c948crow4_col14 {\n",
       "            background-color:  #a7c5fe;\n",
       "            color:  #000000;\n",
       "        }    #T_55af4270_d87a_11ea_a141_00f48d2c948crow5_col0 {\n",
       "            background-color:  #3e51c5;\n",
       "            color:  #f1f1f1;\n",
       "        }    #T_55af4270_d87a_11ea_a141_00f48d2c948crow5_col1 {\n",
       "            background-color:  #8fb1fe;\n",
       "            color:  #000000;\n",
       "        }    #T_55af4270_d87a_11ea_a141_00f48d2c948crow5_col2 {\n",
       "            background-color:  #abc8fd;\n",
       "            color:  #000000;\n",
       "        }    #T_55af4270_d87a_11ea_a141_00f48d2c948crow5_col3 {\n",
       "            background-color:  #a2c1ff;\n",
       "            color:  #000000;\n",
       "        }    #T_55af4270_d87a_11ea_a141_00f48d2c948crow5_col4 {\n",
       "            background-color:  #4a63d3;\n",
       "            color:  #f1f1f1;\n",
       "        }    #T_55af4270_d87a_11ea_a141_00f48d2c948crow5_col5 {\n",
       "            background-color:  #b40426;\n",
       "            color:  #f1f1f1;\n",
       "        }    #T_55af4270_d87a_11ea_a141_00f48d2c948crow5_col6 {\n",
       "            background-color:  #3f53c6;\n",
       "            color:  #f1f1f1;\n",
       "        }    #T_55af4270_d87a_11ea_a141_00f48d2c948crow5_col7 {\n",
       "            background-color:  #3b4cc0;\n",
       "            color:  #f1f1f1;\n",
       "        }    #T_55af4270_d87a_11ea_a141_00f48d2c948crow5_col8 {\n",
       "            background-color:  #6384eb;\n",
       "            color:  #000000;\n",
       "        }    #T_55af4270_d87a_11ea_a141_00f48d2c948crow5_col9 {\n",
       "            background-color:  #98b9ff;\n",
       "            color:  #000000;\n",
       "        }    #T_55af4270_d87a_11ea_a141_00f48d2c948crow5_col10 {\n",
       "            background-color:  #6485ec;\n",
       "            color:  #000000;\n",
       "        }    #T_55af4270_d87a_11ea_a141_00f48d2c948crow5_col11 {\n",
       "            background-color:  #3c4ec2;\n",
       "            color:  #f1f1f1;\n",
       "        }    #T_55af4270_d87a_11ea_a141_00f48d2c948crow5_col12 {\n",
       "            background-color:  #4e68d8;\n",
       "            color:  #000000;\n",
       "        }    #T_55af4270_d87a_11ea_a141_00f48d2c948crow5_col13 {\n",
       "            background-color:  #7a9df8;\n",
       "            color:  #000000;\n",
       "        }    #T_55af4270_d87a_11ea_a141_00f48d2c948crow5_col14 {\n",
       "            background-color:  #89acfd;\n",
       "            color:  #000000;\n",
       "        }    #T_55af4270_d87a_11ea_a141_00f48d2c948crow6_col0 {\n",
       "            background-color:  #5875e1;\n",
       "            color:  #000000;\n",
       "        }    #T_55af4270_d87a_11ea_a141_00f48d2c948crow6_col1 {\n",
       "            background-color:  #85a8fc;\n",
       "            color:  #000000;\n",
       "        }    #T_55af4270_d87a_11ea_a141_00f48d2c948crow6_col2 {\n",
       "            background-color:  #aac7fd;\n",
       "            color:  #000000;\n",
       "        }    #T_55af4270_d87a_11ea_a141_00f48d2c948crow6_col3 {\n",
       "            background-color:  #b7cff9;\n",
       "            color:  #000000;\n",
       "        }    #T_55af4270_d87a_11ea_a141_00f48d2c948crow6_col4 {\n",
       "            background-color:  #5977e3;\n",
       "            color:  #000000;\n",
       "        }    #T_55af4270_d87a_11ea_a141_00f48d2c948crow6_col5 {\n",
       "            background-color:  #5875e1;\n",
       "            color:  #000000;\n",
       "        }    #T_55af4270_d87a_11ea_a141_00f48d2c948crow6_col6 {\n",
       "            background-color:  #b40426;\n",
       "            color:  #f1f1f1;\n",
       "        }    #T_55af4270_d87a_11ea_a141_00f48d2c948crow6_col7 {\n",
       "            background-color:  #7da0f9;\n",
       "            color:  #000000;\n",
       "        }    #T_55af4270_d87a_11ea_a141_00f48d2c948crow6_col8 {\n",
       "            background-color:  #516ddb;\n",
       "            color:  #000000;\n",
       "        }    #T_55af4270_d87a_11ea_a141_00f48d2c948crow6_col9 {\n",
       "            background-color:  #96b7ff;\n",
       "            color:  #000000;\n",
       "        }    #T_55af4270_d87a_11ea_a141_00f48d2c948crow6_col10 {\n",
       "            background-color:  #93b5fe;\n",
       "            color:  #000000;\n",
       "        }    #T_55af4270_d87a_11ea_a141_00f48d2c948crow6_col11 {\n",
       "            background-color:  #3b4cc0;\n",
       "            color:  #f1f1f1;\n",
       "        }    #T_55af4270_d87a_11ea_a141_00f48d2c948crow6_col12 {\n",
       "            background-color:  #5a78e4;\n",
       "            color:  #000000;\n",
       "        }    #T_55af4270_d87a_11ea_a141_00f48d2c948crow6_col13 {\n",
       "            background-color:  #a2c1ff;\n",
       "            color:  #000000;\n",
       "        }    #T_55af4270_d87a_11ea_a141_00f48d2c948crow6_col14 {\n",
       "            background-color:  #b3cdfb;\n",
       "            color:  #000000;\n",
       "        }    #T_55af4270_d87a_11ea_a141_00f48d2c948crow7_col0 {\n",
       "            background-color:  #536edd;\n",
       "            color:  #000000;\n",
       "        }    #T_55af4270_d87a_11ea_a141_00f48d2c948crow7_col1 {\n",
       "            background-color:  #9fbfff;\n",
       "            color:  #000000;\n",
       "        }    #T_55af4270_d87a_11ea_a141_00f48d2c948crow7_col2 {\n",
       "            background-color:  #cad8ef;\n",
       "            color:  #000000;\n",
       "        }    #T_55af4270_d87a_11ea_a141_00f48d2c948crow7_col3 {\n",
       "            background-color:  #a9c6fd;\n",
       "            color:  #000000;\n",
       "        }    #T_55af4270_d87a_11ea_a141_00f48d2c948crow7_col4 {\n",
       "            background-color:  #7396f5;\n",
       "            color:  #000000;\n",
       "        }    #T_55af4270_d87a_11ea_a141_00f48d2c948crow7_col5 {\n",
       "            background-color:  #3b4cc0;\n",
       "            color:  #f1f1f1;\n",
       "        }    #T_55af4270_d87a_11ea_a141_00f48d2c948crow7_col6 {\n",
       "            background-color:  #6687ed;\n",
       "            color:  #000000;\n",
       "        }    #T_55af4270_d87a_11ea_a141_00f48d2c948crow7_col7 {\n",
       "            background-color:  #b40426;\n",
       "            color:  #f1f1f1;\n",
       "        }    #T_55af4270_d87a_11ea_a141_00f48d2c948crow7_col8 {\n",
       "            background-color:  #4f69d9;\n",
       "            color:  #000000;\n",
       "        }    #T_55af4270_d87a_11ea_a141_00f48d2c948crow7_col9 {\n",
       "            background-color:  #b5cdfa;\n",
       "            color:  #000000;\n",
       "        }    #T_55af4270_d87a_11ea_a141_00f48d2c948crow7_col10 {\n",
       "            background-color:  #98b9ff;\n",
       "            color:  #000000;\n",
       "        }    #T_55af4270_d87a_11ea_a141_00f48d2c948crow7_col11 {\n",
       "            background-color:  #3b4cc0;\n",
       "            color:  #f1f1f1;\n",
       "        }    #T_55af4270_d87a_11ea_a141_00f48d2c948crow7_col12 {\n",
       "            background-color:  #5875e1;\n",
       "            color:  #000000;\n",
       "        }    #T_55af4270_d87a_11ea_a141_00f48d2c948crow7_col13 {\n",
       "            background-color:  #9ebeff;\n",
       "            color:  #000000;\n",
       "        }    #T_55af4270_d87a_11ea_a141_00f48d2c948crow7_col14 {\n",
       "            background-color:  #aac7fd;\n",
       "            color:  #000000;\n",
       "        }    #T_55af4270_d87a_11ea_a141_00f48d2c948crow8_col0 {\n",
       "            background-color:  #5572df;\n",
       "            color:  #000000;\n",
       "        }    #T_55af4270_d87a_11ea_a141_00f48d2c948crow8_col1 {\n",
       "            background-color:  #799cf8;\n",
       "            color:  #000000;\n",
       "        }    #T_55af4270_d87a_11ea_a141_00f48d2c948crow8_col2 {\n",
       "            background-color:  #97b8ff;\n",
       "            color:  #000000;\n",
       "        }    #T_55af4270_d87a_11ea_a141_00f48d2c948crow8_col3 {\n",
       "            background-color:  #b6cefa;\n",
       "            color:  #000000;\n",
       "        }    #T_55af4270_d87a_11ea_a141_00f48d2c948crow8_col4 {\n",
       "            background-color:  #5470de;\n",
       "            color:  #000000;\n",
       "        }    #T_55af4270_d87a_11ea_a141_00f48d2c948crow8_col5 {\n",
       "            background-color:  #688aef;\n",
       "            color:  #000000;\n",
       "        }    #T_55af4270_d87a_11ea_a141_00f48d2c948crow8_col6 {\n",
       "            background-color:  #3e51c5;\n",
       "            color:  #f1f1f1;\n",
       "        }    #T_55af4270_d87a_11ea_a141_00f48d2c948crow8_col7 {\n",
       "            background-color:  #5470de;\n",
       "            color:  #000000;\n",
       "        }    #T_55af4270_d87a_11ea_a141_00f48d2c948crow8_col8 {\n",
       "            background-color:  #b40426;\n",
       "            color:  #f1f1f1;\n",
       "        }    #T_55af4270_d87a_11ea_a141_00f48d2c948crow8_col9 {\n",
       "            background-color:  #84a7fc;\n",
       "            color:  #000000;\n",
       "        }    #T_55af4270_d87a_11ea_a141_00f48d2c948crow8_col10 {\n",
       "            background-color:  #86a9fc;\n",
       "            color:  #000000;\n",
       "        }    #T_55af4270_d87a_11ea_a141_00f48d2c948crow8_col11 {\n",
       "            background-color:  #3b4cc0;\n",
       "            color:  #f1f1f1;\n",
       "        }    #T_55af4270_d87a_11ea_a141_00f48d2c948crow8_col12 {\n",
       "            background-color:  #4f69d9;\n",
       "            color:  #000000;\n",
       "        }    #T_55af4270_d87a_11ea_a141_00f48d2c948crow8_col13 {\n",
       "            background-color:  #9abbff;\n",
       "            color:  #000000;\n",
       "        }    #T_55af4270_d87a_11ea_a141_00f48d2c948crow8_col14 {\n",
       "            background-color:  #a7c5fe;\n",
       "            color:  #000000;\n",
       "        }    #T_55af4270_d87a_11ea_a141_00f48d2c948crow9_col0 {\n",
       "            background-color:  #3b4cc0;\n",
       "            color:  #f1f1f1;\n",
       "        }    #T_55af4270_d87a_11ea_a141_00f48d2c948crow9_col1 {\n",
       "            background-color:  #f2c9b4;\n",
       "            color:  #000000;\n",
       "        }    #T_55af4270_d87a_11ea_a141_00f48d2c948crow9_col2 {\n",
       "            background-color:  #ec7f63;\n",
       "            color:  #000000;\n",
       "        }    #T_55af4270_d87a_11ea_a141_00f48d2c948crow9_col3 {\n",
       "            background-color:  #4f69d9;\n",
       "            color:  #000000;\n",
       "        }    #T_55af4270_d87a_11ea_a141_00f48d2c948crow9_col4 {\n",
       "            background-color:  #3f53c6;\n",
       "            color:  #f1f1f1;\n",
       "        }    #T_55af4270_d87a_11ea_a141_00f48d2c948crow9_col5 {\n",
       "            background-color:  #5673e0;\n",
       "            color:  #000000;\n",
       "        }    #T_55af4270_d87a_11ea_a141_00f48d2c948crow9_col6 {\n",
       "            background-color:  #3b4cc0;\n",
       "            color:  #f1f1f1;\n",
       "        }    #T_55af4270_d87a_11ea_a141_00f48d2c948crow9_col7 {\n",
       "            background-color:  #799cf8;\n",
       "            color:  #000000;\n",
       "        }    #T_55af4270_d87a_11ea_a141_00f48d2c948crow9_col8 {\n",
       "            background-color:  #3b4cc0;\n",
       "            color:  #f1f1f1;\n",
       "        }    #T_55af4270_d87a_11ea_a141_00f48d2c948crow9_col9 {\n",
       "            background-color:  #b40426;\n",
       "            color:  #f1f1f1;\n",
       "        }    #T_55af4270_d87a_11ea_a141_00f48d2c948crow9_col10 {\n",
       "            background-color:  #3d50c3;\n",
       "            color:  #f1f1f1;\n",
       "        }    #T_55af4270_d87a_11ea_a141_00f48d2c948crow9_col11 {\n",
       "            background-color:  #3d50c3;\n",
       "            color:  #f1f1f1;\n",
       "        }    #T_55af4270_d87a_11ea_a141_00f48d2c948crow9_col12 {\n",
       "            background-color:  #536edd;\n",
       "            color:  #000000;\n",
       "        }    #T_55af4270_d87a_11ea_a141_00f48d2c948crow9_col13 {\n",
       "            background-color:  #3e51c5;\n",
       "            color:  #f1f1f1;\n",
       "        }    #T_55af4270_d87a_11ea_a141_00f48d2c948crow9_col14 {\n",
       "            background-color:  #4257c9;\n",
       "            color:  #f1f1f1;\n",
       "        }    #T_55af4270_d87a_11ea_a141_00f48d2c948crow10_col0 {\n",
       "            background-color:  #6687ed;\n",
       "            color:  #000000;\n",
       "        }    #T_55af4270_d87a_11ea_a141_00f48d2c948crow10_col1 {\n",
       "            background-color:  #536edd;\n",
       "            color:  #000000;\n",
       "        }    #T_55af4270_d87a_11ea_a141_00f48d2c948crow10_col2 {\n",
       "            background-color:  #7597f6;\n",
       "            color:  #000000;\n",
       "        }    #T_55af4270_d87a_11ea_a141_00f48d2c948crow10_col3 {\n",
       "            background-color:  #f2c9b4;\n",
       "            color:  #000000;\n",
       "        }    #T_55af4270_d87a_11ea_a141_00f48d2c948crow10_col4 {\n",
       "            background-color:  #688aef;\n",
       "            color:  #000000;\n",
       "        }    #T_55af4270_d87a_11ea_a141_00f48d2c948crow10_col5 {\n",
       "            background-color:  #465ecf;\n",
       "            color:  #f1f1f1;\n",
       "        }    #T_55af4270_d87a_11ea_a141_00f48d2c948crow10_col6 {\n",
       "            background-color:  #5d7ce6;\n",
       "            color:  #000000;\n",
       "        }    #T_55af4270_d87a_11ea_a141_00f48d2c948crow10_col7 {\n",
       "            background-color:  #7b9ff9;\n",
       "            color:  #000000;\n",
       "        }    #T_55af4270_d87a_11ea_a141_00f48d2c948crow10_col8 {\n",
       "            background-color:  #6384eb;\n",
       "            color:  #000000;\n",
       "        }    #T_55af4270_d87a_11ea_a141_00f48d2c948crow10_col9 {\n",
       "            background-color:  #6384eb;\n",
       "            color:  #000000;\n",
       "        }    #T_55af4270_d87a_11ea_a141_00f48d2c948crow10_col10 {\n",
       "            background-color:  #b40426;\n",
       "            color:  #f1f1f1;\n",
       "        }    #T_55af4270_d87a_11ea_a141_00f48d2c948crow10_col11 {\n",
       "            background-color:  #3f53c6;\n",
       "            color:  #f1f1f1;\n",
       "        }    #T_55af4270_d87a_11ea_a141_00f48d2c948crow10_col12 {\n",
       "            background-color:  #a1c0ff;\n",
       "            color:  #000000;\n",
       "        }    #T_55af4270_d87a_11ea_a141_00f48d2c948crow10_col13 {\n",
       "            background-color:  #c73635;\n",
       "            color:  #f1f1f1;\n",
       "        }    #T_55af4270_d87a_11ea_a141_00f48d2c948crow10_col14 {\n",
       "            background-color:  #d0473d;\n",
       "            color:  #f1f1f1;\n",
       "        }    #T_55af4270_d87a_11ea_a141_00f48d2c948crow11_col0 {\n",
       "            background-color:  #5470de;\n",
       "            color:  #000000;\n",
       "        }    #T_55af4270_d87a_11ea_a141_00f48d2c948crow11_col1 {\n",
       "            background-color:  #82a6fb;\n",
       "            color:  #000000;\n",
       "        }    #T_55af4270_d87a_11ea_a141_00f48d2c948crow11_col2 {\n",
       "            background-color:  #a9c6fd;\n",
       "            color:  #000000;\n",
       "        }    #T_55af4270_d87a_11ea_a141_00f48d2c948crow11_col3 {\n",
       "            background-color:  #a9c6fd;\n",
       "            color:  #000000;\n",
       "        }    #T_55af4270_d87a_11ea_a141_00f48d2c948crow11_col4 {\n",
       "            background-color:  #516ddb;\n",
       "            color:  #000000;\n",
       "        }    #T_55af4270_d87a_11ea_a141_00f48d2c948crow11_col5 {\n",
       "            background-color:  #5572df;\n",
       "            color:  #000000;\n",
       "        }    #T_55af4270_d87a_11ea_a141_00f48d2c948crow11_col6 {\n",
       "            background-color:  #3c4ec2;\n",
       "            color:  #f1f1f1;\n",
       "        }    #T_55af4270_d87a_11ea_a141_00f48d2c948crow11_col7 {\n",
       "            background-color:  #5470de;\n",
       "            color:  #000000;\n",
       "        }    #T_55af4270_d87a_11ea_a141_00f48d2c948crow11_col8 {\n",
       "            background-color:  #4f69d9;\n",
       "            color:  #000000;\n",
       "        }    #T_55af4270_d87a_11ea_a141_00f48d2c948crow11_col9 {\n",
       "            background-color:  #97b8ff;\n",
       "            color:  #000000;\n",
       "        }    #T_55af4270_d87a_11ea_a141_00f48d2c948crow11_col10 {\n",
       "            background-color:  #779af7;\n",
       "            color:  #000000;\n",
       "        }    #T_55af4270_d87a_11ea_a141_00f48d2c948crow11_col11 {\n",
       "            background-color:  #b40426;\n",
       "            color:  #f1f1f1;\n",
       "        }    #T_55af4270_d87a_11ea_a141_00f48d2c948crow11_col12 {\n",
       "            background-color:  #4e68d8;\n",
       "            color:  #000000;\n",
       "        }    #T_55af4270_d87a_11ea_a141_00f48d2c948crow11_col13 {\n",
       "            background-color:  #86a9fc;\n",
       "            color:  #000000;\n",
       "        }    #T_55af4270_d87a_11ea_a141_00f48d2c948crow11_col14 {\n",
       "            background-color:  #94b6ff;\n",
       "            color:  #000000;\n",
       "        }    #T_55af4270_d87a_11ea_a141_00f48d2c948crow12_col0 {\n",
       "            background-color:  #5d7ce6;\n",
       "            color:  #000000;\n",
       "        }    #T_55af4270_d87a_11ea_a141_00f48d2c948crow12_col1 {\n",
       "            background-color:  #81a4fb;\n",
       "            color:  #000000;\n",
       "        }    #T_55af4270_d87a_11ea_a141_00f48d2c948crow12_col2 {\n",
       "            background-color:  #9dbdff;\n",
       "            color:  #000000;\n",
       "        }    #T_55af4270_d87a_11ea_a141_00f48d2c948crow12_col3 {\n",
       "            background-color:  #97b8ff;\n",
       "            color:  #000000;\n",
       "        }    #T_55af4270_d87a_11ea_a141_00f48d2c948crow12_col4 {\n",
       "            background-color:  #5470de;\n",
       "            color:  #000000;\n",
       "        }    #T_55af4270_d87a_11ea_a141_00f48d2c948crow12_col5 {\n",
       "            background-color:  #5470de;\n",
       "            color:  #000000;\n",
       "        }    #T_55af4270_d87a_11ea_a141_00f48d2c948crow12_col6 {\n",
       "            background-color:  #485fd1;\n",
       "            color:  #f1f1f1;\n",
       "        }    #T_55af4270_d87a_11ea_a141_00f48d2c948crow12_col7 {\n",
       "            background-color:  #5e7de7;\n",
       "            color:  #000000;\n",
       "        }    #T_55af4270_d87a_11ea_a141_00f48d2c948crow12_col8 {\n",
       "            background-color:  #506bda;\n",
       "            color:  #000000;\n",
       "        }    #T_55af4270_d87a_11ea_a141_00f48d2c948crow12_col9 {\n",
       "            background-color:  #9abbff;\n",
       "            color:  #000000;\n",
       "        }    #T_55af4270_d87a_11ea_a141_00f48d2c948crow12_col10 {\n",
       "            background-color:  #bcd2f7;\n",
       "            color:  #000000;\n",
       "        }    #T_55af4270_d87a_11ea_a141_00f48d2c948crow12_col11 {\n",
       "            background-color:  #3b4cc0;\n",
       "            color:  #f1f1f1;\n",
       "        }    #T_55af4270_d87a_11ea_a141_00f48d2c948crow12_col12 {\n",
       "            background-color:  #b40426;\n",
       "            color:  #f1f1f1;\n",
       "        }    #T_55af4270_d87a_11ea_a141_00f48d2c948crow12_col13 {\n",
       "            background-color:  #c9d7f0;\n",
       "            color:  #000000;\n",
       "        }    #T_55af4270_d87a_11ea_a141_00f48d2c948crow12_col14 {\n",
       "            background-color:  #ccd9ed;\n",
       "            color:  #000000;\n",
       "        }    #T_55af4270_d87a_11ea_a141_00f48d2c948crow13_col0 {\n",
       "            background-color:  #6687ed;\n",
       "            color:  #000000;\n",
       "        }    #T_55af4270_d87a_11ea_a141_00f48d2c948crow13_col1 {\n",
       "            background-color:  #4b64d5;\n",
       "            color:  #f1f1f1;\n",
       "        }    #T_55af4270_d87a_11ea_a141_00f48d2c948crow13_col2 {\n",
       "            background-color:  #6485ec;\n",
       "            color:  #000000;\n",
       "        }    #T_55af4270_d87a_11ea_a141_00f48d2c948crow13_col3 {\n",
       "            background-color:  #f6bda2;\n",
       "            color:  #000000;\n",
       "        }    #T_55af4270_d87a_11ea_a141_00f48d2c948crow13_col4 {\n",
       "            background-color:  #6a8bef;\n",
       "            color:  #000000;\n",
       "        }    #T_55af4270_d87a_11ea_a141_00f48d2c948crow13_col5 {\n",
       "            background-color:  #4b64d5;\n",
       "            color:  #f1f1f1;\n",
       "        }    #T_55af4270_d87a_11ea_a141_00f48d2c948crow13_col6 {\n",
       "            background-color:  #5f7fe8;\n",
       "            color:  #000000;\n",
       "        }    #T_55af4270_d87a_11ea_a141_00f48d2c948crow13_col7 {\n",
       "            background-color:  #7295f4;\n",
       "            color:  #000000;\n",
       "        }    #T_55af4270_d87a_11ea_a141_00f48d2c948crow13_col8 {\n",
       "            background-color:  #688aef;\n",
       "            color:  #000000;\n",
       "        }    #T_55af4270_d87a_11ea_a141_00f48d2c948crow13_col9 {\n",
       "            background-color:  #5470de;\n",
       "            color:  #000000;\n",
       "        }    #T_55af4270_d87a_11ea_a141_00f48d2c948crow13_col10 {\n",
       "            background-color:  #c83836;\n",
       "            color:  #f1f1f1;\n",
       "        }    #T_55af4270_d87a_11ea_a141_00f48d2c948crow13_col11 {\n",
       "            background-color:  #3f53c6;\n",
       "            color:  #f1f1f1;\n",
       "        }    #T_55af4270_d87a_11ea_a141_00f48d2c948crow13_col12 {\n",
       "            background-color:  #a3c2fe;\n",
       "            color:  #000000;\n",
       "        }    #T_55af4270_d87a_11ea_a141_00f48d2c948crow13_col13 {\n",
       "            background-color:  #b40426;\n",
       "            color:  #f1f1f1;\n",
       "        }    #T_55af4270_d87a_11ea_a141_00f48d2c948crow13_col14 {\n",
       "            background-color:  #bb1b2c;\n",
       "            color:  #f1f1f1;\n",
       "        }    #T_55af4270_d87a_11ea_a141_00f48d2c948crow14_col0 {\n",
       "            background-color:  #6a8bef;\n",
       "            color:  #000000;\n",
       "        }    #T_55af4270_d87a_11ea_a141_00f48d2c948crow14_col1 {\n",
       "            background-color:  #4257c9;\n",
       "            color:  #f1f1f1;\n",
       "        }    #T_55af4270_d87a_11ea_a141_00f48d2c948crow14_col2 {\n",
       "            background-color:  #5572df;\n",
       "            color:  #000000;\n",
       "        }    #T_55af4270_d87a_11ea_a141_00f48d2c948crow14_col3 {\n",
       "            background-color:  #f7b093;\n",
       "            color:  #000000;\n",
       "        }    #T_55af4270_d87a_11ea_a141_00f48d2c948crow14_col4 {\n",
       "            background-color:  #6c8ff1;\n",
       "            color:  #000000;\n",
       "        }    #T_55af4270_d87a_11ea_a141_00f48d2c948crow14_col5 {\n",
       "            background-color:  #4c66d6;\n",
       "            color:  #000000;\n",
       "        }    #T_55af4270_d87a_11ea_a141_00f48d2c948crow14_col6 {\n",
       "            background-color:  #6687ed;\n",
       "            color:  #000000;\n",
       "        }    #T_55af4270_d87a_11ea_a141_00f48d2c948crow14_col7 {\n",
       "            background-color:  #7295f4;\n",
       "            color:  #000000;\n",
       "        }    #T_55af4270_d87a_11ea_a141_00f48d2c948crow14_col8 {\n",
       "            background-color:  #6a8bef;\n",
       "            color:  #000000;\n",
       "        }    #T_55af4270_d87a_11ea_a141_00f48d2c948crow14_col9 {\n",
       "            background-color:  #485fd1;\n",
       "            color:  #f1f1f1;\n",
       "        }    #T_55af4270_d87a_11ea_a141_00f48d2c948crow14_col10 {\n",
       "            background-color:  #d24b40;\n",
       "            color:  #f1f1f1;\n",
       "        }    #T_55af4270_d87a_11ea_a141_00f48d2c948crow14_col11 {\n",
       "            background-color:  #3f53c6;\n",
       "            color:  #f1f1f1;\n",
       "        }    #T_55af4270_d87a_11ea_a141_00f48d2c948crow14_col12 {\n",
       "            background-color:  #9bbcff;\n",
       "            color:  #000000;\n",
       "        }    #T_55af4270_d87a_11ea_a141_00f48d2c948crow14_col13 {\n",
       "            background-color:  #bb1b2c;\n",
       "            color:  #f1f1f1;\n",
       "        }    #T_55af4270_d87a_11ea_a141_00f48d2c948crow14_col14 {\n",
       "            background-color:  #b40426;\n",
       "            color:  #f1f1f1;\n",
       "        }</style><table id=\"T_55af4270_d87a_11ea_a141_00f48d2c948c\" ><thead>    <tr>        <th class=\"blank level0\" ></th>        <th class=\"col_heading level0 col0\" >Zip</th>        <th class=\"col_heading level0 col1\" >CCSC</th>        <th class=\"col_heading level0 col2\" >ApprovalFY</th>        <th class=\"col_heading level0 col3\" >Term</th>        <th class=\"col_heading level0 col4\" >NoEmp</th>        <th class=\"col_heading level0 col5\" >NewExist</th>        <th class=\"col_heading level0 col6\" >CreateJob</th>        <th class=\"col_heading level0 col7\" >RetainedJob</th>        <th class=\"col_heading level0 col8\" >FranchiseCode</th>        <th class=\"col_heading level0 col9\" >UrbanRural</th>        <th class=\"col_heading level0 col10\" >DisbursementGross</th>        <th class=\"col_heading level0 col11\" >BalanceGross</th>        <th class=\"col_heading level0 col12\" >ChgOffPrinGr</th>        <th class=\"col_heading level0 col13\" >GrAppv</th>        <th class=\"col_heading level0 col14\" >SBA_Appv</th>    </tr></thead><tbody>\n",
       "                <tr>\n",
       "                        <th id=\"T_55af4270_d87a_11ea_a141_00f48d2c948clevel0_row0\" class=\"row_heading level0 row0\" >Zip</th>\n",
       "                        <td id=\"T_55af4270_d87a_11ea_a141_00f48d2c948crow0_col0\" class=\"data row0 col0\" >1.00</td>\n",
       "                        <td id=\"T_55af4270_d87a_11ea_a141_00f48d2c948crow0_col1\" class=\"data row0 col1\" >-0.07</td>\n",
       "                        <td id=\"T_55af4270_d87a_11ea_a141_00f48d2c948crow0_col2\" class=\"data row0 col2\" >-0.08</td>\n",
       "                        <td id=\"T_55af4270_d87a_11ea_a141_00f48d2c948crow0_col3\" class=\"data row0 col3\" >0.10</td>\n",
       "                        <td id=\"T_55af4270_d87a_11ea_a141_00f48d2c948crow0_col4\" class=\"data row0 col4\" >0.01</td>\n",
       "                        <td id=\"T_55af4270_d87a_11ea_a141_00f48d2c948crow0_col5\" class=\"data row0 col5\" >-0.07</td>\n",
       "                        <td id=\"T_55af4270_d87a_11ea_a141_00f48d2c948crow0_col6\" class=\"data row0 col6\" >0.02</td>\n",
       "                        <td id=\"T_55af4270_d87a_11ea_a141_00f48d2c948crow0_col7\" class=\"data row0 col7\" >-0.00</td>\n",
       "                        <td id=\"T_55af4270_d87a_11ea_a141_00f48d2c948crow0_col8\" class=\"data row0 col8\" >0.01</td>\n",
       "                        <td id=\"T_55af4270_d87a_11ea_a141_00f48d2c948crow0_col9\" class=\"data row0 col9\" >-0.09</td>\n",
       "                        <td id=\"T_55af4270_d87a_11ea_a141_00f48d2c948crow0_col10\" class=\"data row0 col10\" >0.07</td>\n",
       "                        <td id=\"T_55af4270_d87a_11ea_a141_00f48d2c948crow0_col11\" class=\"data row0 col11\" >0.00</td>\n",
       "                        <td id=\"T_55af4270_d87a_11ea_a141_00f48d2c948crow0_col12\" class=\"data row0 col12\" >0.03</td>\n",
       "                        <td id=\"T_55af4270_d87a_11ea_a141_00f48d2c948crow0_col13\" class=\"data row0 col13\" >0.06</td>\n",
       "                        <td id=\"T_55af4270_d87a_11ea_a141_00f48d2c948crow0_col14\" class=\"data row0 col14\" >0.08</td>\n",
       "            </tr>\n",
       "            <tr>\n",
       "                        <th id=\"T_55af4270_d87a_11ea_a141_00f48d2c948clevel0_row1\" class=\"row_heading level0 row1\" >CCSC</th>\n",
       "                        <td id=\"T_55af4270_d87a_11ea_a141_00f48d2c948crow1_col0\" class=\"data row1 col0\" >-0.07</td>\n",
       "                        <td id=\"T_55af4270_d87a_11ea_a141_00f48d2c948crow1_col1\" class=\"data row1 col1\" >1.00</td>\n",
       "                        <td id=\"T_55af4270_d87a_11ea_a141_00f48d2c948crow1_col2\" class=\"data row1 col2\" >0.59</td>\n",
       "                        <td id=\"T_55af4270_d87a_11ea_a141_00f48d2c948crow1_col3\" class=\"data row1 col3\" >-0.29</td>\n",
       "                        <td id=\"T_55af4270_d87a_11ea_a141_00f48d2c948crow1_col4\" class=\"data row1 col4\" >-0.05</td>\n",
       "                        <td id=\"T_55af4270_d87a_11ea_a141_00f48d2c948crow1_col5\" class=\"data row1 col5\" >0.04</td>\n",
       "                        <td id=\"T_55af4270_d87a_11ea_a141_00f48d2c948crow1_col6\" class=\"data row1 col6\" >0.01</td>\n",
       "                        <td id=\"T_55af4270_d87a_11ea_a141_00f48d2c948crow1_col7\" class=\"data row1 col7\" >0.10</td>\n",
       "                        <td id=\"T_55af4270_d87a_11ea_a141_00f48d2c948crow1_col8\" class=\"data row1 col8\" >-0.04</td>\n",
       "                        <td id=\"T_55af4270_d87a_11ea_a141_00f48d2c948crow1_col9\" class=\"data row1 col9\" >0.49</td>\n",
       "                        <td id=\"T_55af4270_d87a_11ea_a141_00f48d2c948crow1_col10\" class=\"data row1 col10\" >-0.18</td>\n",
       "                        <td id=\"T_55af4270_d87a_11ea_a141_00f48d2c948crow1_col11\" class=\"data row1 col11\" >-0.00</td>\n",
       "                        <td id=\"T_55af4270_d87a_11ea_a141_00f48d2c948crow1_col12\" class=\"data row1 col12\" >-0.01</td>\n",
       "                        <td id=\"T_55af4270_d87a_11ea_a141_00f48d2c948crow1_col13\" class=\"data row1 col13\" >-0.21</td>\n",
       "                        <td id=\"T_55af4270_d87a_11ea_a141_00f48d2c948crow1_col14\" class=\"data row1 col14\" >-0.26</td>\n",
       "            </tr>\n",
       "            <tr>\n",
       "                        <th id=\"T_55af4270_d87a_11ea_a141_00f48d2c948clevel0_row2\" class=\"row_heading level0 row2\" >ApprovalFY</th>\n",
       "                        <td id=\"T_55af4270_d87a_11ea_a141_00f48d2c948crow2_col0\" class=\"data row2 col0\" >-0.08</td>\n",
       "                        <td id=\"T_55af4270_d87a_11ea_a141_00f48d2c948crow2_col1\" class=\"data row2 col1\" >0.59</td>\n",
       "                        <td id=\"T_55af4270_d87a_11ea_a141_00f48d2c948crow2_col2\" class=\"data row2 col2\" >1.00</td>\n",
       "                        <td id=\"T_55af4270_d87a_11ea_a141_00f48d2c948crow2_col3\" class=\"data row2 col3\" >-0.49</td>\n",
       "                        <td id=\"T_55af4270_d87a_11ea_a141_00f48d2c948crow2_col4\" class=\"data row2 col4\" >-0.08</td>\n",
       "                        <td id=\"T_55af4270_d87a_11ea_a141_00f48d2c948crow2_col5\" class=\"data row2 col5\" >0.02</td>\n",
       "                        <td id=\"T_55af4270_d87a_11ea_a141_00f48d2c948crow2_col6\" class=\"data row2 col6\" >0.01</td>\n",
       "                        <td id=\"T_55af4270_d87a_11ea_a141_00f48d2c948crow2_col7\" class=\"data row2 col7\" >0.15</td>\n",
       "                        <td id=\"T_55af4270_d87a_11ea_a141_00f48d2c948crow2_col8\" class=\"data row2 col8\" >-0.07</td>\n",
       "                        <td id=\"T_55af4270_d87a_11ea_a141_00f48d2c948crow2_col9\" class=\"data row2 col9\" >0.72</td>\n",
       "                        <td id=\"T_55af4270_d87a_11ea_a141_00f48d2c948crow2_col10\" class=\"data row2 col10\" >-0.21</td>\n",
       "                        <td id=\"T_55af4270_d87a_11ea_a141_00f48d2c948crow2_col11\" class=\"data row2 col11\" >0.00</td>\n",
       "                        <td id=\"T_55af4270_d87a_11ea_a141_00f48d2c948crow2_col12\" class=\"data row2 col12\" >-0.05</td>\n",
       "                        <td id=\"T_55af4270_d87a_11ea_a141_00f48d2c948crow2_col13\" class=\"data row2 col13\" >-0.28</td>\n",
       "                        <td id=\"T_55af4270_d87a_11ea_a141_00f48d2c948crow2_col14\" class=\"data row2 col14\" >-0.35</td>\n",
       "            </tr>\n",
       "            <tr>\n",
       "                        <th id=\"T_55af4270_d87a_11ea_a141_00f48d2c948clevel0_row3\" class=\"row_heading level0 row3\" >Term</th>\n",
       "                        <td id=\"T_55af4270_d87a_11ea_a141_00f48d2c948crow3_col0\" class=\"data row3 col0\" >0.10</td>\n",
       "                        <td id=\"T_55af4270_d87a_11ea_a141_00f48d2c948crow3_col1\" class=\"data row3 col1\" >-0.29</td>\n",
       "                        <td id=\"T_55af4270_d87a_11ea_a141_00f48d2c948crow3_col2\" class=\"data row3 col2\" >-0.49</td>\n",
       "                        <td id=\"T_55af4270_d87a_11ea_a141_00f48d2c948crow3_col3\" class=\"data row3 col3\" >1.00</td>\n",
       "                        <td id=\"T_55af4270_d87a_11ea_a141_00f48d2c948crow3_col4\" class=\"data row3 col4\" >0.06</td>\n",
       "                        <td id=\"T_55af4270_d87a_11ea_a141_00f48d2c948crow3_col5\" class=\"data row3 col5\" >-0.02</td>\n",
       "                        <td id=\"T_55af4270_d87a_11ea_a141_00f48d2c948crow3_col6\" class=\"data row3 col6\" >0.07</td>\n",
       "                        <td id=\"T_55af4270_d87a_11ea_a141_00f48d2c948crow3_col7\" class=\"data row3 col7\" >0.00</td>\n",
       "                        <td id=\"T_55af4270_d87a_11ea_a141_00f48d2c948crow3_col8\" class=\"data row3 col8\" >0.06</td>\n",
       "                        <td id=\"T_55af4270_d87a_11ea_a141_00f48d2c948crow3_col9\" class=\"data row3 col9\" >-0.38</td>\n",
       "                        <td id=\"T_55af4270_d87a_11ea_a141_00f48d2c948crow3_col10\" class=\"data row3 col10\" >0.41</td>\n",
       "                        <td id=\"T_55af4270_d87a_11ea_a141_00f48d2c948crow3_col11\" class=\"data row3 col11\" >0.00</td>\n",
       "                        <td id=\"T_55af4270_d87a_11ea_a141_00f48d2c948crow3_col12\" class=\"data row3 col12\" >-0.07</td>\n",
       "                        <td id=\"T_55af4270_d87a_11ea_a141_00f48d2c948crow3_col13\" class=\"data row3 col13\" >0.48</td>\n",
       "                        <td id=\"T_55af4270_d87a_11ea_a141_00f48d2c948crow3_col14\" class=\"data row3 col14\" >0.54</td>\n",
       "            </tr>\n",
       "            <tr>\n",
       "                        <th id=\"T_55af4270_d87a_11ea_a141_00f48d2c948clevel0_row4\" class=\"row_heading level0 row4\" >NoEmp</th>\n",
       "                        <td id=\"T_55af4270_d87a_11ea_a141_00f48d2c948crow4_col0\" class=\"data row4 col0\" >0.01</td>\n",
       "                        <td id=\"T_55af4270_d87a_11ea_a141_00f48d2c948crow4_col1\" class=\"data row4 col1\" >-0.05</td>\n",
       "                        <td id=\"T_55af4270_d87a_11ea_a141_00f48d2c948crow4_col2\" class=\"data row4 col2\" >-0.08</td>\n",
       "                        <td id=\"T_55af4270_d87a_11ea_a141_00f48d2c948crow4_col3\" class=\"data row4 col3\" >0.06</td>\n",
       "                        <td id=\"T_55af4270_d87a_11ea_a141_00f48d2c948crow4_col4\" class=\"data row4 col4\" >1.00</td>\n",
       "                        <td id=\"T_55af4270_d87a_11ea_a141_00f48d2c948crow4_col5\" class=\"data row4 col5\" >-0.03</td>\n",
       "                        <td id=\"T_55af4270_d87a_11ea_a141_00f48d2c948crow4_col6\" class=\"data row4 col6\" >0.03</td>\n",
       "                        <td id=\"T_55af4270_d87a_11ea_a141_00f48d2c948crow4_col7\" class=\"data row4 col7\" >0.11</td>\n",
       "                        <td id=\"T_55af4270_d87a_11ea_a141_00f48d2c948crow4_col8\" class=\"data row4 col8\" >0.01</td>\n",
       "                        <td id=\"T_55af4270_d87a_11ea_a141_00f48d2c948crow4_col9\" class=\"data row4 col9\" >-0.06</td>\n",
       "                        <td id=\"T_55af4270_d87a_11ea_a141_00f48d2c948crow4_col10\" class=\"data row4 col10\" >0.08</td>\n",
       "                        <td id=\"T_55af4270_d87a_11ea_a141_00f48d2c948crow4_col11\" class=\"data row4 col11\" >-0.00</td>\n",
       "                        <td id=\"T_55af4270_d87a_11ea_a141_00f48d2c948crow4_col12\" class=\"data row4 col12\" >0.01</td>\n",
       "                        <td id=\"T_55af4270_d87a_11ea_a141_00f48d2c948crow4_col13\" class=\"data row4 col13\" >0.08</td>\n",
       "                        <td id=\"T_55af4270_d87a_11ea_a141_00f48d2c948crow4_col14\" class=\"data row4 col14\" >0.09</td>\n",
       "            </tr>\n",
       "            <tr>\n",
       "                        <th id=\"T_55af4270_d87a_11ea_a141_00f48d2c948clevel0_row5\" class=\"row_heading level0 row5\" >NewExist</th>\n",
       "                        <td id=\"T_55af4270_d87a_11ea_a141_00f48d2c948crow5_col0\" class=\"data row5 col0\" >-0.07</td>\n",
       "                        <td id=\"T_55af4270_d87a_11ea_a141_00f48d2c948crow5_col1\" class=\"data row5 col1\" >0.04</td>\n",
       "                        <td id=\"T_55af4270_d87a_11ea_a141_00f48d2c948crow5_col2\" class=\"data row5 col2\" >0.02</td>\n",
       "                        <td id=\"T_55af4270_d87a_11ea_a141_00f48d2c948crow5_col3\" class=\"data row5 col3\" >-0.02</td>\n",
       "                        <td id=\"T_55af4270_d87a_11ea_a141_00f48d2c948crow5_col4\" class=\"data row5 col4\" >-0.03</td>\n",
       "                        <td id=\"T_55af4270_d87a_11ea_a141_00f48d2c948crow5_col5\" class=\"data row5 col5\" >1.00</td>\n",
       "                        <td id=\"T_55af4270_d87a_11ea_a141_00f48d2c948crow5_col6\" class=\"data row5 col6\" >0.01</td>\n",
       "                        <td id=\"T_55af4270_d87a_11ea_a141_00f48d2c948crow5_col7\" class=\"data row5 col7\" >-0.09</td>\n",
       "                        <td id=\"T_55af4270_d87a_11ea_a141_00f48d2c948crow5_col8\" class=\"data row5 col8\" >0.07</td>\n",
       "                        <td id=\"T_55af4270_d87a_11ea_a141_00f48d2c948crow5_col9\" class=\"data row5 col9\" >0.01</td>\n",
       "                        <td id=\"T_55af4270_d87a_11ea_a141_00f48d2c948crow5_col10\" class=\"data row5 col10\" >-0.05</td>\n",
       "                        <td id=\"T_55af4270_d87a_11ea_a141_00f48d2c948crow5_col11\" class=\"data row5 col11\" >0.00</td>\n",
       "                        <td id=\"T_55af4270_d87a_11ea_a141_00f48d2c948crow5_col12\" class=\"data row5 col12\" >-0.00</td>\n",
       "                        <td id=\"T_55af4270_d87a_11ea_a141_00f48d2c948crow5_col13\" class=\"data row5 col13\" >-0.03</td>\n",
       "                        <td id=\"T_55af4270_d87a_11ea_a141_00f48d2c948crow5_col14\" class=\"data row5 col14\" >-0.03</td>\n",
       "            </tr>\n",
       "            <tr>\n",
       "                        <th id=\"T_55af4270_d87a_11ea_a141_00f48d2c948clevel0_row6\" class=\"row_heading level0 row6\" >CreateJob</th>\n",
       "                        <td id=\"T_55af4270_d87a_11ea_a141_00f48d2c948crow6_col0\" class=\"data row6 col0\" >0.02</td>\n",
       "                        <td id=\"T_55af4270_d87a_11ea_a141_00f48d2c948crow6_col1\" class=\"data row6 col1\" >0.01</td>\n",
       "                        <td id=\"T_55af4270_d87a_11ea_a141_00f48d2c948crow6_col2\" class=\"data row6 col2\" >0.01</td>\n",
       "                        <td id=\"T_55af4270_d87a_11ea_a141_00f48d2c948crow6_col3\" class=\"data row6 col3\" >0.07</td>\n",
       "                        <td id=\"T_55af4270_d87a_11ea_a141_00f48d2c948crow6_col4\" class=\"data row6 col4\" >0.03</td>\n",
       "                        <td id=\"T_55af4270_d87a_11ea_a141_00f48d2c948crow6_col5\" class=\"data row6 col5\" >0.01</td>\n",
       "                        <td id=\"T_55af4270_d87a_11ea_a141_00f48d2c948crow6_col6\" class=\"data row6 col6\" >1.00</td>\n",
       "                        <td id=\"T_55af4270_d87a_11ea_a141_00f48d2c948crow6_col7\" class=\"data row6 col7\" >0.13</td>\n",
       "                        <td id=\"T_55af4270_d87a_11ea_a141_00f48d2c948crow6_col8\" class=\"data row6 col8\" >0.01</td>\n",
       "                        <td id=\"T_55af4270_d87a_11ea_a141_00f48d2c948crow6_col9\" class=\"data row6 col9\" >-0.00</td>\n",
       "                        <td id=\"T_55af4270_d87a_11ea_a141_00f48d2c948crow6_col10\" class=\"data row6 col10\" >0.11</td>\n",
       "                        <td id=\"T_55af4270_d87a_11ea_a141_00f48d2c948crow6_col11\" class=\"data row6 col11\" >-0.00</td>\n",
       "                        <td id=\"T_55af4270_d87a_11ea_a141_00f48d2c948crow6_col12\" class=\"data row6 col12\" >0.04</td>\n",
       "                        <td id=\"T_55af4270_d87a_11ea_a141_00f48d2c948crow6_col13\" class=\"data row6 col13\" >0.11</td>\n",
       "                        <td id=\"T_55af4270_d87a_11ea_a141_00f48d2c948crow6_col14\" class=\"data row6 col14\" >0.14</td>\n",
       "            </tr>\n",
       "            <tr>\n",
       "                        <th id=\"T_55af4270_d87a_11ea_a141_00f48d2c948clevel0_row7\" class=\"row_heading level0 row7\" >RetainedJob</th>\n",
       "                        <td id=\"T_55af4270_d87a_11ea_a141_00f48d2c948crow7_col0\" class=\"data row7 col0\" >-0.00</td>\n",
       "                        <td id=\"T_55af4270_d87a_11ea_a141_00f48d2c948crow7_col1\" class=\"data row7 col1\" >0.10</td>\n",
       "                        <td id=\"T_55af4270_d87a_11ea_a141_00f48d2c948crow7_col2\" class=\"data row7 col2\" >0.15</td>\n",
       "                        <td id=\"T_55af4270_d87a_11ea_a141_00f48d2c948crow7_col3\" class=\"data row7 col3\" >0.00</td>\n",
       "                        <td id=\"T_55af4270_d87a_11ea_a141_00f48d2c948crow7_col4\" class=\"data row7 col4\" >0.11</td>\n",
       "                        <td id=\"T_55af4270_d87a_11ea_a141_00f48d2c948crow7_col5\" class=\"data row7 col5\" >-0.09</td>\n",
       "                        <td id=\"T_55af4270_d87a_11ea_a141_00f48d2c948crow7_col6\" class=\"data row7 col6\" >0.13</td>\n",
       "                        <td id=\"T_55af4270_d87a_11ea_a141_00f48d2c948crow7_col7\" class=\"data row7 col7\" >1.00</td>\n",
       "                        <td id=\"T_55af4270_d87a_11ea_a141_00f48d2c948crow7_col8\" class=\"data row7 col8\" >-0.00</td>\n",
       "                        <td id=\"T_55af4270_d87a_11ea_a141_00f48d2c948crow7_col9\" class=\"data row7 col9\" >0.12</td>\n",
       "                        <td id=\"T_55af4270_d87a_11ea_a141_00f48d2c948crow7_col10\" class=\"data row7 col10\" >0.13</td>\n",
       "                        <td id=\"T_55af4270_d87a_11ea_a141_00f48d2c948crow7_col11\" class=\"data row7 col11\" >-0.00</td>\n",
       "                        <td id=\"T_55af4270_d87a_11ea_a141_00f48d2c948crow7_col12\" class=\"data row7 col12\" >0.03</td>\n",
       "                        <td id=\"T_55af4270_d87a_11ea_a141_00f48d2c948crow7_col13\" class=\"data row7 col13\" >0.10</td>\n",
       "                        <td id=\"T_55af4270_d87a_11ea_a141_00f48d2c948crow7_col14\" class=\"data row7 col14\" >0.10</td>\n",
       "            </tr>\n",
       "            <tr>\n",
       "                        <th id=\"T_55af4270_d87a_11ea_a141_00f48d2c948clevel0_row8\" class=\"row_heading level0 row8\" >FranchiseCode</th>\n",
       "                        <td id=\"T_55af4270_d87a_11ea_a141_00f48d2c948crow8_col0\" class=\"data row8 col0\" >0.01</td>\n",
       "                        <td id=\"T_55af4270_d87a_11ea_a141_00f48d2c948crow8_col1\" class=\"data row8 col1\" >-0.04</td>\n",
       "                        <td id=\"T_55af4270_d87a_11ea_a141_00f48d2c948crow8_col2\" class=\"data row8 col2\" >-0.07</td>\n",
       "                        <td id=\"T_55af4270_d87a_11ea_a141_00f48d2c948crow8_col3\" class=\"data row8 col3\" >0.06</td>\n",
       "                        <td id=\"T_55af4270_d87a_11ea_a141_00f48d2c948crow8_col4\" class=\"data row8 col4\" >0.01</td>\n",
       "                        <td id=\"T_55af4270_d87a_11ea_a141_00f48d2c948crow8_col5\" class=\"data row8 col5\" >0.07</td>\n",
       "                        <td id=\"T_55af4270_d87a_11ea_a141_00f48d2c948crow8_col6\" class=\"data row8 col6\" >0.01</td>\n",
       "                        <td id=\"T_55af4270_d87a_11ea_a141_00f48d2c948crow8_col7\" class=\"data row8 col7\" >-0.00</td>\n",
       "                        <td id=\"T_55af4270_d87a_11ea_a141_00f48d2c948crow8_col8\" class=\"data row8 col8\" >1.00</td>\n",
       "                        <td id=\"T_55af4270_d87a_11ea_a141_00f48d2c948crow8_col9\" class=\"data row8 col9\" >-0.07</td>\n",
       "                        <td id=\"T_55af4270_d87a_11ea_a141_00f48d2c948crow8_col10\" class=\"data row8 col10\" >0.07</td>\n",
       "                        <td id=\"T_55af4270_d87a_11ea_a141_00f48d2c948crow8_col11\" class=\"data row8 col11\" >-0.00</td>\n",
       "                        <td id=\"T_55af4270_d87a_11ea_a141_00f48d2c948crow8_col12\" class=\"data row8 col12\" >0.00</td>\n",
       "                        <td id=\"T_55af4270_d87a_11ea_a141_00f48d2c948crow8_col13\" class=\"data row8 col13\" >0.08</td>\n",
       "                        <td id=\"T_55af4270_d87a_11ea_a141_00f48d2c948crow8_col14\" class=\"data row8 col14\" >0.09</td>\n",
       "            </tr>\n",
       "            <tr>\n",
       "                        <th id=\"T_55af4270_d87a_11ea_a141_00f48d2c948clevel0_row9\" class=\"row_heading level0 row9\" >UrbanRural</th>\n",
       "                        <td id=\"T_55af4270_d87a_11ea_a141_00f48d2c948crow9_col0\" class=\"data row9 col0\" >-0.09</td>\n",
       "                        <td id=\"T_55af4270_d87a_11ea_a141_00f48d2c948crow9_col1\" class=\"data row9 col1\" >0.49</td>\n",
       "                        <td id=\"T_55af4270_d87a_11ea_a141_00f48d2c948crow9_col2\" class=\"data row9 col2\" >0.72</td>\n",
       "                        <td id=\"T_55af4270_d87a_11ea_a141_00f48d2c948crow9_col3\" class=\"data row9 col3\" >-0.38</td>\n",
       "                        <td id=\"T_55af4270_d87a_11ea_a141_00f48d2c948crow9_col4\" class=\"data row9 col4\" >-0.06</td>\n",
       "                        <td id=\"T_55af4270_d87a_11ea_a141_00f48d2c948crow9_col5\" class=\"data row9 col5\" >0.01</td>\n",
       "                        <td id=\"T_55af4270_d87a_11ea_a141_00f48d2c948crow9_col6\" class=\"data row9 col6\" >-0.00</td>\n",
       "                        <td id=\"T_55af4270_d87a_11ea_a141_00f48d2c948crow9_col7\" class=\"data row9 col7\" >0.12</td>\n",
       "                        <td id=\"T_55af4270_d87a_11ea_a141_00f48d2c948crow9_col8\" class=\"data row9 col8\" >-0.07</td>\n",
       "                        <td id=\"T_55af4270_d87a_11ea_a141_00f48d2c948crow9_col9\" class=\"data row9 col9\" >1.00</td>\n",
       "                        <td id=\"T_55af4270_d87a_11ea_a141_00f48d2c948crow9_col10\" class=\"data row9 col10\" >-0.20</td>\n",
       "                        <td id=\"T_55af4270_d87a_11ea_a141_00f48d2c948crow9_col11\" class=\"data row9 col11\" >0.01</td>\n",
       "                        <td id=\"T_55af4270_d87a_11ea_a141_00f48d2c948crow9_col12\" class=\"data row9 col12\" >0.01</td>\n",
       "                        <td id=\"T_55af4270_d87a_11ea_a141_00f48d2c948crow9_col13\" class=\"data row9 col13\" >-0.27</td>\n",
       "                        <td id=\"T_55af4270_d87a_11ea_a141_00f48d2c948crow9_col14\" class=\"data row9 col14\" >-0.32</td>\n",
       "            </tr>\n",
       "            <tr>\n",
       "                        <th id=\"T_55af4270_d87a_11ea_a141_00f48d2c948clevel0_row10\" class=\"row_heading level0 row10\" >DisbursementGross</th>\n",
       "                        <td id=\"T_55af4270_d87a_11ea_a141_00f48d2c948crow10_col0\" class=\"data row10 col0\" >0.07</td>\n",
       "                        <td id=\"T_55af4270_d87a_11ea_a141_00f48d2c948crow10_col1\" class=\"data row10 col1\" >-0.18</td>\n",
       "                        <td id=\"T_55af4270_d87a_11ea_a141_00f48d2c948crow10_col2\" class=\"data row10 col2\" >-0.21</td>\n",
       "                        <td id=\"T_55af4270_d87a_11ea_a141_00f48d2c948crow10_col3\" class=\"data row10 col3\" >0.41</td>\n",
       "                        <td id=\"T_55af4270_d87a_11ea_a141_00f48d2c948crow10_col4\" class=\"data row10 col4\" >0.08</td>\n",
       "                        <td id=\"T_55af4270_d87a_11ea_a141_00f48d2c948crow10_col5\" class=\"data row10 col5\" >-0.05</td>\n",
       "                        <td id=\"T_55af4270_d87a_11ea_a141_00f48d2c948crow10_col6\" class=\"data row10 col6\" >0.11</td>\n",
       "                        <td id=\"T_55af4270_d87a_11ea_a141_00f48d2c948crow10_col7\" class=\"data row10 col7\" >0.13</td>\n",
       "                        <td id=\"T_55af4270_d87a_11ea_a141_00f48d2c948crow10_col8\" class=\"data row10 col8\" >0.07</td>\n",
       "                        <td id=\"T_55af4270_d87a_11ea_a141_00f48d2c948crow10_col9\" class=\"data row10 col9\" >-0.20</td>\n",
       "                        <td id=\"T_55af4270_d87a_11ea_a141_00f48d2c948crow10_col10\" class=\"data row10 col10\" >1.00</td>\n",
       "                        <td id=\"T_55af4270_d87a_11ea_a141_00f48d2c948crow10_col11\" class=\"data row10 col11\" >0.02</td>\n",
       "                        <td id=\"T_55af4270_d87a_11ea_a141_00f48d2c948crow10_col12\" class=\"data row10 col12\" >0.26</td>\n",
       "                        <td id=\"T_55af4270_d87a_11ea_a141_00f48d2c948crow10_col13\" class=\"data row10 col13\" >0.93</td>\n",
       "                        <td id=\"T_55af4270_d87a_11ea_a141_00f48d2c948crow10_col14\" class=\"data row10 col14\" >0.89</td>\n",
       "            </tr>\n",
       "            <tr>\n",
       "                        <th id=\"T_55af4270_d87a_11ea_a141_00f48d2c948clevel0_row11\" class=\"row_heading level0 row11\" >BalanceGross</th>\n",
       "                        <td id=\"T_55af4270_d87a_11ea_a141_00f48d2c948crow11_col0\" class=\"data row11 col0\" >0.00</td>\n",
       "                        <td id=\"T_55af4270_d87a_11ea_a141_00f48d2c948crow11_col1\" class=\"data row11 col1\" >-0.00</td>\n",
       "                        <td id=\"T_55af4270_d87a_11ea_a141_00f48d2c948crow11_col2\" class=\"data row11 col2\" >0.00</td>\n",
       "                        <td id=\"T_55af4270_d87a_11ea_a141_00f48d2c948crow11_col3\" class=\"data row11 col3\" >0.00</td>\n",
       "                        <td id=\"T_55af4270_d87a_11ea_a141_00f48d2c948crow11_col4\" class=\"data row11 col4\" >-0.00</td>\n",
       "                        <td id=\"T_55af4270_d87a_11ea_a141_00f48d2c948crow11_col5\" class=\"data row11 col5\" >0.00</td>\n",
       "                        <td id=\"T_55af4270_d87a_11ea_a141_00f48d2c948crow11_col6\" class=\"data row11 col6\" >-0.00</td>\n",
       "                        <td id=\"T_55af4270_d87a_11ea_a141_00f48d2c948crow11_col7\" class=\"data row11 col7\" >-0.00</td>\n",
       "                        <td id=\"T_55af4270_d87a_11ea_a141_00f48d2c948crow11_col8\" class=\"data row11 col8\" >-0.00</td>\n",
       "                        <td id=\"T_55af4270_d87a_11ea_a141_00f48d2c948crow11_col9\" class=\"data row11 col9\" >0.01</td>\n",
       "                        <td id=\"T_55af4270_d87a_11ea_a141_00f48d2c948crow11_col10\" class=\"data row11 col10\" >0.02</td>\n",
       "                        <td id=\"T_55af4270_d87a_11ea_a141_00f48d2c948crow11_col11\" class=\"data row11 col11\" >1.00</td>\n",
       "                        <td id=\"T_55af4270_d87a_11ea_a141_00f48d2c948crow11_col12\" class=\"data row11 col12\" >-0.00</td>\n",
       "                        <td id=\"T_55af4270_d87a_11ea_a141_00f48d2c948crow11_col13\" class=\"data row11 col13\" >0.02</td>\n",
       "                        <td id=\"T_55af4270_d87a_11ea_a141_00f48d2c948crow11_col14\" class=\"data row11 col14\" >0.02</td>\n",
       "            </tr>\n",
       "            <tr>\n",
       "                        <th id=\"T_55af4270_d87a_11ea_a141_00f48d2c948clevel0_row12\" class=\"row_heading level0 row12\" >ChgOffPrinGr</th>\n",
       "                        <td id=\"T_55af4270_d87a_11ea_a141_00f48d2c948crow12_col0\" class=\"data row12 col0\" >0.03</td>\n",
       "                        <td id=\"T_55af4270_d87a_11ea_a141_00f48d2c948crow12_col1\" class=\"data row12 col1\" >-0.01</td>\n",
       "                        <td id=\"T_55af4270_d87a_11ea_a141_00f48d2c948crow12_col2\" class=\"data row12 col2\" >-0.05</td>\n",
       "                        <td id=\"T_55af4270_d87a_11ea_a141_00f48d2c948crow12_col3\" class=\"data row12 col3\" >-0.07</td>\n",
       "                        <td id=\"T_55af4270_d87a_11ea_a141_00f48d2c948crow12_col4\" class=\"data row12 col4\" >0.01</td>\n",
       "                        <td id=\"T_55af4270_d87a_11ea_a141_00f48d2c948crow12_col5\" class=\"data row12 col5\" >-0.00</td>\n",
       "                        <td id=\"T_55af4270_d87a_11ea_a141_00f48d2c948crow12_col6\" class=\"data row12 col6\" >0.04</td>\n",
       "                        <td id=\"T_55af4270_d87a_11ea_a141_00f48d2c948crow12_col7\" class=\"data row12 col7\" >0.03</td>\n",
       "                        <td id=\"T_55af4270_d87a_11ea_a141_00f48d2c948crow12_col8\" class=\"data row12 col8\" >0.00</td>\n",
       "                        <td id=\"T_55af4270_d87a_11ea_a141_00f48d2c948crow12_col9\" class=\"data row12 col9\" >0.01</td>\n",
       "                        <td id=\"T_55af4270_d87a_11ea_a141_00f48d2c948crow12_col10\" class=\"data row12 col10\" >0.26</td>\n",
       "                        <td id=\"T_55af4270_d87a_11ea_a141_00f48d2c948crow12_col11\" class=\"data row12 col11\" >-0.00</td>\n",
       "                        <td id=\"T_55af4270_d87a_11ea_a141_00f48d2c948crow12_col12\" class=\"data row12 col12\" >1.00</td>\n",
       "                        <td id=\"T_55af4270_d87a_11ea_a141_00f48d2c948crow12_col13\" class=\"data row12 col13\" >0.26</td>\n",
       "                        <td id=\"T_55af4270_d87a_11ea_a141_00f48d2c948crow12_col14\" class=\"data row12 col14\" >0.24</td>\n",
       "            </tr>\n",
       "            <tr>\n",
       "                        <th id=\"T_55af4270_d87a_11ea_a141_00f48d2c948clevel0_row13\" class=\"row_heading level0 row13\" >GrAppv</th>\n",
       "                        <td id=\"T_55af4270_d87a_11ea_a141_00f48d2c948crow13_col0\" class=\"data row13 col0\" >0.06</td>\n",
       "                        <td id=\"T_55af4270_d87a_11ea_a141_00f48d2c948crow13_col1\" class=\"data row13 col1\" >-0.21</td>\n",
       "                        <td id=\"T_55af4270_d87a_11ea_a141_00f48d2c948crow13_col2\" class=\"data row13 col2\" >-0.28</td>\n",
       "                        <td id=\"T_55af4270_d87a_11ea_a141_00f48d2c948crow13_col3\" class=\"data row13 col3\" >0.48</td>\n",
       "                        <td id=\"T_55af4270_d87a_11ea_a141_00f48d2c948crow13_col4\" class=\"data row13 col4\" >0.08</td>\n",
       "                        <td id=\"T_55af4270_d87a_11ea_a141_00f48d2c948crow13_col5\" class=\"data row13 col5\" >-0.03</td>\n",
       "                        <td id=\"T_55af4270_d87a_11ea_a141_00f48d2c948crow13_col6\" class=\"data row13 col6\" >0.11</td>\n",
       "                        <td id=\"T_55af4270_d87a_11ea_a141_00f48d2c948crow13_col7\" class=\"data row13 col7\" >0.10</td>\n",
       "                        <td id=\"T_55af4270_d87a_11ea_a141_00f48d2c948crow13_col8\" class=\"data row13 col8\" >0.08</td>\n",
       "                        <td id=\"T_55af4270_d87a_11ea_a141_00f48d2c948crow13_col9\" class=\"data row13 col9\" >-0.27</td>\n",
       "                        <td id=\"T_55af4270_d87a_11ea_a141_00f48d2c948crow13_col10\" class=\"data row13 col10\" >0.93</td>\n",
       "                        <td id=\"T_55af4270_d87a_11ea_a141_00f48d2c948crow13_col11\" class=\"data row13 col11\" >0.02</td>\n",
       "                        <td id=\"T_55af4270_d87a_11ea_a141_00f48d2c948crow13_col12\" class=\"data row13 col12\" >0.26</td>\n",
       "                        <td id=\"T_55af4270_d87a_11ea_a141_00f48d2c948crow13_col13\" class=\"data row13 col13\" >1.00</td>\n",
       "                        <td id=\"T_55af4270_d87a_11ea_a141_00f48d2c948crow13_col14\" class=\"data row13 col14\" >0.97</td>\n",
       "            </tr>\n",
       "            <tr>\n",
       "                        <th id=\"T_55af4270_d87a_11ea_a141_00f48d2c948clevel0_row14\" class=\"row_heading level0 row14\" >SBA_Appv</th>\n",
       "                        <td id=\"T_55af4270_d87a_11ea_a141_00f48d2c948crow14_col0\" class=\"data row14 col0\" >0.08</td>\n",
       "                        <td id=\"T_55af4270_d87a_11ea_a141_00f48d2c948crow14_col1\" class=\"data row14 col1\" >-0.26</td>\n",
       "                        <td id=\"T_55af4270_d87a_11ea_a141_00f48d2c948crow14_col2\" class=\"data row14 col2\" >-0.35</td>\n",
       "                        <td id=\"T_55af4270_d87a_11ea_a141_00f48d2c948crow14_col3\" class=\"data row14 col3\" >0.54</td>\n",
       "                        <td id=\"T_55af4270_d87a_11ea_a141_00f48d2c948crow14_col4\" class=\"data row14 col4\" >0.09</td>\n",
       "                        <td id=\"T_55af4270_d87a_11ea_a141_00f48d2c948crow14_col5\" class=\"data row14 col5\" >-0.03</td>\n",
       "                        <td id=\"T_55af4270_d87a_11ea_a141_00f48d2c948crow14_col6\" class=\"data row14 col6\" >0.14</td>\n",
       "                        <td id=\"T_55af4270_d87a_11ea_a141_00f48d2c948crow14_col7\" class=\"data row14 col7\" >0.10</td>\n",
       "                        <td id=\"T_55af4270_d87a_11ea_a141_00f48d2c948crow14_col8\" class=\"data row14 col8\" >0.09</td>\n",
       "                        <td id=\"T_55af4270_d87a_11ea_a141_00f48d2c948crow14_col9\" class=\"data row14 col9\" >-0.32</td>\n",
       "                        <td id=\"T_55af4270_d87a_11ea_a141_00f48d2c948crow14_col10\" class=\"data row14 col10\" >0.89</td>\n",
       "                        <td id=\"T_55af4270_d87a_11ea_a141_00f48d2c948crow14_col11\" class=\"data row14 col11\" >0.02</td>\n",
       "                        <td id=\"T_55af4270_d87a_11ea_a141_00f48d2c948crow14_col12\" class=\"data row14 col12\" >0.24</td>\n",
       "                        <td id=\"T_55af4270_d87a_11ea_a141_00f48d2c948crow14_col13\" class=\"data row14 col13\" >0.97</td>\n",
       "                        <td id=\"T_55af4270_d87a_11ea_a141_00f48d2c948crow14_col14\" class=\"data row14 col14\" >1.00</td>\n",
       "            </tr>\n",
       "    </tbody></table>"
      ],
      "text/plain": [
       "<pandas.io.formats.style.Styler at 0x27bf042f348>"
      ]
     },
     "execution_count": 288,
     "metadata": {},
     "output_type": "execute_result"
    }
   ],
   "source": [
    "corr.style.background_gradient(cmap='coolwarm').set_precision(2)"
   ]
  },
  {
   "cell_type": "markdown",
   "metadata": {
    "colab_type": "text",
    "id": "Whmtr7DjX3Yi"
   },
   "source": [
    "#ApprovalFY and UrbanRural 0.72\n",
    "#Term and SBA_Appv 0.54\n",
    "#ApprovalFY and CCSC 0.59\n",
    "#UrbanRural\tand CCSC 0.49\n",
    "#DisbursementGross AND SBA_Appv 0.89\n",
    "#DisbursementGross AND GrAppv 0.93\n",
    "#SBA_Appv AND GrAppv  0.97\n",
    "\n"
   ]
  },
  {
   "cell_type": "code",
   "execution_count": 289,
   "metadata": {},
   "outputs": [],
   "source": [
    "drp=['DisbursementGross','GrAppv','UrbanRural']\n",
    "df.drop(drp,inplace=True,axis=1)\n"
   ]
  },
  {
   "cell_type": "code",
   "execution_count": 290,
   "metadata": {},
   "outputs": [
    {
     "data": {
      "text/plain": [
       "Index(['City', 'State', 'Zip', 'Bank', 'BankState', 'CCSC', 'ApprovalDate',\n",
       "       'Term', 'NoEmp', 'NewExist', 'CreateJob', 'RetainedJob',\n",
       "       'FranchiseCode', 'RevLineCr', 'LowDoc', 'DisbursementDate',\n",
       "       'BalanceGross', 'MIS_Status', 'ChgOffPrinGr', 'SBA_Appv'],\n",
       "      dtype='object')"
      ]
     },
     "execution_count": 290,
     "metadata": {},
     "output_type": "execute_result"
    }
   ],
   "source": [
    "dr=['ApprovalFY']\n",
    "df.drop(dr,inplace=True,axis=1)\n",
    "df.columns"
   ]
  },
  {
   "cell_type": "code",
   "execution_count": 291,
   "metadata": {},
   "outputs": [
    {
     "data": {
      "text/plain": [
       "(120262, 20)"
      ]
     },
     "execution_count": 291,
     "metadata": {},
     "output_type": "execute_result"
    }
   ],
   "source": [
    "df.shape"
   ]
  },
  {
   "cell_type": "code",
   "execution_count": 292,
   "metadata": {},
   "outputs": [],
   "source": [
    "corri=df.corr(method='pearson')"
   ]
  },
  {
   "cell_type": "code",
   "execution_count": 293,
   "metadata": {},
   "outputs": [
    {
     "data": {
      "text/html": [
       "<style  type=\"text/css\" >\n",
       "    #T_562bec90_d87a_11ea_a5a2_00f48d2c948crow0_col0 {\n",
       "            background-color:  #b40426;\n",
       "            color:  #f1f1f1;\n",
       "        }    #T_562bec90_d87a_11ea_a5a2_00f48d2c948crow0_col1 {\n",
       "            background-color:  #7295f4;\n",
       "            color:  #000000;\n",
       "        }    #T_562bec90_d87a_11ea_a5a2_00f48d2c948crow0_col2 {\n",
       "            background-color:  #9fbfff;\n",
       "            color:  #000000;\n",
       "        }    #T_562bec90_d87a_11ea_a5a2_00f48d2c948crow0_col3 {\n",
       "            background-color:  #4c66d6;\n",
       "            color:  #000000;\n",
       "        }    #T_562bec90_d87a_11ea_a5a2_00f48d2c948crow0_col4 {\n",
       "            background-color:  #4055c8;\n",
       "            color:  #f1f1f1;\n",
       "        }    #T_562bec90_d87a_11ea_a5a2_00f48d2c948crow0_col5 {\n",
       "            background-color:  #3f53c6;\n",
       "            color:  #f1f1f1;\n",
       "        }    #T_562bec90_d87a_11ea_a5a2_00f48d2c948crow0_col6 {\n",
       "            background-color:  #5470de;\n",
       "            color:  #000000;\n",
       "        }    #T_562bec90_d87a_11ea_a5a2_00f48d2c948crow0_col7 {\n",
       "            background-color:  #4961d2;\n",
       "            color:  #f1f1f1;\n",
       "        }    #T_562bec90_d87a_11ea_a5a2_00f48d2c948crow0_col8 {\n",
       "            background-color:  #3c4ec2;\n",
       "            color:  #f1f1f1;\n",
       "        }    #T_562bec90_d87a_11ea_a5a2_00f48d2c948crow0_col9 {\n",
       "            background-color:  #5875e1;\n",
       "            color:  #000000;\n",
       "        }    #T_562bec90_d87a_11ea_a5a2_00f48d2c948crow0_col10 {\n",
       "            background-color:  #92b4fe;\n",
       "            color:  #000000;\n",
       "        }    #T_562bec90_d87a_11ea_a5a2_00f48d2c948crow1_col0 {\n",
       "            background-color:  #3c4ec2;\n",
       "            color:  #f1f1f1;\n",
       "        }    #T_562bec90_d87a_11ea_a5a2_00f48d2c948crow1_col1 {\n",
       "            background-color:  #b40426;\n",
       "            color:  #f1f1f1;\n",
       "        }    #T_562bec90_d87a_11ea_a5a2_00f48d2c948crow1_col2 {\n",
       "            background-color:  #3b4cc0;\n",
       "            color:  #f1f1f1;\n",
       "        }    #T_562bec90_d87a_11ea_a5a2_00f48d2c948crow1_col3 {\n",
       "            background-color:  #3b4cc0;\n",
       "            color:  #f1f1f1;\n",
       "        }    #T_562bec90_d87a_11ea_a5a2_00f48d2c948crow1_col4 {\n",
       "            background-color:  #6180e9;\n",
       "            color:  #000000;\n",
       "        }    #T_562bec90_d87a_11ea_a5a2_00f48d2c948crow1_col5 {\n",
       "            background-color:  #3c4ec2;\n",
       "            color:  #f1f1f1;\n",
       "        }    #T_562bec90_d87a_11ea_a5a2_00f48d2c948crow1_col6 {\n",
       "            background-color:  #7396f5;\n",
       "            color:  #000000;\n",
       "        }    #T_562bec90_d87a_11ea_a5a2_00f48d2c948crow1_col7 {\n",
       "            background-color:  #3b4cc0;\n",
       "            color:  #f1f1f1;\n",
       "        }    #T_562bec90_d87a_11ea_a5a2_00f48d2c948crow1_col8 {\n",
       "            background-color:  #3b4cc0;\n",
       "            color:  #f1f1f1;\n",
       "        }    #T_562bec90_d87a_11ea_a5a2_00f48d2c948crow1_col9 {\n",
       "            background-color:  #4c66d6;\n",
       "            color:  #000000;\n",
       "        }    #T_562bec90_d87a_11ea_a5a2_00f48d2c948crow1_col10 {\n",
       "            background-color:  #3b4cc0;\n",
       "            color:  #f1f1f1;\n",
       "        }    #T_562bec90_d87a_11ea_a5a2_00f48d2c948crow2_col0 {\n",
       "            background-color:  #6c8ff1;\n",
       "            color:  #000000;\n",
       "        }    #T_562bec90_d87a_11ea_a5a2_00f48d2c948crow2_col1 {\n",
       "            background-color:  #3b4cc0;\n",
       "            color:  #f1f1f1;\n",
       "        }    #T_562bec90_d87a_11ea_a5a2_00f48d2c948crow2_col2 {\n",
       "            background-color:  #b40426;\n",
       "            color:  #f1f1f1;\n",
       "        }    #T_562bec90_d87a_11ea_a5a2_00f48d2c948crow2_col3 {\n",
       "            background-color:  #5b7ae5;\n",
       "            color:  #000000;\n",
       "        }    #T_562bec90_d87a_11ea_a5a2_00f48d2c948crow2_col4 {\n",
       "            background-color:  #4e68d8;\n",
       "            color:  #000000;\n",
       "        }    #T_562bec90_d87a_11ea_a5a2_00f48d2c948crow2_col5 {\n",
       "            background-color:  #506bda;\n",
       "            color:  #000000;\n",
       "        }    #T_562bec90_d87a_11ea_a5a2_00f48d2c948crow2_col6 {\n",
       "            background-color:  #5572df;\n",
       "            color:  #000000;\n",
       "        }    #T_562bec90_d87a_11ea_a5a2_00f48d2c948crow2_col7 {\n",
       "            background-color:  #5977e3;\n",
       "            color:  #000000;\n",
       "        }    #T_562bec90_d87a_11ea_a5a2_00f48d2c948crow2_col8 {\n",
       "            background-color:  #3c4ec2;\n",
       "            color:  #f1f1f1;\n",
       "        }    #T_562bec90_d87a_11ea_a5a2_00f48d2c948crow2_col9 {\n",
       "            background-color:  #3b4cc0;\n",
       "            color:  #f1f1f1;\n",
       "        }    #T_562bec90_d87a_11ea_a5a2_00f48d2c948crow2_col10 {\n",
       "            background-color:  #f5c1a9;\n",
       "            color:  #000000;\n",
       "        }    #T_562bec90_d87a_11ea_a5a2_00f48d2c948crow3_col0 {\n",
       "            background-color:  #536edd;\n",
       "            color:  #000000;\n",
       "        }    #T_562bec90_d87a_11ea_a5a2_00f48d2c948crow3_col1 {\n",
       "            background-color:  #7699f6;\n",
       "            color:  #000000;\n",
       "        }    #T_562bec90_d87a_11ea_a5a2_00f48d2c948crow3_col2 {\n",
       "            background-color:  #94b6ff;\n",
       "            color:  #000000;\n",
       "        }    #T_562bec90_d87a_11ea_a5a2_00f48d2c948crow3_col3 {\n",
       "            background-color:  #b40426;\n",
       "            color:  #f1f1f1;\n",
       "        }    #T_562bec90_d87a_11ea_a5a2_00f48d2c948crow3_col4 {\n",
       "            background-color:  #4c66d6;\n",
       "            color:  #000000;\n",
       "        }    #T_562bec90_d87a_11ea_a5a2_00f48d2c948crow3_col5 {\n",
       "            background-color:  #4257c9;\n",
       "            color:  #f1f1f1;\n",
       "        }    #T_562bec90_d87a_11ea_a5a2_00f48d2c948crow3_col6 {\n",
       "            background-color:  #7699f6;\n",
       "            color:  #000000;\n",
       "        }    #T_562bec90_d87a_11ea_a5a2_00f48d2c948crow3_col7 {\n",
       "            background-color:  #4961d2;\n",
       "            color:  #f1f1f1;\n",
       "        }    #T_562bec90_d87a_11ea_a5a2_00f48d2c948crow3_col8 {\n",
       "            background-color:  #3b4cc0;\n",
       "            color:  #f1f1f1;\n",
       "        }    #T_562bec90_d87a_11ea_a5a2_00f48d2c948crow3_col9 {\n",
       "            background-color:  #506bda;\n",
       "            color:  #000000;\n",
       "        }    #T_562bec90_d87a_11ea_a5a2_00f48d2c948crow3_col10 {\n",
       "            background-color:  #96b7ff;\n",
       "            color:  #000000;\n",
       "        }    #T_562bec90_d87a_11ea_a5a2_00f48d2c948crow4_col0 {\n",
       "            background-color:  #3b4cc0;\n",
       "            color:  #f1f1f1;\n",
       "        }    #T_562bec90_d87a_11ea_a5a2_00f48d2c948crow4_col1 {\n",
       "            background-color:  #8fb1fe;\n",
       "            color:  #000000;\n",
       "        }    #T_562bec90_d87a_11ea_a5a2_00f48d2c948crow4_col2 {\n",
       "            background-color:  #7da0f9;\n",
       "            color:  #000000;\n",
       "        }    #T_562bec90_d87a_11ea_a5a2_00f48d2c948crow4_col3 {\n",
       "            background-color:  #4055c8;\n",
       "            color:  #f1f1f1;\n",
       "        }    #T_562bec90_d87a_11ea_a5a2_00f48d2c948crow4_col4 {\n",
       "            background-color:  #b40426;\n",
       "            color:  #f1f1f1;\n",
       "        }    #T_562bec90_d87a_11ea_a5a2_00f48d2c948crow4_col5 {\n",
       "            background-color:  #3e51c5;\n",
       "            color:  #f1f1f1;\n",
       "        }    #T_562bec90_d87a_11ea_a5a2_00f48d2c948crow4_col6 {\n",
       "            background-color:  #3b4cc0;\n",
       "            color:  #f1f1f1;\n",
       "        }    #T_562bec90_d87a_11ea_a5a2_00f48d2c948crow4_col7 {\n",
       "            background-color:  #5a78e4;\n",
       "            color:  #000000;\n",
       "        }    #T_562bec90_d87a_11ea_a5a2_00f48d2c948crow4_col8 {\n",
       "            background-color:  #3c4ec2;\n",
       "            color:  #f1f1f1;\n",
       "        }    #T_562bec90_d87a_11ea_a5a2_00f48d2c948crow4_col9 {\n",
       "            background-color:  #4e68d8;\n",
       "            color:  #000000;\n",
       "        }    #T_562bec90_d87a_11ea_a5a2_00f48d2c948crow4_col10 {\n",
       "            background-color:  #7597f6;\n",
       "            color:  #000000;\n",
       "        }    #T_562bec90_d87a_11ea_a5a2_00f48d2c948crow5_col0 {\n",
       "            background-color:  #536edd;\n",
       "            color:  #000000;\n",
       "        }    #T_562bec90_d87a_11ea_a5a2_00f48d2c948crow5_col1 {\n",
       "            background-color:  #85a8fc;\n",
       "            color:  #000000;\n",
       "        }    #T_562bec90_d87a_11ea_a5a2_00f48d2c948crow5_col2 {\n",
       "            background-color:  #97b8ff;\n",
       "            color:  #000000;\n",
       "        }    #T_562bec90_d87a_11ea_a5a2_00f48d2c948crow5_col3 {\n",
       "            background-color:  #506bda;\n",
       "            color:  #000000;\n",
       "        }    #T_562bec90_d87a_11ea_a5a2_00f48d2c948crow5_col4 {\n",
       "            background-color:  #5875e1;\n",
       "            color:  #000000;\n",
       "        }    #T_562bec90_d87a_11ea_a5a2_00f48d2c948crow5_col5 {\n",
       "            background-color:  #b40426;\n",
       "            color:  #f1f1f1;\n",
       "        }    #T_562bec90_d87a_11ea_a5a2_00f48d2c948crow5_col6 {\n",
       "            background-color:  #7da0f9;\n",
       "            color:  #000000;\n",
       "        }    #T_562bec90_d87a_11ea_a5a2_00f48d2c948crow5_col7 {\n",
       "            background-color:  #4961d2;\n",
       "            color:  #f1f1f1;\n",
       "        }    #T_562bec90_d87a_11ea_a5a2_00f48d2c948crow5_col8 {\n",
       "            background-color:  #3b4cc0;\n",
       "            color:  #f1f1f1;\n",
       "        }    #T_562bec90_d87a_11ea_a5a2_00f48d2c948crow5_col9 {\n",
       "            background-color:  #5a78e4;\n",
       "            color:  #000000;\n",
       "        }    #T_562bec90_d87a_11ea_a5a2_00f48d2c948crow5_col10 {\n",
       "            background-color:  #a2c1ff;\n",
       "            color:  #000000;\n",
       "        }    #T_562bec90_d87a_11ea_a5a2_00f48d2c948crow6_col0 {\n",
       "            background-color:  #4e68d8;\n",
       "            color:  #000000;\n",
       "        }    #T_562bec90_d87a_11ea_a5a2_00f48d2c948crow6_col1 {\n",
       "            background-color:  #9fbfff;\n",
       "            color:  #000000;\n",
       "        }    #T_562bec90_d87a_11ea_a5a2_00f48d2c948crow6_col2 {\n",
       "            background-color:  #84a7fc;\n",
       "            color:  #000000;\n",
       "        }    #T_562bec90_d87a_11ea_a5a2_00f48d2c948crow6_col3 {\n",
       "            background-color:  #6b8df0;\n",
       "            color:  #000000;\n",
       "        }    #T_562bec90_d87a_11ea_a5a2_00f48d2c948crow6_col4 {\n",
       "            background-color:  #3b4cc0;\n",
       "            color:  #f1f1f1;\n",
       "        }    #T_562bec90_d87a_11ea_a5a2_00f48d2c948crow6_col5 {\n",
       "            background-color:  #6485ec;\n",
       "            color:  #000000;\n",
       "        }    #T_562bec90_d87a_11ea_a5a2_00f48d2c948crow6_col6 {\n",
       "            background-color:  #b40426;\n",
       "            color:  #f1f1f1;\n",
       "        }    #T_562bec90_d87a_11ea_a5a2_00f48d2c948crow6_col7 {\n",
       "            background-color:  #465ecf;\n",
       "            color:  #f1f1f1;\n",
       "        }    #T_562bec90_d87a_11ea_a5a2_00f48d2c948crow6_col8 {\n",
       "            background-color:  #3b4cc0;\n",
       "            color:  #f1f1f1;\n",
       "        }    #T_562bec90_d87a_11ea_a5a2_00f48d2c948crow6_col9 {\n",
       "            background-color:  #5875e1;\n",
       "            color:  #000000;\n",
       "        }    #T_562bec90_d87a_11ea_a5a2_00f48d2c948crow6_col10 {\n",
       "            background-color:  #97b8ff;\n",
       "            color:  #000000;\n",
       "        }    #T_562bec90_d87a_11ea_a5a2_00f48d2c948crow7_col0 {\n",
       "            background-color:  #506bda;\n",
       "            color:  #000000;\n",
       "        }    #T_562bec90_d87a_11ea_a5a2_00f48d2c948crow7_col1 {\n",
       "            background-color:  #799cf8;\n",
       "            color:  #000000;\n",
       "        }    #T_562bec90_d87a_11ea_a5a2_00f48d2c948crow7_col2 {\n",
       "            background-color:  #94b6ff;\n",
       "            color:  #000000;\n",
       "        }    #T_562bec90_d87a_11ea_a5a2_00f48d2c948crow7_col3 {\n",
       "            background-color:  #4b64d5;\n",
       "            color:  #f1f1f1;\n",
       "        }    #T_562bec90_d87a_11ea_a5a2_00f48d2c948crow7_col4 {\n",
       "            background-color:  #688aef;\n",
       "            color:  #000000;\n",
       "        }    #T_562bec90_d87a_11ea_a5a2_00f48d2c948crow7_col5 {\n",
       "            background-color:  #3d50c3;\n",
       "            color:  #f1f1f1;\n",
       "        }    #T_562bec90_d87a_11ea_a5a2_00f48d2c948crow7_col6 {\n",
       "            background-color:  #5470de;\n",
       "            color:  #000000;\n",
       "        }    #T_562bec90_d87a_11ea_a5a2_00f48d2c948crow7_col7 {\n",
       "            background-color:  #b40426;\n",
       "            color:  #f1f1f1;\n",
       "        }    #T_562bec90_d87a_11ea_a5a2_00f48d2c948crow7_col8 {\n",
       "            background-color:  #3b4cc0;\n",
       "            color:  #f1f1f1;\n",
       "        }    #T_562bec90_d87a_11ea_a5a2_00f48d2c948crow7_col9 {\n",
       "            background-color:  #4f69d9;\n",
       "            color:  #000000;\n",
       "        }    #T_562bec90_d87a_11ea_a5a2_00f48d2c948crow7_col10 {\n",
       "            background-color:  #94b6ff;\n",
       "            color:  #000000;\n",
       "        }    #T_562bec90_d87a_11ea_a5a2_00f48d2c948crow8_col0 {\n",
       "            background-color:  #4f69d9;\n",
       "            color:  #000000;\n",
       "        }    #T_562bec90_d87a_11ea_a5a2_00f48d2c948crow8_col1 {\n",
       "            background-color:  #82a6fb;\n",
       "            color:  #000000;\n",
       "        }    #T_562bec90_d87a_11ea_a5a2_00f48d2c948crow8_col2 {\n",
       "            background-color:  #84a7fc;\n",
       "            color:  #000000;\n",
       "        }    #T_562bec90_d87a_11ea_a5a2_00f48d2c948crow8_col3 {\n",
       "            background-color:  #4961d2;\n",
       "            color:  #f1f1f1;\n",
       "        }    #T_562bec90_d87a_11ea_a5a2_00f48d2c948crow8_col4 {\n",
       "            background-color:  #5572df;\n",
       "            color:  #000000;\n",
       "        }    #T_562bec90_d87a_11ea_a5a2_00f48d2c948crow8_col5 {\n",
       "            background-color:  #3b4cc0;\n",
       "            color:  #f1f1f1;\n",
       "        }    #T_562bec90_d87a_11ea_a5a2_00f48d2c948crow8_col6 {\n",
       "            background-color:  #5470de;\n",
       "            color:  #000000;\n",
       "        }    #T_562bec90_d87a_11ea_a5a2_00f48d2c948crow8_col7 {\n",
       "            background-color:  #465ecf;\n",
       "            color:  #f1f1f1;\n",
       "        }    #T_562bec90_d87a_11ea_a5a2_00f48d2c948crow8_col8 {\n",
       "            background-color:  #b40426;\n",
       "            color:  #f1f1f1;\n",
       "        }    #T_562bec90_d87a_11ea_a5a2_00f48d2c948crow8_col9 {\n",
       "            background-color:  #4e68d8;\n",
       "            color:  #000000;\n",
       "        }    #T_562bec90_d87a_11ea_a5a2_00f48d2c948crow8_col10 {\n",
       "            background-color:  #81a4fb;\n",
       "            color:  #000000;\n",
       "        }    #T_562bec90_d87a_11ea_a5a2_00f48d2c948crow9_col0 {\n",
       "            background-color:  #5875e1;\n",
       "            color:  #000000;\n",
       "        }    #T_562bec90_d87a_11ea_a5a2_00f48d2c948crow9_col1 {\n",
       "            background-color:  #81a4fb;\n",
       "            color:  #000000;\n",
       "        }    #T_562bec90_d87a_11ea_a5a2_00f48d2c948crow9_col2 {\n",
       "            background-color:  #7093f3;\n",
       "            color:  #000000;\n",
       "        }    #T_562bec90_d87a_11ea_a5a2_00f48d2c948crow9_col3 {\n",
       "            background-color:  #4a63d3;\n",
       "            color:  #f1f1f1;\n",
       "        }    #T_562bec90_d87a_11ea_a5a2_00f48d2c948crow9_col4 {\n",
       "            background-color:  #5470de;\n",
       "            color:  #000000;\n",
       "        }    #T_562bec90_d87a_11ea_a5a2_00f48d2c948crow9_col5 {\n",
       "            background-color:  #455cce;\n",
       "            color:  #f1f1f1;\n",
       "        }    #T_562bec90_d87a_11ea_a5a2_00f48d2c948crow9_col6 {\n",
       "            background-color:  #5e7de7;\n",
       "            color:  #000000;\n",
       "        }    #T_562bec90_d87a_11ea_a5a2_00f48d2c948crow9_col7 {\n",
       "            background-color:  #485fd1;\n",
       "            color:  #f1f1f1;\n",
       "        }    #T_562bec90_d87a_11ea_a5a2_00f48d2c948crow9_col8 {\n",
       "            background-color:  #3b4cc0;\n",
       "            color:  #f1f1f1;\n",
       "        }    #T_562bec90_d87a_11ea_a5a2_00f48d2c948crow9_col9 {\n",
       "            background-color:  #b40426;\n",
       "            color:  #f1f1f1;\n",
       "        }    #T_562bec90_d87a_11ea_a5a2_00f48d2c948crow9_col10 {\n",
       "            background-color:  #bfd3f6;\n",
       "            color:  #000000;\n",
       "        }    #T_562bec90_d87a_11ea_a5a2_00f48d2c948crow10_col0 {\n",
       "            background-color:  #6687ed;\n",
       "            color:  #000000;\n",
       "        }    #T_562bec90_d87a_11ea_a5a2_00f48d2c948crow10_col1 {\n",
       "            background-color:  #4257c9;\n",
       "            color:  #f1f1f1;\n",
       "        }    #T_562bec90_d87a_11ea_a5a2_00f48d2c948crow10_col2 {\n",
       "            background-color:  #f6bfa6;\n",
       "            color:  #000000;\n",
       "        }    #T_562bec90_d87a_11ea_a5a2_00f48d2c948crow10_col3 {\n",
       "            background-color:  #6384eb;\n",
       "            color:  #000000;\n",
       "        }    #T_562bec90_d87a_11ea_a5a2_00f48d2c948crow10_col4 {\n",
       "            background-color:  #4c66d6;\n",
       "            color:  #000000;\n",
       "        }    #T_562bec90_d87a_11ea_a5a2_00f48d2c948crow10_col5 {\n",
       "            background-color:  #6485ec;\n",
       "            color:  #000000;\n",
       "        }    #T_562bec90_d87a_11ea_a5a2_00f48d2c948crow10_col6 {\n",
       "            background-color:  #7295f4;\n",
       "            color:  #000000;\n",
       "        }    #T_562bec90_d87a_11ea_a5a2_00f48d2c948crow10_col7 {\n",
       "            background-color:  #6180e9;\n",
       "            color:  #000000;\n",
       "        }    #T_562bec90_d87a_11ea_a5a2_00f48d2c948crow10_col8 {\n",
       "            background-color:  #3f53c6;\n",
       "            color:  #f1f1f1;\n",
       "        }    #T_562bec90_d87a_11ea_a5a2_00f48d2c948crow10_col9 {\n",
       "            background-color:  #9bbcff;\n",
       "            color:  #000000;\n",
       "        }    #T_562bec90_d87a_11ea_a5a2_00f48d2c948crow10_col10 {\n",
       "            background-color:  #b40426;\n",
       "            color:  #f1f1f1;\n",
       "        }</style><table id=\"T_562bec90_d87a_11ea_a5a2_00f48d2c948c\" ><thead>    <tr>        <th class=\"blank level0\" ></th>        <th class=\"col_heading level0 col0\" >Zip</th>        <th class=\"col_heading level0 col1\" >CCSC</th>        <th class=\"col_heading level0 col2\" >Term</th>        <th class=\"col_heading level0 col3\" >NoEmp</th>        <th class=\"col_heading level0 col4\" >NewExist</th>        <th class=\"col_heading level0 col5\" >CreateJob</th>        <th class=\"col_heading level0 col6\" >RetainedJob</th>        <th class=\"col_heading level0 col7\" >FranchiseCode</th>        <th class=\"col_heading level0 col8\" >BalanceGross</th>        <th class=\"col_heading level0 col9\" >ChgOffPrinGr</th>        <th class=\"col_heading level0 col10\" >SBA_Appv</th>    </tr></thead><tbody>\n",
       "                <tr>\n",
       "                        <th id=\"T_562bec90_d87a_11ea_a5a2_00f48d2c948clevel0_row0\" class=\"row_heading level0 row0\" >Zip</th>\n",
       "                        <td id=\"T_562bec90_d87a_11ea_a5a2_00f48d2c948crow0_col0\" class=\"data row0 col0\" >1.00</td>\n",
       "                        <td id=\"T_562bec90_d87a_11ea_a5a2_00f48d2c948crow0_col1\" class=\"data row0 col1\" >-0.07</td>\n",
       "                        <td id=\"T_562bec90_d87a_11ea_a5a2_00f48d2c948crow0_col2\" class=\"data row0 col2\" >0.10</td>\n",
       "                        <td id=\"T_562bec90_d87a_11ea_a5a2_00f48d2c948crow0_col3\" class=\"data row0 col3\" >0.01</td>\n",
       "                        <td id=\"T_562bec90_d87a_11ea_a5a2_00f48d2c948crow0_col4\" class=\"data row0 col4\" >-0.07</td>\n",
       "                        <td id=\"T_562bec90_d87a_11ea_a5a2_00f48d2c948crow0_col5\" class=\"data row0 col5\" >0.02</td>\n",
       "                        <td id=\"T_562bec90_d87a_11ea_a5a2_00f48d2c948crow0_col6\" class=\"data row0 col6\" >-0.00</td>\n",
       "                        <td id=\"T_562bec90_d87a_11ea_a5a2_00f48d2c948crow0_col7\" class=\"data row0 col7\" >0.01</td>\n",
       "                        <td id=\"T_562bec90_d87a_11ea_a5a2_00f48d2c948crow0_col8\" class=\"data row0 col8\" >0.00</td>\n",
       "                        <td id=\"T_562bec90_d87a_11ea_a5a2_00f48d2c948crow0_col9\" class=\"data row0 col9\" >0.03</td>\n",
       "                        <td id=\"T_562bec90_d87a_11ea_a5a2_00f48d2c948crow0_col10\" class=\"data row0 col10\" >0.08</td>\n",
       "            </tr>\n",
       "            <tr>\n",
       "                        <th id=\"T_562bec90_d87a_11ea_a5a2_00f48d2c948clevel0_row1\" class=\"row_heading level0 row1\" >CCSC</th>\n",
       "                        <td id=\"T_562bec90_d87a_11ea_a5a2_00f48d2c948crow1_col0\" class=\"data row1 col0\" >-0.07</td>\n",
       "                        <td id=\"T_562bec90_d87a_11ea_a5a2_00f48d2c948crow1_col1\" class=\"data row1 col1\" >1.00</td>\n",
       "                        <td id=\"T_562bec90_d87a_11ea_a5a2_00f48d2c948crow1_col2\" class=\"data row1 col2\" >-0.29</td>\n",
       "                        <td id=\"T_562bec90_d87a_11ea_a5a2_00f48d2c948crow1_col3\" class=\"data row1 col3\" >-0.05</td>\n",
       "                        <td id=\"T_562bec90_d87a_11ea_a5a2_00f48d2c948crow1_col4\" class=\"data row1 col4\" >0.04</td>\n",
       "                        <td id=\"T_562bec90_d87a_11ea_a5a2_00f48d2c948crow1_col5\" class=\"data row1 col5\" >0.01</td>\n",
       "                        <td id=\"T_562bec90_d87a_11ea_a5a2_00f48d2c948crow1_col6\" class=\"data row1 col6\" >0.10</td>\n",
       "                        <td id=\"T_562bec90_d87a_11ea_a5a2_00f48d2c948crow1_col7\" class=\"data row1 col7\" >-0.04</td>\n",
       "                        <td id=\"T_562bec90_d87a_11ea_a5a2_00f48d2c948crow1_col8\" class=\"data row1 col8\" >-0.00</td>\n",
       "                        <td id=\"T_562bec90_d87a_11ea_a5a2_00f48d2c948crow1_col9\" class=\"data row1 col9\" >-0.01</td>\n",
       "                        <td id=\"T_562bec90_d87a_11ea_a5a2_00f48d2c948crow1_col10\" class=\"data row1 col10\" >-0.26</td>\n",
       "            </tr>\n",
       "            <tr>\n",
       "                        <th id=\"T_562bec90_d87a_11ea_a5a2_00f48d2c948clevel0_row2\" class=\"row_heading level0 row2\" >Term</th>\n",
       "                        <td id=\"T_562bec90_d87a_11ea_a5a2_00f48d2c948crow2_col0\" class=\"data row2 col0\" >0.10</td>\n",
       "                        <td id=\"T_562bec90_d87a_11ea_a5a2_00f48d2c948crow2_col1\" class=\"data row2 col1\" >-0.29</td>\n",
       "                        <td id=\"T_562bec90_d87a_11ea_a5a2_00f48d2c948crow2_col2\" class=\"data row2 col2\" >1.00</td>\n",
       "                        <td id=\"T_562bec90_d87a_11ea_a5a2_00f48d2c948crow2_col3\" class=\"data row2 col3\" >0.06</td>\n",
       "                        <td id=\"T_562bec90_d87a_11ea_a5a2_00f48d2c948crow2_col4\" class=\"data row2 col4\" >-0.02</td>\n",
       "                        <td id=\"T_562bec90_d87a_11ea_a5a2_00f48d2c948crow2_col5\" class=\"data row2 col5\" >0.07</td>\n",
       "                        <td id=\"T_562bec90_d87a_11ea_a5a2_00f48d2c948crow2_col6\" class=\"data row2 col6\" >0.00</td>\n",
       "                        <td id=\"T_562bec90_d87a_11ea_a5a2_00f48d2c948crow2_col7\" class=\"data row2 col7\" >0.06</td>\n",
       "                        <td id=\"T_562bec90_d87a_11ea_a5a2_00f48d2c948crow2_col8\" class=\"data row2 col8\" >0.00</td>\n",
       "                        <td id=\"T_562bec90_d87a_11ea_a5a2_00f48d2c948crow2_col9\" class=\"data row2 col9\" >-0.07</td>\n",
       "                        <td id=\"T_562bec90_d87a_11ea_a5a2_00f48d2c948crow2_col10\" class=\"data row2 col10\" >0.54</td>\n",
       "            </tr>\n",
       "            <tr>\n",
       "                        <th id=\"T_562bec90_d87a_11ea_a5a2_00f48d2c948clevel0_row3\" class=\"row_heading level0 row3\" >NoEmp</th>\n",
       "                        <td id=\"T_562bec90_d87a_11ea_a5a2_00f48d2c948crow3_col0\" class=\"data row3 col0\" >0.01</td>\n",
       "                        <td id=\"T_562bec90_d87a_11ea_a5a2_00f48d2c948crow3_col1\" class=\"data row3 col1\" >-0.05</td>\n",
       "                        <td id=\"T_562bec90_d87a_11ea_a5a2_00f48d2c948crow3_col2\" class=\"data row3 col2\" >0.06</td>\n",
       "                        <td id=\"T_562bec90_d87a_11ea_a5a2_00f48d2c948crow3_col3\" class=\"data row3 col3\" >1.00</td>\n",
       "                        <td id=\"T_562bec90_d87a_11ea_a5a2_00f48d2c948crow3_col4\" class=\"data row3 col4\" >-0.03</td>\n",
       "                        <td id=\"T_562bec90_d87a_11ea_a5a2_00f48d2c948crow3_col5\" class=\"data row3 col5\" >0.03</td>\n",
       "                        <td id=\"T_562bec90_d87a_11ea_a5a2_00f48d2c948crow3_col6\" class=\"data row3 col6\" >0.11</td>\n",
       "                        <td id=\"T_562bec90_d87a_11ea_a5a2_00f48d2c948crow3_col7\" class=\"data row3 col7\" >0.01</td>\n",
       "                        <td id=\"T_562bec90_d87a_11ea_a5a2_00f48d2c948crow3_col8\" class=\"data row3 col8\" >-0.00</td>\n",
       "                        <td id=\"T_562bec90_d87a_11ea_a5a2_00f48d2c948crow3_col9\" class=\"data row3 col9\" >0.01</td>\n",
       "                        <td id=\"T_562bec90_d87a_11ea_a5a2_00f48d2c948crow3_col10\" class=\"data row3 col10\" >0.09</td>\n",
       "            </tr>\n",
       "            <tr>\n",
       "                        <th id=\"T_562bec90_d87a_11ea_a5a2_00f48d2c948clevel0_row4\" class=\"row_heading level0 row4\" >NewExist</th>\n",
       "                        <td id=\"T_562bec90_d87a_11ea_a5a2_00f48d2c948crow4_col0\" class=\"data row4 col0\" >-0.07</td>\n",
       "                        <td id=\"T_562bec90_d87a_11ea_a5a2_00f48d2c948crow4_col1\" class=\"data row4 col1\" >0.04</td>\n",
       "                        <td id=\"T_562bec90_d87a_11ea_a5a2_00f48d2c948crow4_col2\" class=\"data row4 col2\" >-0.02</td>\n",
       "                        <td id=\"T_562bec90_d87a_11ea_a5a2_00f48d2c948crow4_col3\" class=\"data row4 col3\" >-0.03</td>\n",
       "                        <td id=\"T_562bec90_d87a_11ea_a5a2_00f48d2c948crow4_col4\" class=\"data row4 col4\" >1.00</td>\n",
       "                        <td id=\"T_562bec90_d87a_11ea_a5a2_00f48d2c948crow4_col5\" class=\"data row4 col5\" >0.01</td>\n",
       "                        <td id=\"T_562bec90_d87a_11ea_a5a2_00f48d2c948crow4_col6\" class=\"data row4 col6\" >-0.09</td>\n",
       "                        <td id=\"T_562bec90_d87a_11ea_a5a2_00f48d2c948crow4_col7\" class=\"data row4 col7\" >0.07</td>\n",
       "                        <td id=\"T_562bec90_d87a_11ea_a5a2_00f48d2c948crow4_col8\" class=\"data row4 col8\" >0.00</td>\n",
       "                        <td id=\"T_562bec90_d87a_11ea_a5a2_00f48d2c948crow4_col9\" class=\"data row4 col9\" >-0.00</td>\n",
       "                        <td id=\"T_562bec90_d87a_11ea_a5a2_00f48d2c948crow4_col10\" class=\"data row4 col10\" >-0.03</td>\n",
       "            </tr>\n",
       "            <tr>\n",
       "                        <th id=\"T_562bec90_d87a_11ea_a5a2_00f48d2c948clevel0_row5\" class=\"row_heading level0 row5\" >CreateJob</th>\n",
       "                        <td id=\"T_562bec90_d87a_11ea_a5a2_00f48d2c948crow5_col0\" class=\"data row5 col0\" >0.02</td>\n",
       "                        <td id=\"T_562bec90_d87a_11ea_a5a2_00f48d2c948crow5_col1\" class=\"data row5 col1\" >0.01</td>\n",
       "                        <td id=\"T_562bec90_d87a_11ea_a5a2_00f48d2c948crow5_col2\" class=\"data row5 col2\" >0.07</td>\n",
       "                        <td id=\"T_562bec90_d87a_11ea_a5a2_00f48d2c948crow5_col3\" class=\"data row5 col3\" >0.03</td>\n",
       "                        <td id=\"T_562bec90_d87a_11ea_a5a2_00f48d2c948crow5_col4\" class=\"data row5 col4\" >0.01</td>\n",
       "                        <td id=\"T_562bec90_d87a_11ea_a5a2_00f48d2c948crow5_col5\" class=\"data row5 col5\" >1.00</td>\n",
       "                        <td id=\"T_562bec90_d87a_11ea_a5a2_00f48d2c948crow5_col6\" class=\"data row5 col6\" >0.13</td>\n",
       "                        <td id=\"T_562bec90_d87a_11ea_a5a2_00f48d2c948crow5_col7\" class=\"data row5 col7\" >0.01</td>\n",
       "                        <td id=\"T_562bec90_d87a_11ea_a5a2_00f48d2c948crow5_col8\" class=\"data row5 col8\" >-0.00</td>\n",
       "                        <td id=\"T_562bec90_d87a_11ea_a5a2_00f48d2c948crow5_col9\" class=\"data row5 col9\" >0.04</td>\n",
       "                        <td id=\"T_562bec90_d87a_11ea_a5a2_00f48d2c948crow5_col10\" class=\"data row5 col10\" >0.14</td>\n",
       "            </tr>\n",
       "            <tr>\n",
       "                        <th id=\"T_562bec90_d87a_11ea_a5a2_00f48d2c948clevel0_row6\" class=\"row_heading level0 row6\" >RetainedJob</th>\n",
       "                        <td id=\"T_562bec90_d87a_11ea_a5a2_00f48d2c948crow6_col0\" class=\"data row6 col0\" >-0.00</td>\n",
       "                        <td id=\"T_562bec90_d87a_11ea_a5a2_00f48d2c948crow6_col1\" class=\"data row6 col1\" >0.10</td>\n",
       "                        <td id=\"T_562bec90_d87a_11ea_a5a2_00f48d2c948crow6_col2\" class=\"data row6 col2\" >0.00</td>\n",
       "                        <td id=\"T_562bec90_d87a_11ea_a5a2_00f48d2c948crow6_col3\" class=\"data row6 col3\" >0.11</td>\n",
       "                        <td id=\"T_562bec90_d87a_11ea_a5a2_00f48d2c948crow6_col4\" class=\"data row6 col4\" >-0.09</td>\n",
       "                        <td id=\"T_562bec90_d87a_11ea_a5a2_00f48d2c948crow6_col5\" class=\"data row6 col5\" >0.13</td>\n",
       "                        <td id=\"T_562bec90_d87a_11ea_a5a2_00f48d2c948crow6_col6\" class=\"data row6 col6\" >1.00</td>\n",
       "                        <td id=\"T_562bec90_d87a_11ea_a5a2_00f48d2c948crow6_col7\" class=\"data row6 col7\" >-0.00</td>\n",
       "                        <td id=\"T_562bec90_d87a_11ea_a5a2_00f48d2c948crow6_col8\" class=\"data row6 col8\" >-0.00</td>\n",
       "                        <td id=\"T_562bec90_d87a_11ea_a5a2_00f48d2c948crow6_col9\" class=\"data row6 col9\" >0.03</td>\n",
       "                        <td id=\"T_562bec90_d87a_11ea_a5a2_00f48d2c948crow6_col10\" class=\"data row6 col10\" >0.10</td>\n",
       "            </tr>\n",
       "            <tr>\n",
       "                        <th id=\"T_562bec90_d87a_11ea_a5a2_00f48d2c948clevel0_row7\" class=\"row_heading level0 row7\" >FranchiseCode</th>\n",
       "                        <td id=\"T_562bec90_d87a_11ea_a5a2_00f48d2c948crow7_col0\" class=\"data row7 col0\" >0.01</td>\n",
       "                        <td id=\"T_562bec90_d87a_11ea_a5a2_00f48d2c948crow7_col1\" class=\"data row7 col1\" >-0.04</td>\n",
       "                        <td id=\"T_562bec90_d87a_11ea_a5a2_00f48d2c948crow7_col2\" class=\"data row7 col2\" >0.06</td>\n",
       "                        <td id=\"T_562bec90_d87a_11ea_a5a2_00f48d2c948crow7_col3\" class=\"data row7 col3\" >0.01</td>\n",
       "                        <td id=\"T_562bec90_d87a_11ea_a5a2_00f48d2c948crow7_col4\" class=\"data row7 col4\" >0.07</td>\n",
       "                        <td id=\"T_562bec90_d87a_11ea_a5a2_00f48d2c948crow7_col5\" class=\"data row7 col5\" >0.01</td>\n",
       "                        <td id=\"T_562bec90_d87a_11ea_a5a2_00f48d2c948crow7_col6\" class=\"data row7 col6\" >-0.00</td>\n",
       "                        <td id=\"T_562bec90_d87a_11ea_a5a2_00f48d2c948crow7_col7\" class=\"data row7 col7\" >1.00</td>\n",
       "                        <td id=\"T_562bec90_d87a_11ea_a5a2_00f48d2c948crow7_col8\" class=\"data row7 col8\" >-0.00</td>\n",
       "                        <td id=\"T_562bec90_d87a_11ea_a5a2_00f48d2c948crow7_col9\" class=\"data row7 col9\" >0.00</td>\n",
       "                        <td id=\"T_562bec90_d87a_11ea_a5a2_00f48d2c948crow7_col10\" class=\"data row7 col10\" >0.09</td>\n",
       "            </tr>\n",
       "            <tr>\n",
       "                        <th id=\"T_562bec90_d87a_11ea_a5a2_00f48d2c948clevel0_row8\" class=\"row_heading level0 row8\" >BalanceGross</th>\n",
       "                        <td id=\"T_562bec90_d87a_11ea_a5a2_00f48d2c948crow8_col0\" class=\"data row8 col0\" >0.00</td>\n",
       "                        <td id=\"T_562bec90_d87a_11ea_a5a2_00f48d2c948crow8_col1\" class=\"data row8 col1\" >-0.00</td>\n",
       "                        <td id=\"T_562bec90_d87a_11ea_a5a2_00f48d2c948crow8_col2\" class=\"data row8 col2\" >0.00</td>\n",
       "                        <td id=\"T_562bec90_d87a_11ea_a5a2_00f48d2c948crow8_col3\" class=\"data row8 col3\" >-0.00</td>\n",
       "                        <td id=\"T_562bec90_d87a_11ea_a5a2_00f48d2c948crow8_col4\" class=\"data row8 col4\" >0.00</td>\n",
       "                        <td id=\"T_562bec90_d87a_11ea_a5a2_00f48d2c948crow8_col5\" class=\"data row8 col5\" >-0.00</td>\n",
       "                        <td id=\"T_562bec90_d87a_11ea_a5a2_00f48d2c948crow8_col6\" class=\"data row8 col6\" >-0.00</td>\n",
       "                        <td id=\"T_562bec90_d87a_11ea_a5a2_00f48d2c948crow8_col7\" class=\"data row8 col7\" >-0.00</td>\n",
       "                        <td id=\"T_562bec90_d87a_11ea_a5a2_00f48d2c948crow8_col8\" class=\"data row8 col8\" >1.00</td>\n",
       "                        <td id=\"T_562bec90_d87a_11ea_a5a2_00f48d2c948crow8_col9\" class=\"data row8 col9\" >-0.00</td>\n",
       "                        <td id=\"T_562bec90_d87a_11ea_a5a2_00f48d2c948crow8_col10\" class=\"data row8 col10\" >0.02</td>\n",
       "            </tr>\n",
       "            <tr>\n",
       "                        <th id=\"T_562bec90_d87a_11ea_a5a2_00f48d2c948clevel0_row9\" class=\"row_heading level0 row9\" >ChgOffPrinGr</th>\n",
       "                        <td id=\"T_562bec90_d87a_11ea_a5a2_00f48d2c948crow9_col0\" class=\"data row9 col0\" >0.03</td>\n",
       "                        <td id=\"T_562bec90_d87a_11ea_a5a2_00f48d2c948crow9_col1\" class=\"data row9 col1\" >-0.01</td>\n",
       "                        <td id=\"T_562bec90_d87a_11ea_a5a2_00f48d2c948crow9_col2\" class=\"data row9 col2\" >-0.07</td>\n",
       "                        <td id=\"T_562bec90_d87a_11ea_a5a2_00f48d2c948crow9_col3\" class=\"data row9 col3\" >0.01</td>\n",
       "                        <td id=\"T_562bec90_d87a_11ea_a5a2_00f48d2c948crow9_col4\" class=\"data row9 col4\" >-0.00</td>\n",
       "                        <td id=\"T_562bec90_d87a_11ea_a5a2_00f48d2c948crow9_col5\" class=\"data row9 col5\" >0.04</td>\n",
       "                        <td id=\"T_562bec90_d87a_11ea_a5a2_00f48d2c948crow9_col6\" class=\"data row9 col6\" >0.03</td>\n",
       "                        <td id=\"T_562bec90_d87a_11ea_a5a2_00f48d2c948crow9_col7\" class=\"data row9 col7\" >0.00</td>\n",
       "                        <td id=\"T_562bec90_d87a_11ea_a5a2_00f48d2c948crow9_col8\" class=\"data row9 col8\" >-0.00</td>\n",
       "                        <td id=\"T_562bec90_d87a_11ea_a5a2_00f48d2c948crow9_col9\" class=\"data row9 col9\" >1.00</td>\n",
       "                        <td id=\"T_562bec90_d87a_11ea_a5a2_00f48d2c948crow9_col10\" class=\"data row9 col10\" >0.24</td>\n",
       "            </tr>\n",
       "            <tr>\n",
       "                        <th id=\"T_562bec90_d87a_11ea_a5a2_00f48d2c948clevel0_row10\" class=\"row_heading level0 row10\" >SBA_Appv</th>\n",
       "                        <td id=\"T_562bec90_d87a_11ea_a5a2_00f48d2c948crow10_col0\" class=\"data row10 col0\" >0.08</td>\n",
       "                        <td id=\"T_562bec90_d87a_11ea_a5a2_00f48d2c948crow10_col1\" class=\"data row10 col1\" >-0.26</td>\n",
       "                        <td id=\"T_562bec90_d87a_11ea_a5a2_00f48d2c948crow10_col2\" class=\"data row10 col2\" >0.54</td>\n",
       "                        <td id=\"T_562bec90_d87a_11ea_a5a2_00f48d2c948crow10_col3\" class=\"data row10 col3\" >0.09</td>\n",
       "                        <td id=\"T_562bec90_d87a_11ea_a5a2_00f48d2c948crow10_col4\" class=\"data row10 col4\" >-0.03</td>\n",
       "                        <td id=\"T_562bec90_d87a_11ea_a5a2_00f48d2c948crow10_col5\" class=\"data row10 col5\" >0.14</td>\n",
       "                        <td id=\"T_562bec90_d87a_11ea_a5a2_00f48d2c948crow10_col6\" class=\"data row10 col6\" >0.10</td>\n",
       "                        <td id=\"T_562bec90_d87a_11ea_a5a2_00f48d2c948crow10_col7\" class=\"data row10 col7\" >0.09</td>\n",
       "                        <td id=\"T_562bec90_d87a_11ea_a5a2_00f48d2c948crow10_col8\" class=\"data row10 col8\" >0.02</td>\n",
       "                        <td id=\"T_562bec90_d87a_11ea_a5a2_00f48d2c948crow10_col9\" class=\"data row10 col9\" >0.24</td>\n",
       "                        <td id=\"T_562bec90_d87a_11ea_a5a2_00f48d2c948crow10_col10\" class=\"data row10 col10\" >1.00</td>\n",
       "            </tr>\n",
       "    </tbody></table>"
      ],
      "text/plain": [
       "<pandas.io.formats.style.Styler at 0x27bf0413c88>"
      ]
     },
     "execution_count": 293,
     "metadata": {},
     "output_type": "execute_result"
    }
   ],
   "source": [
    "corri.style.background_gradient(cmap='coolwarm').set_precision(2)"
   ]
  },
  {
   "cell_type": "code",
   "execution_count": 294,
   "metadata": {},
   "outputs": [],
   "source": [
    "Newdata=df\n",
    "data=df"
   ]
  },
  {
   "cell_type": "code",
   "execution_count": 295,
   "metadata": {},
   "outputs": [
    {
     "data": {
      "text/html": [
       "<div>\n",
       "<style scoped>\n",
       "    .dataframe tbody tr th:only-of-type {\n",
       "        vertical-align: middle;\n",
       "    }\n",
       "\n",
       "    .dataframe tbody tr th {\n",
       "        vertical-align: top;\n",
       "    }\n",
       "\n",
       "    .dataframe thead th {\n",
       "        text-align: right;\n",
       "    }\n",
       "</style>\n",
       "<table border=\"1\" class=\"dataframe\">\n",
       "  <thead>\n",
       "    <tr style=\"text-align: right;\">\n",
       "      <th></th>\n",
       "      <th>City</th>\n",
       "      <th>State</th>\n",
       "      <th>Zip</th>\n",
       "      <th>Bank</th>\n",
       "      <th>BankState</th>\n",
       "      <th>CCSC</th>\n",
       "      <th>ApprovalDate</th>\n",
       "      <th>Term</th>\n",
       "      <th>NoEmp</th>\n",
       "      <th>NewExist</th>\n",
       "      <th>CreateJob</th>\n",
       "      <th>RetainedJob</th>\n",
       "      <th>FranchiseCode</th>\n",
       "      <th>RevLineCr</th>\n",
       "      <th>LowDoc</th>\n",
       "      <th>DisbursementDate</th>\n",
       "      <th>BalanceGross</th>\n",
       "      <th>MIS_Status</th>\n",
       "      <th>ChgOffPrinGr</th>\n",
       "      <th>SBA_Appv</th>\n",
       "    </tr>\n",
       "  </thead>\n",
       "  <tbody>\n",
       "    <tr>\n",
       "      <th>0</th>\n",
       "      <td>EVANSVILLE</td>\n",
       "      <td>IN</td>\n",
       "      <td>47711</td>\n",
       "      <td>FIFTH THIRD BANK</td>\n",
       "      <td>OH</td>\n",
       "      <td>451120</td>\n",
       "      <td>1997-02-28</td>\n",
       "      <td>84</td>\n",
       "      <td>4</td>\n",
       "      <td>2</td>\n",
       "      <td>0</td>\n",
       "      <td>0</td>\n",
       "      <td>1</td>\n",
       "      <td>N</td>\n",
       "      <td>Y</td>\n",
       "      <td>1999-02-28</td>\n",
       "      <td>0.0</td>\n",
       "      <td>P I F</td>\n",
       "      <td>0.0</td>\n",
       "      <td>48000.0</td>\n",
       "    </tr>\n",
       "    <tr>\n",
       "      <th>1</th>\n",
       "      <td>NEW PARIS</td>\n",
       "      <td>IN</td>\n",
       "      <td>46526</td>\n",
       "      <td>1ST SOURCE BANK</td>\n",
       "      <td>IN</td>\n",
       "      <td>722410</td>\n",
       "      <td>1997-02-28</td>\n",
       "      <td>60</td>\n",
       "      <td>2</td>\n",
       "      <td>2</td>\n",
       "      <td>0</td>\n",
       "      <td>0</td>\n",
       "      <td>1</td>\n",
       "      <td>N</td>\n",
       "      <td>Y</td>\n",
       "      <td>1997-05-31</td>\n",
       "      <td>0.0</td>\n",
       "      <td>P I F</td>\n",
       "      <td>0.0</td>\n",
       "      <td>32000.0</td>\n",
       "    </tr>\n",
       "    <tr>\n",
       "      <th>2</th>\n",
       "      <td>BLOOMINGTON</td>\n",
       "      <td>IN</td>\n",
       "      <td>47401</td>\n",
       "      <td>GRANT COUNTY STATE BANK</td>\n",
       "      <td>IN</td>\n",
       "      <td>621210</td>\n",
       "      <td>1997-02-28</td>\n",
       "      <td>180</td>\n",
       "      <td>7</td>\n",
       "      <td>1</td>\n",
       "      <td>0</td>\n",
       "      <td>0</td>\n",
       "      <td>1</td>\n",
       "      <td>N</td>\n",
       "      <td>N</td>\n",
       "      <td>1997-12-31</td>\n",
       "      <td>0.0</td>\n",
       "      <td>P I F</td>\n",
       "      <td>0.0</td>\n",
       "      <td>215250.0</td>\n",
       "    </tr>\n",
       "    <tr>\n",
       "      <th>3</th>\n",
       "      <td>BROKEN ARROW</td>\n",
       "      <td>OK</td>\n",
       "      <td>74012</td>\n",
       "      <td>1ST NATL BK &amp; TR CO OF BROKEN</td>\n",
       "      <td>OK</td>\n",
       "      <td>0</td>\n",
       "      <td>1997-02-28</td>\n",
       "      <td>60</td>\n",
       "      <td>2</td>\n",
       "      <td>1</td>\n",
       "      <td>0</td>\n",
       "      <td>0</td>\n",
       "      <td>1</td>\n",
       "      <td>N</td>\n",
       "      <td>Y</td>\n",
       "      <td>1997-06-30</td>\n",
       "      <td>0.0</td>\n",
       "      <td>P I F</td>\n",
       "      <td>0.0</td>\n",
       "      <td>28000.0</td>\n",
       "    </tr>\n",
       "    <tr>\n",
       "      <th>4</th>\n",
       "      <td>ORLANDO</td>\n",
       "      <td>FL</td>\n",
       "      <td>32801</td>\n",
       "      <td>FLORIDA BUS. DEVEL CORP</td>\n",
       "      <td>FL</td>\n",
       "      <td>0</td>\n",
       "      <td>1997-02-28</td>\n",
       "      <td>240</td>\n",
       "      <td>14</td>\n",
       "      <td>1</td>\n",
       "      <td>7</td>\n",
       "      <td>7</td>\n",
       "      <td>1</td>\n",
       "      <td>N</td>\n",
       "      <td>N</td>\n",
       "      <td>1997-05-14</td>\n",
       "      <td>0.0</td>\n",
       "      <td>P I F</td>\n",
       "      <td>0.0</td>\n",
       "      <td>229000.0</td>\n",
       "    </tr>\n",
       "    <tr>\n",
       "      <th>...</th>\n",
       "      <td>...</td>\n",
       "      <td>...</td>\n",
       "      <td>...</td>\n",
       "      <td>...</td>\n",
       "      <td>...</td>\n",
       "      <td>...</td>\n",
       "      <td>...</td>\n",
       "      <td>...</td>\n",
       "      <td>...</td>\n",
       "      <td>...</td>\n",
       "      <td>...</td>\n",
       "      <td>...</td>\n",
       "      <td>...</td>\n",
       "      <td>...</td>\n",
       "      <td>...</td>\n",
       "      <td>...</td>\n",
       "      <td>...</td>\n",
       "      <td>...</td>\n",
       "      <td>...</td>\n",
       "      <td>...</td>\n",
       "    </tr>\n",
       "    <tr>\n",
       "      <th>149992</th>\n",
       "      <td>Westerville</td>\n",
       "      <td>OH</td>\n",
       "      <td>43082</td>\n",
       "      <td>THE HUNTINGTON NATIONAL BANK</td>\n",
       "      <td>OH</td>\n",
       "      <td>624310</td>\n",
       "      <td>2006-10-30</td>\n",
       "      <td>60</td>\n",
       "      <td>0</td>\n",
       "      <td>1</td>\n",
       "      <td>0</td>\n",
       "      <td>0</td>\n",
       "      <td>0</td>\n",
       "      <td>N</td>\n",
       "      <td>N</td>\n",
       "      <td>2006-11-30</td>\n",
       "      <td>0.0</td>\n",
       "      <td>P I F</td>\n",
       "      <td>0.0</td>\n",
       "      <td>4950.0</td>\n",
       "    </tr>\n",
       "    <tr>\n",
       "      <th>149994</th>\n",
       "      <td>READING</td>\n",
       "      <td>PA</td>\n",
       "      <td>19604</td>\n",
       "      <td>CITIZENS BANK NATL ASSOC</td>\n",
       "      <td>RI</td>\n",
       "      <td>621493</td>\n",
       "      <td>2006-10-30</td>\n",
       "      <td>32</td>\n",
       "      <td>13</td>\n",
       "      <td>1</td>\n",
       "      <td>0</td>\n",
       "      <td>13</td>\n",
       "      <td>0</td>\n",
       "      <td>Y</td>\n",
       "      <td>N</td>\n",
       "      <td>2006-11-30</td>\n",
       "      <td>0.0</td>\n",
       "      <td>CHGOFF</td>\n",
       "      <td>43074.0</td>\n",
       "      <td>50000.0</td>\n",
       "    </tr>\n",
       "    <tr>\n",
       "      <th>149995</th>\n",
       "      <td>Belleville</td>\n",
       "      <td>MI</td>\n",
       "      <td>48111</td>\n",
       "      <td>PNC BANK, NATIONAL ASSOCIATION</td>\n",
       "      <td>DE</td>\n",
       "      <td>236118</td>\n",
       "      <td>2006-10-30</td>\n",
       "      <td>24</td>\n",
       "      <td>8</td>\n",
       "      <td>1</td>\n",
       "      <td>3</td>\n",
       "      <td>5</td>\n",
       "      <td>0</td>\n",
       "      <td>Y</td>\n",
       "      <td>N</td>\n",
       "      <td>2006-11-30</td>\n",
       "      <td>0.0</td>\n",
       "      <td>CHGOFF</td>\n",
       "      <td>18812.0</td>\n",
       "      <td>10000.0</td>\n",
       "    </tr>\n",
       "    <tr>\n",
       "      <th>149996</th>\n",
       "      <td>FAIRFAX</td>\n",
       "      <td>VA</td>\n",
       "      <td>22032</td>\n",
       "      <td>CAPITAL ONE NATL ASSOC</td>\n",
       "      <td>VA</td>\n",
       "      <td>541611</td>\n",
       "      <td>2006-10-30</td>\n",
       "      <td>84</td>\n",
       "      <td>4</td>\n",
       "      <td>1</td>\n",
       "      <td>2</td>\n",
       "      <td>4</td>\n",
       "      <td>0</td>\n",
       "      <td>N</td>\n",
       "      <td>N</td>\n",
       "      <td>2006-11-30</td>\n",
       "      <td>0.0</td>\n",
       "      <td>P I F</td>\n",
       "      <td>0.0</td>\n",
       "      <td>50000.0</td>\n",
       "    </tr>\n",
       "    <tr>\n",
       "      <th>149997</th>\n",
       "      <td>Columbus</td>\n",
       "      <td>OH</td>\n",
       "      <td>43228</td>\n",
       "      <td>THE HUNTINGTON NATIONAL BANK</td>\n",
       "      <td>OH</td>\n",
       "      <td>812990</td>\n",
       "      <td>2006-10-30</td>\n",
       "      <td>60</td>\n",
       "      <td>9</td>\n",
       "      <td>1</td>\n",
       "      <td>0</td>\n",
       "      <td>0</td>\n",
       "      <td>0</td>\n",
       "      <td>Y</td>\n",
       "      <td>N</td>\n",
       "      <td>2007-02-28</td>\n",
       "      <td>0.0</td>\n",
       "      <td>P I F</td>\n",
       "      <td>0.0</td>\n",
       "      <td>12500.0</td>\n",
       "    </tr>\n",
       "  </tbody>\n",
       "</table>\n",
       "<p>120262 rows × 20 columns</p>\n",
       "</div>"
      ],
      "text/plain": [
       "                City State    Zip                            Bank BankState  \\\n",
       "0         EVANSVILLE    IN  47711                FIFTH THIRD BANK        OH   \n",
       "1          NEW PARIS    IN  46526                 1ST SOURCE BANK        IN   \n",
       "2        BLOOMINGTON    IN  47401         GRANT COUNTY STATE BANK        IN   \n",
       "3       BROKEN ARROW    OK  74012   1ST NATL BK & TR CO OF BROKEN        OK   \n",
       "4            ORLANDO    FL  32801         FLORIDA BUS. DEVEL CORP        FL   \n",
       "...              ...   ...    ...                             ...       ...   \n",
       "149992   Westerville    OH  43082    THE HUNTINGTON NATIONAL BANK        OH   \n",
       "149994       READING    PA  19604        CITIZENS BANK NATL ASSOC        RI   \n",
       "149995    Belleville    MI  48111  PNC BANK, NATIONAL ASSOCIATION        DE   \n",
       "149996       FAIRFAX    VA  22032          CAPITAL ONE NATL ASSOC        VA   \n",
       "149997      Columbus    OH  43228    THE HUNTINGTON NATIONAL BANK        OH   \n",
       "\n",
       "          CCSC ApprovalDate  Term  NoEmp  NewExist  CreateJob  RetainedJob  \\\n",
       "0       451120   1997-02-28    84      4         2          0            0   \n",
       "1       722410   1997-02-28    60      2         2          0            0   \n",
       "2       621210   1997-02-28   180      7         1          0            0   \n",
       "3            0   1997-02-28    60      2         1          0            0   \n",
       "4            0   1997-02-28   240     14         1          7            7   \n",
       "...        ...          ...   ...    ...       ...        ...          ...   \n",
       "149992  624310   2006-10-30    60      0         1          0            0   \n",
       "149994  621493   2006-10-30    32     13         1          0           13   \n",
       "149995  236118   2006-10-30    24      8         1          3            5   \n",
       "149996  541611   2006-10-30    84      4         1          2            4   \n",
       "149997  812990   2006-10-30    60      9         1          0            0   \n",
       "\n",
       "        FranchiseCode RevLineCr LowDoc DisbursementDate  BalanceGross  \\\n",
       "0                   1         N      Y       1999-02-28           0.0   \n",
       "1                   1         N      Y       1997-05-31           0.0   \n",
       "2                   1         N      N       1997-12-31           0.0   \n",
       "3                   1         N      Y       1997-06-30           0.0   \n",
       "4                   1         N      N       1997-05-14           0.0   \n",
       "...               ...       ...    ...              ...           ...   \n",
       "149992              0         N      N       2006-11-30           0.0   \n",
       "149994              0         Y      N       2006-11-30           0.0   \n",
       "149995              0         Y      N       2006-11-30           0.0   \n",
       "149996              0         N      N       2006-11-30           0.0   \n",
       "149997              0         Y      N       2007-02-28           0.0   \n",
       "\n",
       "       MIS_Status  ChgOffPrinGr  SBA_Appv  \n",
       "0           P I F           0.0   48000.0  \n",
       "1           P I F           0.0   32000.0  \n",
       "2           P I F           0.0  215250.0  \n",
       "3           P I F           0.0   28000.0  \n",
       "4           P I F           0.0  229000.0  \n",
       "...           ...           ...       ...  \n",
       "149992      P I F           0.0    4950.0  \n",
       "149994     CHGOFF       43074.0   50000.0  \n",
       "149995     CHGOFF       18812.0   10000.0  \n",
       "149996      P I F           0.0   50000.0  \n",
       "149997      P I F           0.0   12500.0  \n",
       "\n",
       "[120262 rows x 20 columns]"
      ]
     },
     "execution_count": 295,
     "metadata": {},
     "output_type": "execute_result"
    }
   ],
   "source": [
    "df"
   ]
  },
  {
   "cell_type": "code",
   "execution_count": 296,
   "metadata": {},
   "outputs": [
    {
     "data": {
      "text/plain": [
       "(7,\n",
       " ['City', 'State', 'Bank', 'BankState', 'RevLineCr', 'LowDoc', 'MIS_Status'])"
      ]
     },
     "execution_count": 296,
     "metadata": {},
     "output_type": "execute_result"
    }
   ],
   "source": [
    "cat_features=[i for i in df.columns if df.dtypes[i]=='object']\n",
    "len(cat_features),cat_features"
   ]
  },
  {
   "cell_type": "code",
   "execution_count": 297,
   "metadata": {},
   "outputs": [
    {
     "data": {
      "text/plain": [
       "LOS ANGELES    1275\n",
       "NEW YORK       1263\n",
       "CHICAGO        1232\n",
       "MIAMI          1230\n",
       "BROOKLYN        958\n",
       "               ... \n",
       "MARISSA           1\n",
       "FLAGLER           1\n",
       "JAROSA            1\n",
       "GRANITE           1\n",
       "KEZAR FALLS       1\n",
       "Name: City, Length: 14425, dtype: int64"
      ]
     },
     "execution_count": 297,
     "metadata": {},
     "output_type": "execute_result"
    }
   ],
   "source": [
    "df.City.value_counts()"
   ]
  },
  {
   "cell_type": "code",
   "execution_count": 298,
   "metadata": {},
   "outputs": [
    {
     "data": {
      "text/plain": [
       "48126    170\n",
       "10001    168\n",
       "33166    160\n",
       "90015    137\n",
       "90010    135\n",
       "        ... \n",
       "93235      1\n",
       "78904      1\n",
       "42058      1\n",
       "33870      1\n",
       "2047       1\n",
       "Name: Zip, Length: 18114, dtype: int64"
      ]
     },
     "execution_count": 298,
     "metadata": {},
     "output_type": "execute_result"
    }
   ],
   "source": [
    "data.Zip.value_counts()"
   ]
  },
  {
   "cell_type": "code",
   "execution_count": 299,
   "metadata": {},
   "outputs": [],
   "source": [
    "dr=['City','Zip','State','Bank','BankState','ApprovalDate','DisbursementDate']\n",
    "data.drop(dr,inplace=True,axis=1)"
   ]
  },
  {
   "cell_type": "code",
   "execution_count": 300,
   "metadata": {},
   "outputs": [
    {
     "data": {
      "text/html": [
       "<div>\n",
       "<style scoped>\n",
       "    .dataframe tbody tr th:only-of-type {\n",
       "        vertical-align: middle;\n",
       "    }\n",
       "\n",
       "    .dataframe tbody tr th {\n",
       "        vertical-align: top;\n",
       "    }\n",
       "\n",
       "    .dataframe thead th {\n",
       "        text-align: right;\n",
       "    }\n",
       "</style>\n",
       "<table border=\"1\" class=\"dataframe\">\n",
       "  <thead>\n",
       "    <tr style=\"text-align: right;\">\n",
       "      <th></th>\n",
       "      <th>CCSC</th>\n",
       "      <th>Term</th>\n",
       "      <th>NoEmp</th>\n",
       "      <th>NewExist</th>\n",
       "      <th>CreateJob</th>\n",
       "      <th>RetainedJob</th>\n",
       "      <th>FranchiseCode</th>\n",
       "      <th>RevLineCr</th>\n",
       "      <th>LowDoc</th>\n",
       "      <th>BalanceGross</th>\n",
       "      <th>MIS_Status</th>\n",
       "      <th>ChgOffPrinGr</th>\n",
       "      <th>SBA_Appv</th>\n",
       "    </tr>\n",
       "  </thead>\n",
       "  <tbody>\n",
       "    <tr>\n",
       "      <th>0</th>\n",
       "      <td>451120</td>\n",
       "      <td>84</td>\n",
       "      <td>4</td>\n",
       "      <td>2</td>\n",
       "      <td>0</td>\n",
       "      <td>0</td>\n",
       "      <td>1</td>\n",
       "      <td>N</td>\n",
       "      <td>Y</td>\n",
       "      <td>0.0</td>\n",
       "      <td>P I F</td>\n",
       "      <td>0.0</td>\n",
       "      <td>48000.0</td>\n",
       "    </tr>\n",
       "    <tr>\n",
       "      <th>1</th>\n",
       "      <td>722410</td>\n",
       "      <td>60</td>\n",
       "      <td>2</td>\n",
       "      <td>2</td>\n",
       "      <td>0</td>\n",
       "      <td>0</td>\n",
       "      <td>1</td>\n",
       "      <td>N</td>\n",
       "      <td>Y</td>\n",
       "      <td>0.0</td>\n",
       "      <td>P I F</td>\n",
       "      <td>0.0</td>\n",
       "      <td>32000.0</td>\n",
       "    </tr>\n",
       "    <tr>\n",
       "      <th>2</th>\n",
       "      <td>621210</td>\n",
       "      <td>180</td>\n",
       "      <td>7</td>\n",
       "      <td>1</td>\n",
       "      <td>0</td>\n",
       "      <td>0</td>\n",
       "      <td>1</td>\n",
       "      <td>N</td>\n",
       "      <td>N</td>\n",
       "      <td>0.0</td>\n",
       "      <td>P I F</td>\n",
       "      <td>0.0</td>\n",
       "      <td>215250.0</td>\n",
       "    </tr>\n",
       "    <tr>\n",
       "      <th>3</th>\n",
       "      <td>0</td>\n",
       "      <td>60</td>\n",
       "      <td>2</td>\n",
       "      <td>1</td>\n",
       "      <td>0</td>\n",
       "      <td>0</td>\n",
       "      <td>1</td>\n",
       "      <td>N</td>\n",
       "      <td>Y</td>\n",
       "      <td>0.0</td>\n",
       "      <td>P I F</td>\n",
       "      <td>0.0</td>\n",
       "      <td>28000.0</td>\n",
       "    </tr>\n",
       "    <tr>\n",
       "      <th>4</th>\n",
       "      <td>0</td>\n",
       "      <td>240</td>\n",
       "      <td>14</td>\n",
       "      <td>1</td>\n",
       "      <td>7</td>\n",
       "      <td>7</td>\n",
       "      <td>1</td>\n",
       "      <td>N</td>\n",
       "      <td>N</td>\n",
       "      <td>0.0</td>\n",
       "      <td>P I F</td>\n",
       "      <td>0.0</td>\n",
       "      <td>229000.0</td>\n",
       "    </tr>\n",
       "  </tbody>\n",
       "</table>\n",
       "</div>"
      ],
      "text/plain": [
       "     CCSC  Term  NoEmp  NewExist  CreateJob  RetainedJob  FranchiseCode  \\\n",
       "0  451120    84      4         2          0            0              1   \n",
       "1  722410    60      2         2          0            0              1   \n",
       "2  621210   180      7         1          0            0              1   \n",
       "3       0    60      2         1          0            0              1   \n",
       "4       0   240     14         1          7            7              1   \n",
       "\n",
       "  RevLineCr LowDoc  BalanceGross MIS_Status  ChgOffPrinGr  SBA_Appv  \n",
       "0         N      Y           0.0      P I F           0.0   48000.0  \n",
       "1         N      Y           0.0      P I F           0.0   32000.0  \n",
       "2         N      N           0.0      P I F           0.0  215250.0  \n",
       "3         N      Y           0.0      P I F           0.0   28000.0  \n",
       "4         N      N           0.0      P I F           0.0  229000.0  "
      ]
     },
     "execution_count": 300,
     "metadata": {},
     "output_type": "execute_result"
    }
   ],
   "source": [
    "data.head()"
   ]
  },
  {
   "cell_type": "code",
   "execution_count": 301,
   "metadata": {},
   "outputs": [],
   "source": [
    "#c=data.ApprovalDate.value_counts().to_dict()"
   ]
  },
  {
   "cell_type": "code",
   "execution_count": 302,
   "metadata": {},
   "outputs": [],
   "source": [
    "#data.ApprovalDate=data.ApprovalDate.map(c)\n",
    "#data.head()"
   ]
  },
  {
   "cell_type": "code",
   "execution_count": 303,
   "metadata": {},
   "outputs": [],
   "source": [
    "#di=data.DisbursementDate.value_counts().to_dict()"
   ]
  },
  {
   "cell_type": "code",
   "execution_count": 304,
   "metadata": {},
   "outputs": [],
   "source": [
    "#data.DisbursementDate=data.DisbursementDate.map(di)\n",
    "#data.head()"
   ]
  },
  {
   "cell_type": "code",
   "execution_count": 305,
   "metadata": {},
   "outputs": [],
   "source": [
    "#df_frequency_map = data.State.value_counts().to_dict()"
   ]
  },
  {
   "cell_type": "code",
   "execution_count": 306,
   "metadata": {},
   "outputs": [
    {
     "data": {
      "text/html": [
       "<div>\n",
       "<style scoped>\n",
       "    .dataframe tbody tr th:only-of-type {\n",
       "        vertical-align: middle;\n",
       "    }\n",
       "\n",
       "    .dataframe tbody tr th {\n",
       "        vertical-align: top;\n",
       "    }\n",
       "\n",
       "    .dataframe thead th {\n",
       "        text-align: right;\n",
       "    }\n",
       "</style>\n",
       "<table border=\"1\" class=\"dataframe\">\n",
       "  <thead>\n",
       "    <tr style=\"text-align: right;\">\n",
       "      <th></th>\n",
       "      <th>CCSC</th>\n",
       "      <th>Term</th>\n",
       "      <th>NoEmp</th>\n",
       "      <th>NewExist</th>\n",
       "      <th>CreateJob</th>\n",
       "      <th>RetainedJob</th>\n",
       "      <th>FranchiseCode</th>\n",
       "      <th>RevLineCr</th>\n",
       "      <th>LowDoc</th>\n",
       "      <th>BalanceGross</th>\n",
       "      <th>MIS_Status</th>\n",
       "      <th>ChgOffPrinGr</th>\n",
       "      <th>SBA_Appv</th>\n",
       "    </tr>\n",
       "  </thead>\n",
       "  <tbody>\n",
       "    <tr>\n",
       "      <th>0</th>\n",
       "      <td>451120</td>\n",
       "      <td>84</td>\n",
       "      <td>4</td>\n",
       "      <td>2</td>\n",
       "      <td>0</td>\n",
       "      <td>0</td>\n",
       "      <td>1</td>\n",
       "      <td>N</td>\n",
       "      <td>Y</td>\n",
       "      <td>0.0</td>\n",
       "      <td>P I F</td>\n",
       "      <td>0.0</td>\n",
       "      <td>48000.0</td>\n",
       "    </tr>\n",
       "    <tr>\n",
       "      <th>1</th>\n",
       "      <td>722410</td>\n",
       "      <td>60</td>\n",
       "      <td>2</td>\n",
       "      <td>2</td>\n",
       "      <td>0</td>\n",
       "      <td>0</td>\n",
       "      <td>1</td>\n",
       "      <td>N</td>\n",
       "      <td>Y</td>\n",
       "      <td>0.0</td>\n",
       "      <td>P I F</td>\n",
       "      <td>0.0</td>\n",
       "      <td>32000.0</td>\n",
       "    </tr>\n",
       "    <tr>\n",
       "      <th>2</th>\n",
       "      <td>621210</td>\n",
       "      <td>180</td>\n",
       "      <td>7</td>\n",
       "      <td>1</td>\n",
       "      <td>0</td>\n",
       "      <td>0</td>\n",
       "      <td>1</td>\n",
       "      <td>N</td>\n",
       "      <td>N</td>\n",
       "      <td>0.0</td>\n",
       "      <td>P I F</td>\n",
       "      <td>0.0</td>\n",
       "      <td>215250.0</td>\n",
       "    </tr>\n",
       "    <tr>\n",
       "      <th>3</th>\n",
       "      <td>0</td>\n",
       "      <td>60</td>\n",
       "      <td>2</td>\n",
       "      <td>1</td>\n",
       "      <td>0</td>\n",
       "      <td>0</td>\n",
       "      <td>1</td>\n",
       "      <td>N</td>\n",
       "      <td>Y</td>\n",
       "      <td>0.0</td>\n",
       "      <td>P I F</td>\n",
       "      <td>0.0</td>\n",
       "      <td>28000.0</td>\n",
       "    </tr>\n",
       "    <tr>\n",
       "      <th>4</th>\n",
       "      <td>0</td>\n",
       "      <td>240</td>\n",
       "      <td>14</td>\n",
       "      <td>1</td>\n",
       "      <td>7</td>\n",
       "      <td>7</td>\n",
       "      <td>1</td>\n",
       "      <td>N</td>\n",
       "      <td>N</td>\n",
       "      <td>0.0</td>\n",
       "      <td>P I F</td>\n",
       "      <td>0.0</td>\n",
       "      <td>229000.0</td>\n",
       "    </tr>\n",
       "  </tbody>\n",
       "</table>\n",
       "</div>"
      ],
      "text/plain": [
       "     CCSC  Term  NoEmp  NewExist  CreateJob  RetainedJob  FranchiseCode  \\\n",
       "0  451120    84      4         2          0            0              1   \n",
       "1  722410    60      2         2          0            0              1   \n",
       "2  621210   180      7         1          0            0              1   \n",
       "3       0    60      2         1          0            0              1   \n",
       "4       0   240     14         1          7            7              1   \n",
       "\n",
       "  RevLineCr LowDoc  BalanceGross MIS_Status  ChgOffPrinGr  SBA_Appv  \n",
       "0         N      Y           0.0      P I F           0.0   48000.0  \n",
       "1         N      Y           0.0      P I F           0.0   32000.0  \n",
       "2         N      N           0.0      P I F           0.0  215250.0  \n",
       "3         N      Y           0.0      P I F           0.0   28000.0  \n",
       "4         N      N           0.0      P I F           0.0  229000.0  "
      ]
     },
     "execution_count": 306,
     "metadata": {},
     "output_type": "execute_result"
    }
   ],
   "source": [
    "#data.State = data.State.map(df_frequency_map)\n",
    "\n",
    "\n",
    "\n",
    "data.head()"
   ]
  },
  {
   "cell_type": "code",
   "execution_count": 307,
   "metadata": {},
   "outputs": [],
   "source": [
    "#f=data.Bank.value_counts().to_dict()"
   ]
  },
  {
   "cell_type": "code",
   "execution_count": 308,
   "metadata": {},
   "outputs": [],
   "source": [
    "#data.Bank = data.Bank.map(f)\n",
    "\n",
    "#data.head()"
   ]
  },
  {
   "cell_type": "code",
   "execution_count": 309,
   "metadata": {},
   "outputs": [],
   "source": [
    "#g=data.BankState.value_counts().to_dict()"
   ]
  },
  {
   "cell_type": "code",
   "execution_count": 310,
   "metadata": {},
   "outputs": [],
   "source": [
    "#data.BankState=data.BankState.map(g)\n",
    "#data.head()"
   ]
  },
  {
   "cell_type": "code",
   "execution_count": 311,
   "metadata": {},
   "outputs": [
    {
     "data": {
      "text/html": [
       "<div>\n",
       "<style scoped>\n",
       "    .dataframe tbody tr th:only-of-type {\n",
       "        vertical-align: middle;\n",
       "    }\n",
       "\n",
       "    .dataframe tbody tr th {\n",
       "        vertical-align: top;\n",
       "    }\n",
       "\n",
       "    .dataframe thead th {\n",
       "        text-align: right;\n",
       "    }\n",
       "</style>\n",
       "<table border=\"1\" class=\"dataframe\">\n",
       "  <thead>\n",
       "    <tr style=\"text-align: right;\">\n",
       "      <th></th>\n",
       "      <th>CCSC</th>\n",
       "      <th>Term</th>\n",
       "      <th>NoEmp</th>\n",
       "      <th>NewExist</th>\n",
       "      <th>CreateJob</th>\n",
       "      <th>RetainedJob</th>\n",
       "      <th>FranchiseCode</th>\n",
       "      <th>RevLineCr</th>\n",
       "      <th>LowDoc</th>\n",
       "      <th>BalanceGross</th>\n",
       "      <th>MIS_Status</th>\n",
       "      <th>ChgOffPrinGr</th>\n",
       "      <th>SBA_Appv</th>\n",
       "    </tr>\n",
       "  </thead>\n",
       "  <tbody>\n",
       "    <tr>\n",
       "      <th>0</th>\n",
       "      <td>451120</td>\n",
       "      <td>84</td>\n",
       "      <td>4</td>\n",
       "      <td>2</td>\n",
       "      <td>0</td>\n",
       "      <td>0</td>\n",
       "      <td>1</td>\n",
       "      <td>N</td>\n",
       "      <td>Y</td>\n",
       "      <td>0.0</td>\n",
       "      <td>P I F</td>\n",
       "      <td>0.0</td>\n",
       "      <td>48000.0</td>\n",
       "    </tr>\n",
       "    <tr>\n",
       "      <th>1</th>\n",
       "      <td>722410</td>\n",
       "      <td>60</td>\n",
       "      <td>2</td>\n",
       "      <td>2</td>\n",
       "      <td>0</td>\n",
       "      <td>0</td>\n",
       "      <td>1</td>\n",
       "      <td>N</td>\n",
       "      <td>Y</td>\n",
       "      <td>0.0</td>\n",
       "      <td>P I F</td>\n",
       "      <td>0.0</td>\n",
       "      <td>32000.0</td>\n",
       "    </tr>\n",
       "    <tr>\n",
       "      <th>2</th>\n",
       "      <td>621210</td>\n",
       "      <td>180</td>\n",
       "      <td>7</td>\n",
       "      <td>1</td>\n",
       "      <td>0</td>\n",
       "      <td>0</td>\n",
       "      <td>1</td>\n",
       "      <td>N</td>\n",
       "      <td>N</td>\n",
       "      <td>0.0</td>\n",
       "      <td>P I F</td>\n",
       "      <td>0.0</td>\n",
       "      <td>215250.0</td>\n",
       "    </tr>\n",
       "    <tr>\n",
       "      <th>3</th>\n",
       "      <td>0</td>\n",
       "      <td>60</td>\n",
       "      <td>2</td>\n",
       "      <td>1</td>\n",
       "      <td>0</td>\n",
       "      <td>0</td>\n",
       "      <td>1</td>\n",
       "      <td>N</td>\n",
       "      <td>Y</td>\n",
       "      <td>0.0</td>\n",
       "      <td>P I F</td>\n",
       "      <td>0.0</td>\n",
       "      <td>28000.0</td>\n",
       "    </tr>\n",
       "    <tr>\n",
       "      <th>4</th>\n",
       "      <td>0</td>\n",
       "      <td>240</td>\n",
       "      <td>14</td>\n",
       "      <td>1</td>\n",
       "      <td>7</td>\n",
       "      <td>7</td>\n",
       "      <td>1</td>\n",
       "      <td>N</td>\n",
       "      <td>N</td>\n",
       "      <td>0.0</td>\n",
       "      <td>P I F</td>\n",
       "      <td>0.0</td>\n",
       "      <td>229000.0</td>\n",
       "    </tr>\n",
       "    <tr>\n",
       "      <th>...</th>\n",
       "      <td>...</td>\n",
       "      <td>...</td>\n",
       "      <td>...</td>\n",
       "      <td>...</td>\n",
       "      <td>...</td>\n",
       "      <td>...</td>\n",
       "      <td>...</td>\n",
       "      <td>...</td>\n",
       "      <td>...</td>\n",
       "      <td>...</td>\n",
       "      <td>...</td>\n",
       "      <td>...</td>\n",
       "      <td>...</td>\n",
       "    </tr>\n",
       "    <tr>\n",
       "      <th>149992</th>\n",
       "      <td>624310</td>\n",
       "      <td>60</td>\n",
       "      <td>0</td>\n",
       "      <td>1</td>\n",
       "      <td>0</td>\n",
       "      <td>0</td>\n",
       "      <td>0</td>\n",
       "      <td>N</td>\n",
       "      <td>N</td>\n",
       "      <td>0.0</td>\n",
       "      <td>P I F</td>\n",
       "      <td>0.0</td>\n",
       "      <td>4950.0</td>\n",
       "    </tr>\n",
       "    <tr>\n",
       "      <th>149994</th>\n",
       "      <td>621493</td>\n",
       "      <td>32</td>\n",
       "      <td>13</td>\n",
       "      <td>1</td>\n",
       "      <td>0</td>\n",
       "      <td>13</td>\n",
       "      <td>0</td>\n",
       "      <td>Y</td>\n",
       "      <td>N</td>\n",
       "      <td>0.0</td>\n",
       "      <td>CHGOFF</td>\n",
       "      <td>43074.0</td>\n",
       "      <td>50000.0</td>\n",
       "    </tr>\n",
       "    <tr>\n",
       "      <th>149995</th>\n",
       "      <td>236118</td>\n",
       "      <td>24</td>\n",
       "      <td>8</td>\n",
       "      <td>1</td>\n",
       "      <td>3</td>\n",
       "      <td>5</td>\n",
       "      <td>0</td>\n",
       "      <td>Y</td>\n",
       "      <td>N</td>\n",
       "      <td>0.0</td>\n",
       "      <td>CHGOFF</td>\n",
       "      <td>18812.0</td>\n",
       "      <td>10000.0</td>\n",
       "    </tr>\n",
       "    <tr>\n",
       "      <th>149996</th>\n",
       "      <td>541611</td>\n",
       "      <td>84</td>\n",
       "      <td>4</td>\n",
       "      <td>1</td>\n",
       "      <td>2</td>\n",
       "      <td>4</td>\n",
       "      <td>0</td>\n",
       "      <td>N</td>\n",
       "      <td>N</td>\n",
       "      <td>0.0</td>\n",
       "      <td>P I F</td>\n",
       "      <td>0.0</td>\n",
       "      <td>50000.0</td>\n",
       "    </tr>\n",
       "    <tr>\n",
       "      <th>149997</th>\n",
       "      <td>812990</td>\n",
       "      <td>60</td>\n",
       "      <td>9</td>\n",
       "      <td>1</td>\n",
       "      <td>0</td>\n",
       "      <td>0</td>\n",
       "      <td>0</td>\n",
       "      <td>Y</td>\n",
       "      <td>N</td>\n",
       "      <td>0.0</td>\n",
       "      <td>P I F</td>\n",
       "      <td>0.0</td>\n",
       "      <td>12500.0</td>\n",
       "    </tr>\n",
       "  </tbody>\n",
       "</table>\n",
       "<p>120262 rows × 13 columns</p>\n",
       "</div>"
      ],
      "text/plain": [
       "          CCSC  Term  NoEmp  NewExist  CreateJob  RetainedJob  FranchiseCode  \\\n",
       "0       451120    84      4         2          0            0              1   \n",
       "1       722410    60      2         2          0            0              1   \n",
       "2       621210   180      7         1          0            0              1   \n",
       "3            0    60      2         1          0            0              1   \n",
       "4            0   240     14         1          7            7              1   \n",
       "...        ...   ...    ...       ...        ...          ...            ...   \n",
       "149992  624310    60      0         1          0            0              0   \n",
       "149994  621493    32     13         1          0           13              0   \n",
       "149995  236118    24      8         1          3            5              0   \n",
       "149996  541611    84      4         1          2            4              0   \n",
       "149997  812990    60      9         1          0            0              0   \n",
       "\n",
       "       RevLineCr LowDoc  BalanceGross MIS_Status  ChgOffPrinGr  SBA_Appv  \n",
       "0              N      Y           0.0      P I F           0.0   48000.0  \n",
       "1              N      Y           0.0      P I F           0.0   32000.0  \n",
       "2              N      N           0.0      P I F           0.0  215250.0  \n",
       "3              N      Y           0.0      P I F           0.0   28000.0  \n",
       "4              N      N           0.0      P I F           0.0  229000.0  \n",
       "...          ...    ...           ...        ...           ...       ...  \n",
       "149992         N      N           0.0      P I F           0.0    4950.0  \n",
       "149994         Y      N           0.0     CHGOFF       43074.0   50000.0  \n",
       "149995         Y      N           0.0     CHGOFF       18812.0   10000.0  \n",
       "149996         N      N           0.0      P I F           0.0   50000.0  \n",
       "149997         Y      N           0.0      P I F           0.0   12500.0  \n",
       "\n",
       "[120262 rows x 13 columns]"
      ]
     },
     "execution_count": 311,
     "metadata": {},
     "output_type": "execute_result"
    }
   ],
   "source": [
    "df"
   ]
  },
  {
   "cell_type": "code",
   "execution_count": 312,
   "metadata": {},
   "outputs": [],
   "source": [
    "#from sklearn.preprocessing import OneHotEncoder\n",
    "#from sklearn.compose import make_column_transformer\n",
    "#column_trans=make_column_transformer((OneHotEncoder(),['RevLineCr','LowDoc']),remainder='passthrough')\n",
    "#df = (column_trans.fit_transform(df))\n"
   ]
  },
  {
   "cell_type": "code",
   "execution_count": 313,
   "metadata": {},
   "outputs": [],
   "source": [
    "from sklearn import preprocessing \n",
    "  \n"
   ]
  },
  {
   "cell_type": "code",
   "execution_count": 314,
   "metadata": {},
   "outputs": [],
   "source": [
    "# label_encoder object knows how to understand word labels. \n",
    "label_encoder = preprocessing.LabelEncoder() \n",
    "  \n",
    "# Encode labels in column 'species'. \n",
    "df['MIS_Status']= label_encoder.fit_transform(df['MIS_Status']) "
   ]
  },
  {
   "cell_type": "code",
   "execution_count": 315,
   "metadata": {},
   "outputs": [],
   "source": [
    "df['RevLineCr']= label_encoder.fit_transform(df['RevLineCr']) "
   ]
  },
  {
   "cell_type": "code",
   "execution_count": 316,
   "metadata": {},
   "outputs": [],
   "source": [
    "df['LowDoc']= label_encoder.fit_transform(df['LowDoc']) "
   ]
  },
  {
   "cell_type": "code",
   "execution_count": 317,
   "metadata": {},
   "outputs": [
    {
     "name": "stdout",
     "output_type": "stream",
     "text": [
      "<class 'pandas.core.frame.DataFrame'>\n",
      "Int64Index: 120262 entries, 0 to 149997\n",
      "Data columns (total 13 columns):\n",
      " #   Column         Non-Null Count   Dtype  \n",
      "---  ------         --------------   -----  \n",
      " 0   CCSC           120262 non-null  int64  \n",
      " 1   Term           120262 non-null  int64  \n",
      " 2   NoEmp          120262 non-null  int64  \n",
      " 3   NewExist       120262 non-null  int64  \n",
      " 4   CreateJob      120262 non-null  int64  \n",
      " 5   RetainedJob    120262 non-null  int64  \n",
      " 6   FranchiseCode  120262 non-null  int64  \n",
      " 7   RevLineCr      120262 non-null  int32  \n",
      " 8   LowDoc         120262 non-null  int32  \n",
      " 9   BalanceGross   120262 non-null  float64\n",
      " 10  MIS_Status     120262 non-null  int32  \n",
      " 11  ChgOffPrinGr   120262 non-null  float64\n",
      " 12  SBA_Appv       120262 non-null  float64\n",
      "dtypes: float64(3), int32(3), int64(7)\n",
      "memory usage: 11.5 MB\n"
     ]
    }
   ],
   "source": [
    "df.info()"
   ]
  },
  {
   "cell_type": "code",
   "execution_count": 318,
   "metadata": {},
   "outputs": [
    {
     "data": {
      "text/plain": [
       "'MIS_Status'"
      ]
     },
     "execution_count": 318,
     "metadata": {},
     "output_type": "execute_result"
    }
   ],
   "source": [
    "#creating independent and dependent features\n",
    "columns1=df.columns.tolist()\n",
    "columns_X=[c for c in columns1 if c not in ['MIS_Status']]\n",
    "target='MIS_Status'\n",
    "target"
   ]
  },
  {
   "cell_type": "code",
   "execution_count": 319,
   "metadata": {},
   "outputs": [
    {
     "data": {
      "text/plain": [
       "(12,\n",
       " ['CCSC',\n",
       "  'Term',\n",
       "  'NoEmp',\n",
       "  'NewExist',\n",
       "  'CreateJob',\n",
       "  'RetainedJob',\n",
       "  'FranchiseCode',\n",
       "  'RevLineCr',\n",
       "  'LowDoc',\n",
       "  'BalanceGross',\n",
       "  'ChgOffPrinGr',\n",
       "  'SBA_Appv'])"
      ]
     },
     "execution_count": 319,
     "metadata": {},
     "output_type": "execute_result"
    }
   ],
   "source": [
    "len(columns_X),columns_X"
   ]
  },
  {
   "cell_type": "code",
   "execution_count": 320,
   "metadata": {},
   "outputs": [
    {
     "data": {
      "text/html": [
       "<div>\n",
       "<style scoped>\n",
       "    .dataframe tbody tr th:only-of-type {\n",
       "        vertical-align: middle;\n",
       "    }\n",
       "\n",
       "    .dataframe tbody tr th {\n",
       "        vertical-align: top;\n",
       "    }\n",
       "\n",
       "    .dataframe thead th {\n",
       "        text-align: right;\n",
       "    }\n",
       "</style>\n",
       "<table border=\"1\" class=\"dataframe\">\n",
       "  <thead>\n",
       "    <tr style=\"text-align: right;\">\n",
       "      <th></th>\n",
       "      <th>CCSC</th>\n",
       "      <th>Term</th>\n",
       "      <th>NoEmp</th>\n",
       "      <th>NewExist</th>\n",
       "      <th>CreateJob</th>\n",
       "      <th>RetainedJob</th>\n",
       "      <th>FranchiseCode</th>\n",
       "      <th>RevLineCr</th>\n",
       "      <th>LowDoc</th>\n",
       "      <th>BalanceGross</th>\n",
       "      <th>MIS_Status</th>\n",
       "      <th>ChgOffPrinGr</th>\n",
       "      <th>SBA_Appv</th>\n",
       "    </tr>\n",
       "  </thead>\n",
       "  <tbody>\n",
       "    <tr>\n",
       "      <th>0</th>\n",
       "      <td>451120</td>\n",
       "      <td>84</td>\n",
       "      <td>4</td>\n",
       "      <td>2</td>\n",
       "      <td>0</td>\n",
       "      <td>0</td>\n",
       "      <td>1</td>\n",
       "      <td>0</td>\n",
       "      <td>1</td>\n",
       "      <td>0.0</td>\n",
       "      <td>1</td>\n",
       "      <td>0.0</td>\n",
       "      <td>48000.0</td>\n",
       "    </tr>\n",
       "    <tr>\n",
       "      <th>1</th>\n",
       "      <td>722410</td>\n",
       "      <td>60</td>\n",
       "      <td>2</td>\n",
       "      <td>2</td>\n",
       "      <td>0</td>\n",
       "      <td>0</td>\n",
       "      <td>1</td>\n",
       "      <td>0</td>\n",
       "      <td>1</td>\n",
       "      <td>0.0</td>\n",
       "      <td>1</td>\n",
       "      <td>0.0</td>\n",
       "      <td>32000.0</td>\n",
       "    </tr>\n",
       "    <tr>\n",
       "      <th>2</th>\n",
       "      <td>621210</td>\n",
       "      <td>180</td>\n",
       "      <td>7</td>\n",
       "      <td>1</td>\n",
       "      <td>0</td>\n",
       "      <td>0</td>\n",
       "      <td>1</td>\n",
       "      <td>0</td>\n",
       "      <td>0</td>\n",
       "      <td>0.0</td>\n",
       "      <td>1</td>\n",
       "      <td>0.0</td>\n",
       "      <td>215250.0</td>\n",
       "    </tr>\n",
       "    <tr>\n",
       "      <th>3</th>\n",
       "      <td>0</td>\n",
       "      <td>60</td>\n",
       "      <td>2</td>\n",
       "      <td>1</td>\n",
       "      <td>0</td>\n",
       "      <td>0</td>\n",
       "      <td>1</td>\n",
       "      <td>0</td>\n",
       "      <td>1</td>\n",
       "      <td>0.0</td>\n",
       "      <td>1</td>\n",
       "      <td>0.0</td>\n",
       "      <td>28000.0</td>\n",
       "    </tr>\n",
       "    <tr>\n",
       "      <th>4</th>\n",
       "      <td>0</td>\n",
       "      <td>240</td>\n",
       "      <td>14</td>\n",
       "      <td>1</td>\n",
       "      <td>7</td>\n",
       "      <td>7</td>\n",
       "      <td>1</td>\n",
       "      <td>0</td>\n",
       "      <td>0</td>\n",
       "      <td>0.0</td>\n",
       "      <td>1</td>\n",
       "      <td>0.0</td>\n",
       "      <td>229000.0</td>\n",
       "    </tr>\n",
       "    <tr>\n",
       "      <th>...</th>\n",
       "      <td>...</td>\n",
       "      <td>...</td>\n",
       "      <td>...</td>\n",
       "      <td>...</td>\n",
       "      <td>...</td>\n",
       "      <td>...</td>\n",
       "      <td>...</td>\n",
       "      <td>...</td>\n",
       "      <td>...</td>\n",
       "      <td>...</td>\n",
       "      <td>...</td>\n",
       "      <td>...</td>\n",
       "      <td>...</td>\n",
       "    </tr>\n",
       "    <tr>\n",
       "      <th>149992</th>\n",
       "      <td>624310</td>\n",
       "      <td>60</td>\n",
       "      <td>0</td>\n",
       "      <td>1</td>\n",
       "      <td>0</td>\n",
       "      <td>0</td>\n",
       "      <td>0</td>\n",
       "      <td>0</td>\n",
       "      <td>0</td>\n",
       "      <td>0.0</td>\n",
       "      <td>1</td>\n",
       "      <td>0.0</td>\n",
       "      <td>4950.0</td>\n",
       "    </tr>\n",
       "    <tr>\n",
       "      <th>149994</th>\n",
       "      <td>621493</td>\n",
       "      <td>32</td>\n",
       "      <td>13</td>\n",
       "      <td>1</td>\n",
       "      <td>0</td>\n",
       "      <td>13</td>\n",
       "      <td>0</td>\n",
       "      <td>1</td>\n",
       "      <td>0</td>\n",
       "      <td>0.0</td>\n",
       "      <td>0</td>\n",
       "      <td>43074.0</td>\n",
       "      <td>50000.0</td>\n",
       "    </tr>\n",
       "    <tr>\n",
       "      <th>149995</th>\n",
       "      <td>236118</td>\n",
       "      <td>24</td>\n",
       "      <td>8</td>\n",
       "      <td>1</td>\n",
       "      <td>3</td>\n",
       "      <td>5</td>\n",
       "      <td>0</td>\n",
       "      <td>1</td>\n",
       "      <td>0</td>\n",
       "      <td>0.0</td>\n",
       "      <td>0</td>\n",
       "      <td>18812.0</td>\n",
       "      <td>10000.0</td>\n",
       "    </tr>\n",
       "    <tr>\n",
       "      <th>149996</th>\n",
       "      <td>541611</td>\n",
       "      <td>84</td>\n",
       "      <td>4</td>\n",
       "      <td>1</td>\n",
       "      <td>2</td>\n",
       "      <td>4</td>\n",
       "      <td>0</td>\n",
       "      <td>0</td>\n",
       "      <td>0</td>\n",
       "      <td>0.0</td>\n",
       "      <td>1</td>\n",
       "      <td>0.0</td>\n",
       "      <td>50000.0</td>\n",
       "    </tr>\n",
       "    <tr>\n",
       "      <th>149997</th>\n",
       "      <td>812990</td>\n",
       "      <td>60</td>\n",
       "      <td>9</td>\n",
       "      <td>1</td>\n",
       "      <td>0</td>\n",
       "      <td>0</td>\n",
       "      <td>0</td>\n",
       "      <td>1</td>\n",
       "      <td>0</td>\n",
       "      <td>0.0</td>\n",
       "      <td>1</td>\n",
       "      <td>0.0</td>\n",
       "      <td>12500.0</td>\n",
       "    </tr>\n",
       "  </tbody>\n",
       "</table>\n",
       "<p>120262 rows × 13 columns</p>\n",
       "</div>"
      ],
      "text/plain": [
       "          CCSC  Term  NoEmp  NewExist  CreateJob  RetainedJob  FranchiseCode  \\\n",
       "0       451120    84      4         2          0            0              1   \n",
       "1       722410    60      2         2          0            0              1   \n",
       "2       621210   180      7         1          0            0              1   \n",
       "3            0    60      2         1          0            0              1   \n",
       "4            0   240     14         1          7            7              1   \n",
       "...        ...   ...    ...       ...        ...          ...            ...   \n",
       "149992  624310    60      0         1          0            0              0   \n",
       "149994  621493    32     13         1          0           13              0   \n",
       "149995  236118    24      8         1          3            5              0   \n",
       "149996  541611    84      4         1          2            4              0   \n",
       "149997  812990    60      9         1          0            0              0   \n",
       "\n",
       "        RevLineCr  LowDoc  BalanceGross  MIS_Status  ChgOffPrinGr  SBA_Appv  \n",
       "0               0       1           0.0           1           0.0   48000.0  \n",
       "1               0       1           0.0           1           0.0   32000.0  \n",
       "2               0       0           0.0           1           0.0  215250.0  \n",
       "3               0       1           0.0           1           0.0   28000.0  \n",
       "4               0       0           0.0           1           0.0  229000.0  \n",
       "...           ...     ...           ...         ...           ...       ...  \n",
       "149992          0       0           0.0           1           0.0    4950.0  \n",
       "149994          1       0           0.0           0       43074.0   50000.0  \n",
       "149995          1       0           0.0           0       18812.0   10000.0  \n",
       "149996          0       0           0.0           1           0.0   50000.0  \n",
       "149997          1       0           0.0           1           0.0   12500.0  \n",
       "\n",
       "[120262 rows x 13 columns]"
      ]
     },
     "execution_count": 320,
     "metadata": {},
     "output_type": "execute_result"
    }
   ],
   "source": [
    "df"
   ]
  },
  {
   "cell_type": "markdown",
   "metadata": {},
   "source": [
    "Independent Features\n",
    "['State',\n",
    "  'Bank',\n",
    "  'BankState',\n",
    "  'CCSC',\n",
    "  'ApprovalDate',\n",
    "  'Term',\n",
    "  'NoEmp',\n",
    "  'NewExist',\n",
    "  'CreateJob',\n",
    "  'RetainedJob',\n",
    "  'FranchiseCode',\n",
    "  'RevLineCr',\n",
    "  'LowDoc',\n",
    "  'DisbursementDate',\n",
    "  'BalanceGross',\n",
    "  'ChgOffPrinGr',\n",
    "  'SBA_Appv'])"
   ]
  },
  {
   "cell_type": "code",
   "execution_count": 321,
   "metadata": {},
   "outputs": [
    {
     "data": {
      "text/plain": [
       "(1500000.0, 500.0)"
      ]
     },
     "execution_count": 321,
     "metadata": {},
     "output_type": "execute_result"
    }
   ],
   "source": [
    "state=np.random.RandomState(42)\n",
    "x=df[columns_X]\n",
    "y=df[target]\n",
    "max(x.SBA_Appv),min(x.SBA_Appv)\n"
   ]
  },
  {
   "cell_type": "code",
   "execution_count": 322,
   "metadata": {},
   "outputs": [],
   "source": [
    "#ExtraTreesClassifier\n",
    "from sklearn.ensemble import ExtraTreesClassifier\n",
    "Model_ETC=ExtraTreesClassifier()\n"
   ]
  },
  {
   "cell_type": "code",
   "execution_count": 323,
   "metadata": {},
   "outputs": [
    {
     "data": {
      "text/plain": [
       "<BarContainer object of 12 artists>"
      ]
     },
     "execution_count": 323,
     "metadata": {},
     "output_type": "execute_result"
    },
    {
     "data": {
      "image/png": "[encoded data removed]",
      "text/plain": [
       "<Figure size 432x288 with 1 Axes>"
      ]
     },
     "metadata": {
      "needs_background": "light"
     },
     "output_type": "display_data"
    }
   ],
   "source": [
    "Model_ETC.fit(x,y)\n",
    "\n",
    "plt.bar(range(len(Model_ETC.feature_importances_)),Model_ETC.feature_importances_)"
   ]
  },
  {
   "cell_type": "code",
   "execution_count": 324,
   "metadata": {},
   "outputs": [
    {
     "name": "stdout",
     "output_type": "stream",
     "text": [
      "[2.31714546e-02 2.88110453e-01 1.01537581e-02 3.55225045e-03\n",
      " 5.63896418e-03 9.33677853e-03 1.57363466e-02 2.96584005e-03\n",
      " 1.57764786e-02 5.81927940e-07 5.97370800e-01 2.81862941e-02]\n"
     ]
    }
   ],
   "source": [
    "print(Model_ETC.feature_importances_)"
   ]
  },
  {
   "cell_type": "code",
   "execution_count": 325,
   "metadata": {},
   "outputs": [
    {
     "name": "stdout",
     "output_type": "stream",
     "text": [
      "[2.54686264e-02 2.82610926e-01 1.02785042e-02 3.32561784e-03\n",
      " 5.37036103e-03 8.67845631e-03 1.66144749e-02 4.73264722e-03\n",
      " 1.26952230e-02 3.35897710e-07 6.03285530e-01 2.69392972e-02]\n"
     ]
    },
    {
     "data": {
      "text/plain": [
       "<BarContainer object of 12 artists>"
      ]
     },
     "execution_count": 325,
     "metadata": {},
     "output_type": "execute_result"
    },
    {
     "data": {
      "image/png": "[encoded data removed]",
      "text/plain": [
       "<Figure size 432x288 with 1 Axes>"
      ]
     },
     "metadata": {
      "needs_background": "light"
     },
     "output_type": "display_data"
    }
   ],
   "source": [
    "#ExtraTreesClassifier\n",
    "from sklearn.ensemble import ExtraTreesClassifier\n",
    "Model_ETC=ExtraTreesClassifier(n_estimators=10)\n",
    "Model_ETC.fit(x,y)\n",
    "print(Model_ETC.feature_importances_)\n",
    "plt.bar(range(len(Model_ETC.feature_importances_)),Model_ETC.feature_importances_)"
   ]
  },
  {
   "cell_type": "code",
   "execution_count": 326,
   "metadata": {},
   "outputs": [],
   "source": [
    "#len(x.State.unique())\n",
    "#x.nunique()"
   ]
  },
  {
   "cell_type": "code",
   "execution_count": 327,
   "metadata": {},
   "outputs": [],
   "source": [
    "from sklearn.model_selection import train_test_split\n",
    "x_train,x_test,y_train,y_test=train_test_split(x,y,test_size=0.2,random_state=10)"
   ]
  },
  {
   "cell_type": "code",
   "execution_count": 328,
   "metadata": {},
   "outputs": [
    {
     "name": "stdout",
     "output_type": "stream",
     "text": [
      "No Frauds 27.32 % of the dataset\n",
      "Frauds 72.68 % of the dataset\n"
     ]
    }
   ],
   "source": [
    "# The classes are heavily skewed we need to solve this issue.\n",
    "print('No Frauds', round(df['MIS_Status'].value_counts()[0]/len(df) * 100,2), '% of the dataset')\n",
    "print('Frauds', round(df['MIS_Status'].value_counts()[1]/len(df) * 100,2), '% of the dataset')"
   ]
  },
  {
   "cell_type": "code",
   "execution_count": 329,
   "metadata": {},
   "outputs": [
    {
     "name": "stdout",
     "output_type": "stream",
     "text": [
      "Distribution of the Classes in the subsample dataset\n",
      "1    0.726755\n",
      "0    0.273245\n",
      "Name: MIS_Status, dtype: float64\n"
     ]
    },
    {
     "data": {
      "image/png": "[encoded data removed]",
      "text/plain": [
       "<Figure size 432x288 with 1 Axes>"
      ]
     },
     "metadata": {
      "needs_background": "light"
     },
     "output_type": "display_data"
    }
   ],
   "source": [
    "import seaborn as sns\n",
    "print('Distribution of the Classes in the subsample dataset')\n",
    "print(df['MIS_Status'].value_counts()/len(df))\n",
    "\n",
    "\n",
    "\n",
    "sns.countplot('MIS_Status', data=df)\n",
    "plt.title('Equally Distributed Classes', fontsize=14)\n",
    "plt.show()"
   ]
  },
  {
   "cell_type": "markdown",
   "metadata": {},
   "source": [
    "#OVERSAMPLING"
   ]
  },
  {
   "cell_type": "code",
   "execution_count": 330,
   "metadata": {},
   "outputs": [],
   "source": [
    "from imblearn.over_sampling import SMOTE\n",
    "smote=SMOTE( random_state=42)"
   ]
  },
  {
   "cell_type": "code",
   "execution_count": 331,
   "metadata": {},
   "outputs": [],
   "source": [
    "x_train_smote,y_train_smote=smote.fit_sample(x_train,y_train)"
   ]
  },
  {
   "cell_type": "code",
   "execution_count": 332,
   "metadata": {},
   "outputs": [
    {
     "name": "stdout",
     "output_type": "stream",
     "text": [
      "before SMOTE: Counter({1: 69892, 0: 26317})\n",
      "after SMOTE: Counter({1: 69892, 0: 69892})\n"
     ]
    }
   ],
   "source": [
    "from collections import Counter\n",
    "print(\"before SMOTE:\",Counter(y_train))\n",
    "print('after SMOTE:',Counter(y_train_smote))"
   ]
  },
  {
   "cell_type": "code",
   "execution_count": 333,
   "metadata": {},
   "outputs": [
    {
     "name": "stdout",
     "output_type": "stream",
     "text": [
      "Distribution of the Classes in the subsample dataset\n"
     ]
    },
    {
     "data": {
      "image/png": "[encoded data removed]",
      "text/plain": [
       "<Figure size 432x288 with 1 Axes>"
      ]
     },
     "metadata": {
      "needs_background": "light"
     },
     "output_type": "display_data"
    }
   ],
   "source": [
    "print('Distribution of the Classes in the subsample dataset')\n",
    "sns.countplot(y_train_smote, data=df)\n",
    "plt.title('Equally Distributed Classes', fontsize=14)\n",
    "plt.show()"
   ]
  },
  {
   "cell_type": "code",
   "execution_count": 334,
   "metadata": {},
   "outputs": [],
   "source": [
    "from sklearn.model_selection import KFold\n",
    "from xgboost.sklearn import XGBClassifier\n",
    "import xgboost as xgb\n",
    "from sklearn.model_selection import GridSearchCV\n",
    "\n"
   ]
  },
  {
   "cell_type": "code",
   "execution_count": 335,
   "metadata": {},
   "outputs": [],
   "source": [
    "cv_method = KFold(n_splits=2, shuffle=True)"
   ]
  },
  {
   "cell_type": "code",
   "execution_count": 336,
   "metadata": {},
   "outputs": [],
   "source": [
    "#param_g=[{'max_depth':[1,2,3,],'learning_rate':[0.1,1],'gama':[0.0],'reg_lambda':[0.0,1.0]}]\n"
   ]
  },
  {
   "cell_type": "code",
   "execution_count": 337,
   "metadata": {},
   "outputs": [],
   "source": [
    "#optimal_param=GridSearchCV(estimator=xgb.XGBClassifier(objective='binary:logistic',subsample=0.75,colsample_bytree=0.5),\n",
    "                           #param_grid=param_g,scoring='roc_auc',n_jobs=10,cv=cv_method)"
   ]
  },
  {
   "cell_type": "code",
   "execution_count": 338,
   "metadata": {},
   "outputs": [],
   "source": [
    "#optimal_param.fit(x_train_smote,y_train_smote)\n"
   ]
  },
  {
   "cell_type": "code",
   "execution_count": 339,
   "metadata": {},
   "outputs": [
    {
     "ename": "IndentationError",
     "evalue": "unexpected indent (<ipython-input-339-d7ad95118e70>, line 2)",
     "output_type": "error",
     "traceback": [
      "\u001b[1;36m  File \u001b[1;32m\"<ipython-input-339-d7ad95118e70>\"\u001b[1;36m, line \u001b[1;32m2\u001b[0m\n\u001b[1;33m    colsample_bytree=1, max_depth=7)\u001b[0m\n\u001b[1;37m    ^\u001b[0m\n\u001b[1;31mIndentationError\u001b[0m\u001b[1;31m:\u001b[0m unexpected indent\n"
     ]
    }
   ],
   "source": [
    "#xgb2 = xgb.XGBClassifier(n_estimators=100, learning_rate=0.08, gamma=0, subsample=0.75,\n",
    "                           #colsample_bytree=1, max_depth=7)\n",
    "#param = [{'max_depth':[1,2,3],'n_estimators':[5,10,25,50],'learning_rate':np.linspace(1e-16,1,3)}]\n",
    "#grid = GridSearchCV(estimator = xgb2,\n",
    "                              #param_grid = param,\n",
    "                               #scoring = 'neg_mean_squared_error',\n",
    "                               #cv = cv_method,\n",
    "                               #n_jobs = -1)"
   ]
  },
  {
   "cell_type": "code",
   "execution_count": 340,
   "metadata": {},
   "outputs": [],
   "source": [
    "\n",
    "xgb2 = xgb.XGBClassifier(n_estimators=100)\n",
    "param = [{'max_depth':[1,2,3],'n_estimators':[5,10,25,50],'learning_rate':np.linspace(1e-16,1,3)}]\n",
    "grid = GridSearchCV(estimator = xgb2,\n",
    "                               param_grid = param,\n",
    "                               scoring = 'roc_auc',\n",
    "                               cv = cv_method)\n"
   ]
  },
  {
   "cell_type": "code",
   "execution_count": null,
   "metadata": {},
   "outputs": [],
   "source": [
    "#xgb2 = xgb.XGBClassifier(n_estimators=100, learning_rate=0.08, gamma=0, subsample=0.75,\n",
    "                           #colsample_bytree=1, max_depth=7)\n",
    "#param = [{'max_depth':[1,2,3],'n_estimators':[5,10,25,50],'learning_rate':np.linspace(1e-16,1,3)}]\n",
    "#grid = GridSearchCV(estimator = xgb2,\n",
    "                               #param_grid = param_g,\n",
    "                               #scoring = 'roc_auc',\n",
    "                               #cv = cv_method,\n",
    "                               #n_jobs = -1)"
   ]
  },
  {
   "cell_type": "code",
   "execution_count": 342,
   "metadata": {},
   "outputs": [
    {
     "data": {
      "text/plain": [
       "GridSearchCV(cv=KFold(n_splits=2, random_state=None, shuffle=True),\n",
       "             estimator=XGBClassifier(base_score=None, booster=None,\n",
       "                                     colsample_bylevel=None,\n",
       "                                     colsample_bynode=None,\n",
       "                                     colsample_bytree=None, gamma=None,\n",
       "                                     gpu_id=None, importance_type='gain',\n",
       "                                     interaction_constraints=None,\n",
       "                                     learning_rate=None, max_delta_step=None,\n",
       "                                     max_depth=None, min_child_weight=None,\n",
       "                                     missing=nan, monotone_constraints=None,\n",
       "                                     n_estimators=100, n_jobs=None,\n",
       "                                     num_parallel_tree=None, random_state=None,\n",
       "                                     reg_alpha=None, reg_lambda=None,\n",
       "                                     scale_pos_weight=None, subsample=None,\n",
       "                                     tree_method=None, validate_parameters=None,\n",
       "                                     verbosity=None),\n",
       "             param_grid=[{'learning_rate': array([1.e-16, 5.e-01, 1.e+00]),\n",
       "                          'max_depth': [1, 2, 3],\n",
       "                          'n_estimators': [5, 10, 25, 50]}],\n",
       "             scoring='roc_auc')"
      ]
     },
     "execution_count": 342,
     "metadata": {},
     "output_type": "execute_result"
    }
   ],
   "source": [
    "grid.fit(x_train_smote,y_train_smote)"
   ]
  },
  {
   "cell_type": "code",
   "execution_count": 343,
   "metadata": {},
   "outputs": [
    {
     "name": "stdout",
     "output_type": "stream",
     "text": [
      "{'learning_rate': 0.5, 'max_depth': 3, 'n_estimators': 25}\n"
     ]
    }
   ],
   "source": [
    "print(grid.best_params_)"
   ]
  },
  {
   "cell_type": "code",
   "execution_count": 344,
   "metadata": {},
   "outputs": [],
   "source": [
    "y_pred=grid.predict(x_test)"
   ]
  },
  {
   "cell_type": "code",
   "execution_count": 345,
   "metadata": {},
   "outputs": [
    {
     "name": "stdout",
     "output_type": "stream",
     "text": [
      "ACCURACY 0.9908535317839771\n"
     ]
    },
    {
     "data": {
      "text/html": [
       "<div>\n",
       "<style scoped>\n",
       "    .dataframe tbody tr th:only-of-type {\n",
       "        vertical-align: middle;\n",
       "    }\n",
       "\n",
       "    .dataframe tbody tr th {\n",
       "        vertical-align: top;\n",
       "    }\n",
       "\n",
       "    .dataframe thead th {\n",
       "        text-align: right;\n",
       "    }\n",
       "</style>\n",
       "<table border=\"1\" class=\"dataframe\">\n",
       "  <thead>\n",
       "    <tr style=\"text-align: right;\">\n",
       "      <th>col_0</th>\n",
       "      <th>0</th>\n",
       "      <th>1</th>\n",
       "    </tr>\n",
       "    <tr>\n",
       "      <th>MIS_Status</th>\n",
       "      <th></th>\n",
       "      <th></th>\n",
       "    </tr>\n",
       "  </thead>\n",
       "  <tbody>\n",
       "    <tr>\n",
       "      <th>0</th>\n",
       "      <td>6537</td>\n",
       "      <td>7</td>\n",
       "    </tr>\n",
       "    <tr>\n",
       "      <th>1</th>\n",
       "      <td>213</td>\n",
       "      <td>17296</td>\n",
       "    </tr>\n",
       "  </tbody>\n",
       "</table>\n",
       "</div>"
      ],
      "text/plain": [
       "col_0          0      1\n",
       "MIS_Status             \n",
       "0           6537      7\n",
       "1            213  17296"
      ]
     },
     "execution_count": 345,
     "metadata": {},
     "output_type": "execute_result"
    }
   ],
   "source": [
    "from sklearn.metrics import accuracy_score \n",
    "print(\"ACCURACY\",accuracy_score(y_test,y_pred))\n",
    "pd.crosstab(y_test,y_pred)"
   ]
  },
  {
   "cell_type": "code",
   "execution_count": 346,
   "metadata": {},
   "outputs": [
    {
     "name": "stdout",
     "output_type": "stream",
     "text": [
      "              precision    recall  f1-score   support\n",
      "\n",
      "           0       0.97      1.00      0.98      6544\n",
      "           1       1.00      0.99      0.99     17509\n",
      "\n",
      "    accuracy                           0.99     24053\n",
      "   macro avg       0.98      0.99      0.99     24053\n",
      "weighted avg       0.99      0.99      0.99     24053\n",
      "\n"
     ]
    }
   ],
   "source": [
    "from sklearn.metrics import classification_report\n",
    "print(classification_report(y_test,y_pred))"
   ]
  },
  {
   "cell_type": "code",
   "execution_count": 347,
   "metadata": {},
   "outputs": [],
   "source": [
    "#plot_confusion_matrix(grid,x_test,y_test,values_format='b')"
   ]
  },
  {
   "cell_type": "code",
   "execution_count": 348,
   "metadata": {},
   "outputs": [
    {
     "name": "stdout",
     "output_type": "stream",
     "text": [
      "No Skill: ROC AUC=0.500\n",
      "oversampling model: ROC AUC=0.997\n"
     ]
    },
    {
     "data": {
      "image/png": "[encoded data removed]",
      "text/plain": [
       "<Figure size 432x288 with 1 Axes>"
      ]
     },
     "metadata": {
      "needs_background": "light"
     },
     "output_type": "display_data"
    }
   ],
   "source": [
    "from sklearn.metrics import roc_auc_score\n",
    "from sklearn.metrics import roc_curve\n",
    "from matplotlib import pyplot\n",
    "# generate a no skill prediction (majority class)\n",
    "ns_probs = [0 for _ in range(len(y_test))]\n",
    "# predict probabilities\n",
    "lr_probs = grid.predict_proba(x_test)\n",
    "# keep probabilities for the positive outcome only\n",
    "lr_probs = lr_probs[:, 1]\n",
    "# calculate scores\n",
    "ns_auc = roc_auc_score(y_test, ns_probs)\n",
    "lr_auc = roc_auc_score(y_test, lr_probs)\n",
    "# summarize scores\n",
    "print('No Skill: ROC AUC=%.3f' % (ns_auc))\n",
    "print('oversampling model: ROC AUC=%.3f' % (lr_auc))\n",
    "# calculate roc curves\n",
    "ns_fpr, ns_tpr, _ = roc_curve(y_test, ns_probs)\n",
    "lr_fpr, lr_tpr, _ = roc_curve(y_test, lr_probs)\n",
    "# plot the roc curve for the model\n",
    "pyplot.plot(ns_fpr, ns_tpr, linestyle='--', label='No Skill')\n",
    "pyplot.plot(lr_fpr, lr_tpr, marker='.', label='roc')\n",
    "# axis labels\n",
    "pyplot.xlabel('False Positive Rate')\n",
    "pyplot.ylabel('True Positive Rate')\n",
    "# show the legend\n",
    "pyplot.legend()\n",
    "# show the plot\n",
    "pyplot.show()"
   ]
  },
  {
   "cell_type": "code",
   "execution_count": 349,
   "metadata": {},
   "outputs": [],
   "source": [
    "#UNDERSAMPLING"
   ]
  },
  {
   "cell_type": "code",
   "execution_count": 350,
   "metadata": {},
   "outputs": [],
   "source": [
    "from imblearn.under_sampling import NearMiss\n"
   ]
  },
  {
   "cell_type": "code",
   "execution_count": 351,
   "metadata": {},
   "outputs": [],
   "source": [
    "nm= NearMiss()"
   ]
  },
  {
   "cell_type": "code",
   "execution_count": 352,
   "metadata": {},
   "outputs": [],
   "source": [
    "x_res,y_res=nm.fit_sample(x_train,y_train)"
   ]
  },
  {
   "cell_type": "code",
   "execution_count": 353,
   "metadata": {},
   "outputs": [
    {
     "name": "stdout",
     "output_type": "stream",
     "text": [
      "before SMOTE: Counter({1: 69892, 0: 26317})\n",
      "after SMOTE: Counter({0: 26317, 1: 26317})\n"
     ]
    }
   ],
   "source": [
    "from collections import Counter\n",
    "print(\"before SMOTE:\",Counter(y_train))\n",
    "print('after SMOTE:',Counter(y_res))"
   ]
  },
  {
   "cell_type": "code",
   "execution_count": 354,
   "metadata": {},
   "outputs": [
    {
     "name": "stdout",
     "output_type": "stream",
     "text": [
      "Distribution of the Classes in the subsample dataset\n"
     ]
    },
    {
     "data": {
      "image/png": "[encoded data removed]",
      "text/plain": [
       "<Figure size 432x288 with 1 Axes>"
      ]
     },
     "metadata": {
      "needs_background": "light"
     },
     "output_type": "display_data"
    }
   ],
   "source": [
    "print('Distribution of the Classes in the subsample dataset')\n",
    "sns.countplot(y_res, data=df)\n",
    "plt.title('Equally Distributed Classes', fontsize=14)\n",
    "plt.show()"
   ]
  },
  {
   "cell_type": "code",
   "execution_count": 355,
   "metadata": {},
   "outputs": [],
   "source": [
    "cv_method = KFold(n_splits=10, shuffle=True)"
   ]
  },
  {
   "cell_type": "code",
   "execution_count": 356,
   "metadata": {},
   "outputs": [],
   "source": [
    "xgb1 = xgb.XGBClassifier(n_estimators=100, learning_rate=0.08, gamma=0, subsample=0.75,\n",
    "                           colsample_bytree=1, max_depth=7)\n",
    "param = [{'max_depth':[1,2,3],'n_estimators':[5,10,25,50],'learning_rate':np.linspace(1e-16,1,3)}]\n",
    "grid1 = GridSearchCV(estimator = xgb1,\n",
    "                               param_grid = param,\n",
    "                               scoring = 'neg_mean_squared_error',\n",
    "                               cv = cv_method)"
   ]
  },
  {
   "cell_type": "code",
   "execution_count": 357,
   "metadata": {},
   "outputs": [
    {
     "data": {
      "text/plain": [
       "GridSearchCV(cv=KFold(n_splits=10, random_state=None, shuffle=True),\n",
       "             estimator=XGBClassifier(base_score=None, booster=None,\n",
       "                                     colsample_bylevel=None,\n",
       "                                     colsample_bynode=None, colsample_bytree=1,\n",
       "                                     gamma=0, gpu_id=None,\n",
       "                                     importance_type='gain',\n",
       "                                     interaction_constraints=None,\n",
       "                                     learning_rate=0.08, max_delta_step=None,\n",
       "                                     max_depth=7, min_child_weight=None,\n",
       "                                     missing=nan, monotone_c...raints=None,\n",
       "                                     n_estimators=100, n_jobs=None,\n",
       "                                     num_parallel_tree=None, random_state=None,\n",
       "                                     reg_alpha=None, reg_lambda=None,\n",
       "                                     scale_pos_weight=None, subsample=0.75,\n",
       "                                     tree_method=None, validate_parameters=None,\n",
       "                                     verbosity=None),\n",
       "             param_grid=[{'learning_rate': array([1.e-16, 5.e-01, 1.e+00]),\n",
       "                          'max_depth': [1, 2, 3],\n",
       "                          'n_estimators': [5, 10, 25, 50]}],\n",
       "             scoring='neg_mean_squared_error')"
      ]
     },
     "execution_count": 357,
     "metadata": {},
     "output_type": "execute_result"
    }
   ],
   "source": [
    "grid1.fit(x_res,y_res)"
   ]
  },
  {
   "cell_type": "code",
   "execution_count": 358,
   "metadata": {},
   "outputs": [],
   "source": [
    "y_pred1=grid1.predict(x_test)"
   ]
  },
  {
   "cell_type": "code",
   "execution_count": 359,
   "metadata": {},
   "outputs": [
    {
     "name": "stdout",
     "output_type": "stream",
     "text": [
      "0.9592150667276431\n"
     ]
    },
    {
     "data": {
      "text/html": [
       "<div>\n",
       "<style scoped>\n",
       "    .dataframe tbody tr th:only-of-type {\n",
       "        vertical-align: middle;\n",
       "    }\n",
       "\n",
       "    .dataframe tbody tr th {\n",
       "        vertical-align: top;\n",
       "    }\n",
       "\n",
       "    .dataframe thead th {\n",
       "        text-align: right;\n",
       "    }\n",
       "</style>\n",
       "<table border=\"1\" class=\"dataframe\">\n",
       "  <thead>\n",
       "    <tr style=\"text-align: right;\">\n",
       "      <th>col_0</th>\n",
       "      <th>0</th>\n",
       "      <th>1</th>\n",
       "    </tr>\n",
       "    <tr>\n",
       "      <th>MIS_Status</th>\n",
       "      <th></th>\n",
       "      <th></th>\n",
       "    </tr>\n",
       "  </thead>\n",
       "  <tbody>\n",
       "    <tr>\n",
       "      <th>0</th>\n",
       "      <td>6529</td>\n",
       "      <td>15</td>\n",
       "    </tr>\n",
       "    <tr>\n",
       "      <th>1</th>\n",
       "      <td>966</td>\n",
       "      <td>16543</td>\n",
       "    </tr>\n",
       "  </tbody>\n",
       "</table>\n",
       "</div>"
      ],
      "text/plain": [
       "col_0          0      1\n",
       "MIS_Status             \n",
       "0           6529     15\n",
       "1            966  16543"
      ]
     },
     "execution_count": 359,
     "metadata": {},
     "output_type": "execute_result"
    }
   ],
   "source": [
    "from sklearn.metrics import accuracy_score \n",
    "print(accuracy_score(y_test,y_pred1))\n",
    "pd.crosstab(y_test,y_pred1)"
   ]
  },
  {
   "cell_type": "code",
   "execution_count": 360,
   "metadata": {},
   "outputs": [
    {
     "name": "stdout",
     "output_type": "stream",
     "text": [
      "              precision    recall  f1-score   support\n",
      "\n",
      "           0       0.87      1.00      0.93      6544\n",
      "           1       1.00      0.94      0.97     17509\n",
      "\n",
      "    accuracy                           0.96     24053\n",
      "   macro avg       0.94      0.97      0.95     24053\n",
      "weighted avg       0.96      0.96      0.96     24053\n",
      "\n"
     ]
    }
   ],
   "source": [
    "print(classification_report(y_test,y_pred1))"
   ]
  },
  {
   "cell_type": "code",
   "execution_count": 361,
   "metadata": {},
   "outputs": [
    {
     "name": "stdout",
     "output_type": "stream",
     "text": [
      "No Skill: ROC AUC=0.500\n",
      "undersampling model: ROC AUC=0.995\n"
     ]
    },
    {
     "data": {
      "image/png": "[encoded data removed]",
      "text/plain": [
       "<Figure size 432x288 with 1 Axes>"
      ]
     },
     "metadata": {
      "needs_background": "light"
     },
     "output_type": "display_data"
    }
   ],
   "source": [
    "from sklearn.metrics import roc_auc_score\n",
    "from sklearn.metrics import roc_curve\n",
    "from matplotlib import pyplot\n",
    "# generate a no skill prediction (majority class)\n",
    "ns_probs = [0 for _ in range(len(y_test))]\n",
    "# predict probabilities\n",
    "lr_probs = grid1.predict_proba(x_test)\n",
    "# keep probabilities for the positive outcome only\n",
    "lr_probs = lr_probs[:, 1]\n",
    "# calculate scores\n",
    "ns_auc = roc_auc_score(y_test, ns_probs)\n",
    "lr_auc = roc_auc_score(y_test, lr_probs)\n",
    "# summarize scores\n",
    "print('No Skill: ROC AUC=%.3f' % (ns_auc))\n",
    "print('undersampling model: ROC AUC=%.3f' % (lr_auc))\n",
    "# calculate roc curves\n",
    "ns_fpr, ns_tpr, _ = roc_curve(y_test, ns_probs)\n",
    "lr_fpr, lr_tpr, _ = roc_curve(y_test, lr_probs)\n",
    "# plot the roc curve for the model\n",
    "pyplot.plot(ns_fpr, ns_tpr, linestyle='--', label='No Skill')\n",
    "pyplot.plot(lr_fpr, lr_tpr, marker='.', label='roc')\n",
    "# axis labels\n",
    "pyplot.xlabel('False Positive Rate')\n",
    "pyplot.ylabel('True Positive Rate')\n",
    "# show the legend\n",
    "pyplot.legend()\n",
    "# show the plot\n",
    "pyplot.show()"
   ]
  },
  {
   "cell_type": "code",
   "execution_count": 362,
   "metadata": {},
   "outputs": [],
   "source": [
    "\n",
    "# ML Pkg\n",
    "from sklearn.linear_model import LogisticRegression\n",
    "from sklearn.ensemble import RandomForestClassifier\n",
    "from sklearn.tree import DecisionTreeClassifier"
   ]
  },
  {
   "cell_type": "code",
   "execution_count": 363,
   "metadata": {},
   "outputs": [],
   "source": [
    "#import pickle\n",
    "#saving model to disk\n",
    "#pickle_out=open('model.pkl','wb')\n",
    "#pickle.dump(grid1,pickle_out)"
   ]
  },
  {
   "cell_type": "code",
   "execution_count": 364,
   "metadata": {},
   "outputs": [],
   "source": [
    "#pickle_out1=open('model.pkl','wb')\n",
    "#pickle.dump(grid,pickle_out1)"
   ]
  },
  {
   "cell_type": "code",
   "execution_count": 365,
   "metadata": {},
   "outputs": [],
   "source": [
    "#pickle_out.close()"
   ]
  },
  {
   "cell_type": "code",
   "execution_count": 366,
   "metadata": {},
   "outputs": [],
   "source": [
    "#pickle_out1.close()"
   ]
  },
  {
   "cell_type": "code",
   "execution_count": 367,
   "metadata": {},
   "outputs": [],
   "source": [
    "clf = DecisionTreeClassifier()"
   ]
  },
  {
   "cell_type": "code",
   "execution_count": 368,
   "metadata": {},
   "outputs": [
    {
     "data": {
      "text/plain": [
       "DecisionTreeClassifier()"
      ]
     },
     "execution_count": 368,
     "metadata": {},
     "output_type": "execute_result"
    }
   ],
   "source": [
    "clf.fit(x_train,y_train)"
   ]
  },
  {
   "cell_type": "code",
   "execution_count": 369,
   "metadata": {},
   "outputs": [
    {
     "data": {
      "text/plain": [
       "0.9802935184800233"
      ]
     },
     "execution_count": 369,
     "metadata": {},
     "output_type": "execute_result"
    }
   ],
   "source": [
    "# Model Accuracy Score\n",
    "clf.score(x_test,y_test)"
   ]
  },
  {
   "cell_type": "code",
   "execution_count": 370,
   "metadata": {},
   "outputs": [
    {
     "name": "stdout",
     "output_type": "stream",
     "text": [
      "0.9908535317839771\n"
     ]
    },
    {
     "data": {
      "text/html": [
       "<div>\n",
       "<style scoped>\n",
       "    .dataframe tbody tr th:only-of-type {\n",
       "        vertical-align: middle;\n",
       "    }\n",
       "\n",
       "    .dataframe tbody tr th {\n",
       "        vertical-align: top;\n",
       "    }\n",
       "\n",
       "    .dataframe thead th {\n",
       "        text-align: right;\n",
       "    }\n",
       "</style>\n",
       "<table border=\"1\" class=\"dataframe\">\n",
       "  <thead>\n",
       "    <tr style=\"text-align: right;\">\n",
       "      <th>col_0</th>\n",
       "      <th>0</th>\n",
       "      <th>1</th>\n",
       "    </tr>\n",
       "    <tr>\n",
       "      <th>MIS_Status</th>\n",
       "      <th></th>\n",
       "      <th></th>\n",
       "    </tr>\n",
       "  </thead>\n",
       "  <tbody>\n",
       "    <tr>\n",
       "      <th>0</th>\n",
       "      <td>6537</td>\n",
       "      <td>7</td>\n",
       "    </tr>\n",
       "    <tr>\n",
       "      <th>1</th>\n",
       "      <td>213</td>\n",
       "      <td>17296</td>\n",
       "    </tr>\n",
       "  </tbody>\n",
       "</table>\n",
       "</div>"
      ],
      "text/plain": [
       "col_0          0      1\n",
       "MIS_Status             \n",
       "0           6537      7\n",
       "1            213  17296"
      ]
     },
     "execution_count": 370,
     "metadata": {},
     "output_type": "execute_result"
    }
   ],
   "source": [
    "y_pred_rf=grid.predict(x_test)\n",
    "print(accuracy_score(y_test,y_pred_rf))\n",
    "pd.crosstab(y_test,y_pred_rf)"
   ]
  },
  {
   "cell_type": "code",
   "execution_count": 371,
   "metadata": {},
   "outputs": [
    {
     "name": "stdout",
     "output_type": "stream",
     "text": [
      "              precision    recall  f1-score   support\n",
      "\n",
      "           0       0.97      1.00      0.98      6544\n",
      "           1       1.00      0.99      0.99     17509\n",
      "\n",
      "    accuracy                           0.99     24053\n",
      "   macro avg       0.98      0.99      0.99     24053\n",
      "weighted avg       0.99      0.99      0.99     24053\n",
      "\n"
     ]
    }
   ],
   "source": [
    "print(classification_report(y_test,y_pred_rf))"
   ]
  },
  {
   "cell_type": "code",
   "execution_count": 372,
   "metadata": {},
   "outputs": [],
   "source": [
    "from sklearn.neighbors import KNeighborsClassifier"
   ]
  },
  {
   "cell_type": "code",
   "execution_count": 373,
   "metadata": {},
   "outputs": [],
   "source": [
    "knn = KNeighborsClassifier(n_neighbors=3)"
   ]
  },
  {
   "cell_type": "code",
   "execution_count": 374,
   "metadata": {},
   "outputs": [
    {
     "data": {
      "text/plain": [
       "KNeighborsClassifier(n_neighbors=3)"
      ]
     },
     "execution_count": 374,
     "metadata": {},
     "output_type": "execute_result"
    }
   ],
   "source": [
    "\n",
    "# Fit\n",
    "knn.fit(x_train,y_train)"
   ]
  },
  {
   "cell_type": "code",
   "execution_count": 375,
   "metadata": {},
   "outputs": [
    {
     "data": {
      "text/plain": [
       "0.9854903754209454"
      ]
     },
     "execution_count": 375,
     "metadata": {},
     "output_type": "execute_result"
    }
   ],
   "source": [
    "\n",
    "# Model Accuracy Score\n",
    "knn.score(x_test,y_test)"
   ]
  },
  {
   "cell_type": "code",
   "execution_count": 377,
   "metadata": {},
   "outputs": [
    {
     "name": "stdout",
     "output_type": "stream",
     "text": [
      "0.9908535317839771\n"
     ]
    },
    {
     "data": {
      "text/html": [
       "<div>\n",
       "<style scoped>\n",
       "    .dataframe tbody tr th:only-of-type {\n",
       "        vertical-align: middle;\n",
       "    }\n",
       "\n",
       "    .dataframe tbody tr th {\n",
       "        vertical-align: top;\n",
       "    }\n",
       "\n",
       "    .dataframe thead th {\n",
       "        text-align: right;\n",
       "    }\n",
       "</style>\n",
       "<table border=\"1\" class=\"dataframe\">\n",
       "  <thead>\n",
       "    <tr style=\"text-align: right;\">\n",
       "      <th>col_0</th>\n",
       "      <th>0</th>\n",
       "      <th>1</th>\n",
       "    </tr>\n",
       "    <tr>\n",
       "      <th>MIS_Status</th>\n",
       "      <th></th>\n",
       "      <th></th>\n",
       "    </tr>\n",
       "  </thead>\n",
       "  <tbody>\n",
       "    <tr>\n",
       "      <th>0</th>\n",
       "      <td>6537</td>\n",
       "      <td>7</td>\n",
       "    </tr>\n",
       "    <tr>\n",
       "      <th>1</th>\n",
       "      <td>213</td>\n",
       "      <td>17296</td>\n",
       "    </tr>\n",
       "  </tbody>\n",
       "</table>\n",
       "</div>"
      ],
      "text/plain": [
       "col_0          0      1\n",
       "MIS_Status             \n",
       "0           6537      7\n",
       "1            213  17296"
      ]
     },
     "execution_count": 377,
     "metadata": {},
     "output_type": "execute_result"
    }
   ],
   "source": [
    "y_pred_knn=grid.predict(x_test)\n",
    "print(accuracy_score(y_test,y_pred_knn))\n",
    "pd.crosstab(y_test,y_pred_knn)"
   ]
  },
  {
   "cell_type": "code",
   "execution_count": 378,
   "metadata": {},
   "outputs": [
    {
     "name": "stdout",
     "output_type": "stream",
     "text": [
      "              precision    recall  f1-score   support\n",
      "\n",
      "           0       0.97      1.00      0.98      6544\n",
      "           1       1.00      0.99      0.99     17509\n",
      "\n",
      "    accuracy                           0.99     24053\n",
      "   macro avg       0.98      0.99      0.99     24053\n",
      "weighted avg       0.99      0.99      0.99     24053\n",
      "\n"
     ]
    }
   ],
   "source": [
    "print(classification_report(y_test,y_pred_knn))"
   ]
  },
  {
   "cell_type": "code",
   "execution_count": 393,
   "metadata": {},
   "outputs": [],
   "source": [
    "random=RandomForestClassifier()"
   ]
  },
  {
   "cell_type": "code",
   "execution_count": 394,
   "metadata": {},
   "outputs": [
    {
     "data": {
      "text/plain": [
       "RandomForestClassifier()"
      ]
     },
     "execution_count": 394,
     "metadata": {},
     "output_type": "execute_result"
    }
   ],
   "source": [
    "random.fit(x_train,y_train)"
   ]
  },
  {
   "cell_type": "code",
   "execution_count": 397,
   "metadata": {},
   "outputs": [
    {
     "data": {
      "text/plain": [
       "0.9999896059620201"
      ]
     },
     "execution_count": 397,
     "metadata": {},
     "output_type": "execute_result"
    }
   ],
   "source": [
    "random.score(x_train,y_train)"
   ]
  },
  {
   "cell_type": "code",
   "execution_count": 396,
   "metadata": {},
   "outputs": [
    {
     "name": "stdout",
     "output_type": "stream",
     "text": [
      "0.9907703820729223\n"
     ]
    }
   ],
   "source": [
    "y_pred_r=random.predict(x_test)\n",
    "pd.crosstab(y_test,y_pred_r)\n",
    "print(accuracy_score(y_test,y_pred_r))"
   ]
  },
  {
   "cell_type": "code",
   "execution_count": 401,
   "metadata": {},
   "outputs": [
    {
     "name": "stdout",
     "output_type": "stream",
     "text": [
      "              precision    recall  f1-score   support\n",
      "\n",
      "           0       0.97      1.00      0.98      6544\n",
      "           1       1.00      0.99      0.99     17509\n",
      "\n",
      "    accuracy                           0.99     24053\n",
      "   macro avg       0.98      0.99      0.99     24053\n",
      "weighted avg       0.99      0.99      0.99     24053\n",
      "\n"
     ]
    }
   ],
   "source": [
    "print(classification_report(y_test,y_pred_r))"
   ]
  },
  {
   "cell_type": "code",
   "execution_count": 407,
   "metadata": {},
   "outputs": [],
   "source": [
    "x_test_m = x_test.values\n",
    "x_train_m = x_train.values"
   ]
  },
  {
   "cell_type": "code",
   "execution_count": 408,
   "metadata": {},
   "outputs": [
    {
     "data": {
      "text/plain": [
       "0.9912170379070565"
      ]
     },
     "execution_count": 408,
     "metadata": {},
     "output_type": "execute_result"
    }
   ],
   "source": [
    "xg = xgb.XGBClassifier(n_estimators=50)\n",
    "xg.fit(x_train_m,y_train)\n",
    "xg.score(x_train_m,y_train)"
   ]
  },
  {
   "cell_type": "code",
   "execution_count": 409,
   "metadata": {},
   "outputs": [
    {
     "name": "stdout",
     "output_type": "stream",
     "text": [
      "0.9908119569284497\n"
     ]
    }
   ],
   "source": [
    "y_pred_xg=xg.predict(x_test_m)\n",
    "pd.crosstab(y_test,y_pred_xg)\n",
    "print(accuracy_score(y_test,y_pred_xg))"
   ]
  },
  {
   "cell_type": "code",
   "execution_count": 410,
   "metadata": {},
   "outputs": [
    {
     "name": "stdout",
     "output_type": "stream",
     "text": [
      "              precision    recall  f1-score   support\n",
      "\n",
      "           0       0.97      1.00      0.98      6544\n",
      "           1       1.00      0.99      0.99     17509\n",
      "\n",
      "    accuracy                           0.99     24053\n",
      "   macro avg       0.98      0.99      0.99     24053\n",
      "weighted avg       0.99      0.99      0.99     24053\n",
      "\n"
     ]
    }
   ],
   "source": [
    "print(classification_report(y_test,y_pred_xg))"
   ]
  },
  {
   "cell_type": "code",
   "execution_count": 382,
   "metadata": {},
   "outputs": [],
   "source": [
    "import joblib"
   ]
  },
  {
   "cell_type": "code",
   "execution_count": 383,
   "metadata": {},
   "outputs": [],
   "source": [
    "model_file_clf = open(\"decision_tree_model.pkl\",\"wb\")\n",
    "joblib.dump(clf,model_file_clf)\n",
    "model_file_clf.close()"
   ]
  },
  {
   "cell_type": "code",
   "execution_count": 384,
   "metadata": {},
   "outputs": [],
   "source": [
    "model_file_knn = open(\"knn_model.pkl\",\"wb\")\n",
    "joblib.dump(knn,model_file_knn)\n",
    "model_file_knn.close()"
   ]
  },
  {
   "cell_type": "code",
   "execution_count": 412,
   "metadata": {},
   "outputs": [],
   "source": [
    "model_r=open(\"rf_model.pkl\",\"wb\")\n",
    "joblib.dump(random,model_r)\n",
    "model_file_knn.close()"
   ]
  },
  {
   "cell_type": "code",
   "execution_count": 411,
   "metadata": {},
   "outputs": [],
   "source": [
    "model_xgb=open(\"xgb_model.pkl\",\"wb\")\n",
    "joblib.dump(xg,model_xgb)\n",
    "model_file_knn.close()"
   ]
  },
  {
   "cell_type": "code",
   "execution_count": 400,
   "metadata": {},
   "outputs": [],
   "source": []
  },
  {
   "cell_type": "code",
   "execution_count": 386,
   "metadata": {},
   "outputs": [],
   "source": [
    "x.to_csv(\"x.csv\")"
   ]
  },
  {
   "cell_type": "code",
   "execution_count": null,
   "metadata": {},
   "outputs": [],
   "source": []
  },
  {
   "cell_type": "code",
   "execution_count": null,
   "metadata": {},
   "outputs": [],
   "source": [
    "#df1=pd.DataFrame(df)\n",
    "#df1"
   ]
  },
  {
   "cell_type": "code",
   "execution_count": null,
   "metadata": {},
   "outputs": [],
   "source": []
  },
  {
   "cell_type": "code",
   "execution_count": null,
   "metadata": {},
   "outputs": [],
   "source": []
  },
  {
   "cell_type": "code",
   "execution_count": null,
   "metadata": {},
   "outputs": [],
   "source": []
  },
  {
   "cell_type": "code",
   "execution_count": null,
   "metadata": {},
   "outputs": [],
   "source": []
  },
  {
   "cell_type": "code",
   "execution_count": null,
   "metadata": {},
   "outputs": [],
   "source": []
  },
  {
   "cell_type": "code",
   "execution_count": null,
   "metadata": {},
   "outputs": [],
   "source": []
  },
  {
   "cell_type": "code",
   "execution_count": null,
   "metadata": {},
   "outputs": [],
   "source": []
  },
  {
   "cell_type": "code",
   "execution_count": null,
   "metadata": {},
   "outputs": [],
   "source": []
  },
  {
   "cell_type": "code",
   "execution_count": null,
   "metadata": {},
   "outputs": [],
   "source": []
  },
  {
   "cell_type": "code",
   "execution_count": null,
   "metadata": {
    "colab": {},
    "colab_type": "code",
    "id": "Z5T8jBrPX3Ei"
   },
   "outputs": [],
   "source": []
  },
  {
   "cell_type": "code",
   "execution_count": null,
   "metadata": {},
   "outputs": [],
   "source": []
  },
  {
   "cell_type": "code",
   "execution_count": null,
   "metadata": {},
   "outputs": [],
   "source": []
  },
  {
   "cell_type": "code",
   "execution_count": null,
   "metadata": {},
   "outputs": [],
   "source": []
  },
  {
   "cell_type": "code",
   "execution_count": null,
   "metadata": {},
   "outputs": [],
   "source": []
  },
  {
   "cell_type": "code",
   "execution_count": null,
   "metadata": {},
   "outputs": [],
   "source": []
  },
  {
   "cell_type": "code",
   "execution_count": null,
   "metadata": {
    "colab": {},
    "colab_type": "code",
    "id": "N9Bm1yKUPVb_"
   },
   "outputs": [],
   "source": []
  },
  {
   "cell_type": "code",
   "execution_count": null,
   "metadata": {},
   "outputs": [],
   "source": []
  }
 ],
 "metadata": {
  "colab": {
   "collapsed_sections": [],
   "name": "ExcelR Project.ipynb",
   "provenance": []
  },
  "kernelspec": {
   "display_name": "Python 3",
   "language": "python",
   "name": "python3"
  },
  "language_info": {
   "codemirror_mode": {
    "name": "ipython",
    "version": 3
   },
   "file_extension": ".py",
   "mimetype": "text/x-python",
   "name": "python",
   "nbconvert_exporter": "python",
   "pygments_lexer": "ipython3",
   "version": "3.7.7"
  }
 },
 "nbformat": 4,
 "nbformat_minor": 1
}
